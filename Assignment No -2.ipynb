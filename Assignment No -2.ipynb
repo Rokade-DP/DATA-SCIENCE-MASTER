{
 "cells": [
  {
   "cell_type": "markdown",
   "id": "4580f713",
   "metadata": {},
   "source": [
    "#### Q1 - Which keyword is used to create a function? Create a function to return a list of odd numbers in the range of 1 to 25."
   ]
  },
  {
   "cell_type": "code",
   "execution_count": 26,
   "id": "3621f826",
   "metadata": {},
   "outputs": [
    {
     "name": "stdout",
     "output_type": "stream",
     "text": [
      "[1, 3, 5, 7, 9, 11, 13, 15, 17, 19, 21, 23, 25]\n"
     ]
    }
   ],
   "source": [
    "## def keyword is used to create a function\n",
    "\n",
    "## function defination\n",
    "def odd_num(lst):\n",
    "    odd_n = []\n",
    "    for i in lst:\n",
    "        if i%2!=0:\n",
    "            odd_n.append(i)\n",
    "            \n",
    "    return odd_n\n",
    "\n",
    "## Driver Code\n",
    "lst = [i for i in range(1,26)]\n",
    "result = odd_num(lst)\n",
    "print(result)"
   ]
  },
  {
   "cell_type": "markdown",
   "id": "cbe29551",
   "metadata": {},
   "source": [
    "#### Q2 - Why *args and **kwargs is used in some functions? Create a function each for *args and **kwargs to demonstrate their use."
   ]
  },
  {
   "cell_type": "code",
   "execution_count": 29,
   "id": "c51fa56d",
   "metadata": {},
   "outputs": [],
   "source": [
    "## basically * args is used if any user want to pass number of parameter that time *args is used \n",
    "## **kwargs is used when user what to pass key value as a parameter"
   ]
  },
  {
   "cell_type": "code",
   "execution_count": 31,
   "id": "0def2ab2",
   "metadata": {},
   "outputs": [
    {
     "data": {
      "text/plain": [
       "(2, 3, 4, 5, 6, 7, 4)"
      ]
     },
     "execution_count": 31,
     "metadata": {},
     "output_type": "execute_result"
    }
   ],
   "source": [
    "## using *args\n",
    "\n",
    "def test(*args):\n",
    "    return args\n",
    "test(2,3,4,5,6,7,4)"
   ]
  },
  {
   "cell_type": "code",
   "execution_count": 39,
   "id": "bb170ea3",
   "metadata": {},
   "outputs": [
    {
     "data": {
      "text/plain": [
       "{'first': 'Geeks', 'mid': 'for', 'last': 'Geeks'}"
      ]
     },
     "execution_count": 39,
     "metadata": {},
     "output_type": "execute_result"
    }
   ],
   "source": [
    "## using **kwargs\n",
    "\n",
    "def test1(**kwargs):\n",
    "    return kwargs\n",
    "test1(first='Geeks', mid='for', last='Geeks')"
   ]
  },
  {
   "cell_type": "markdown",
   "id": "2ce878c8",
   "metadata": {},
   "source": [
    "#### Q3 - What is an iterator in python? Name the method used to initialise the iterator object and the method used for iteration. Use these methods to print the first five elements of the given list [2, 4, 6, 8, 10, 12, 14, 16, 18, 20]."
   ]
  },
  {
   "cell_type": "code",
   "execution_count": 45,
   "id": "c3c8ddbc",
   "metadata": {},
   "outputs": [
    {
     "name": "stdout",
     "output_type": "stream",
     "text": [
      "2\n",
      "4\n",
      "6\n",
      "8\n",
      "10\n"
     ]
    }
   ],
   "source": [
    "# An iterator is an object that can be iterated upon, meaning that you can traverse through all the values.\n",
    "# __iter__()\n",
    "# __next__()\n",
    "l = [2, 4, 6, 8, 10, 12, 14, 16, 18, 20]\n",
    "myit = iter(l)\n",
    "print(next(myit))\n",
    "print(next(myit))\n",
    "print(next(myit))\n",
    "print(next(myit))\n",
    "print(next(myit))\n"
   ]
  },
  {
   "cell_type": "markdown",
   "id": "0f8365e1",
   "metadata": {},
   "source": [
    "#### Q4 - What is a generator function in python? Why yield keyword is used? Give an example of a generator     function."
   ]
  },
  {
   "cell_type": "code",
   "execution_count": 47,
   "id": "a7e3fa7c",
   "metadata": {},
   "outputs": [],
   "source": [
    "## Generator Function :- Generator function is a define as a normal function but it generate the iterator using yeild keyword and also itdoes not use return keyword it used the yeild keyword to iterate\n",
    "## Yield Keyword :- yield keyword is used to create a generator function."
   ]
  },
  {
   "cell_type": "code",
   "execution_count": 57,
   "id": "af7fd964",
   "metadata": {},
   "outputs": [],
   "source": [
    "def test_gen(n):\n",
    "    a,b = 0,1\n",
    "    for i in range(n):\n",
    "        yield a\n",
    "        a,b = b,a+b"
   ]
  },
  {
   "cell_type": "code",
   "execution_count": 59,
   "id": "61eabc5d",
   "metadata": {},
   "outputs": [
    {
     "data": {
      "text/plain": [
       "[0, 1, 1, 2, 3, 5, 8, 13, 21, 34]"
      ]
     },
     "execution_count": 59,
     "metadata": {},
     "output_type": "execute_result"
    }
   ],
   "source": [
    "list(test_gen(10))"
   ]
  },
  {
   "cell_type": "markdown",
   "id": "7b42d680",
   "metadata": {},
   "source": [
    "#### Q5 - Create a generator function for prime numbers less than 1000. Use the next() method to print thefirst 20 prime numbers."
   ]
  },
  {
   "cell_type": "code",
   "execution_count": 82,
   "id": "cbec157e",
   "metadata": {},
   "outputs": [],
   "source": [
    "## Generator function for prime number\n",
    "def prime_num(l):\n",
    "    for i in l:\n",
    "        for j in range(2,i):\n",
    "            if i%j==0:\n",
    "                break\n",
    "        else:\n",
    "            yield i\n",
    "                \n",
    "                "
   ]
  },
  {
   "cell_type": "code",
   "execution_count": 83,
   "id": "9ed9e8c6",
   "metadata": {},
   "outputs": [
    {
     "data": {
      "text/plain": [
       "[0, 1, 2, 3, 5, 7, 11, 13, 17, 19]"
      ]
     },
     "execution_count": 83,
     "metadata": {},
     "output_type": "execute_result"
    }
   ],
   "source": [
    "l = [i for i in range(21)]\n",
    "list(prime_num(l))"
   ]
  },
  {
   "cell_type": "code",
   "execution_count": null,
   "id": "1e240f85",
   "metadata": {},
   "outputs": [],
   "source": []
  },
  {
   "cell_type": "code",
   "execution_count": null,
   "id": "797370bd",
   "metadata": {},
   "outputs": [],
   "source": []
  }
 ],
 "metadata": {
  "kernelspec": {
   "display_name": "Python 3 (ipykernel)",
   "language": "python",
   "name": "python3"
  },
  "language_info": {
   "codemirror_mode": {
    "name": "ipython",
    "version": 3
   },
   "file_extension": ".py",
   "mimetype": "text/x-python",
   "name": "python",
   "nbconvert_exporter": "python",
   "pygments_lexer": "ipython3",
   "version": "3.11.5"
  }
 },
 "nbformat": 4,
 "nbformat_minor": 5
}
