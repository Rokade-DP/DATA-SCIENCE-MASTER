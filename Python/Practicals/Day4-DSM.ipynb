{
 "cells": [
  {
   "cell_type": "markdown",
   "id": "4d6e2ff4",
   "metadata": {},
   "source": [
    "# LIST"
   ]
  },
  {
   "cell_type": "markdown",
   "id": "dde6c3c9",
   "metadata": {},
   "source": [
    "## DAY - 4 Python"
   ]
  },
  {
   "cell_type": "code",
   "execution_count": 1,
   "id": "cf2c284b",
   "metadata": {},
   "outputs": [
    {
     "data": {
      "text/plain": [
       "list"
      ]
     },
     "execution_count": 1,
     "metadata": {},
     "output_type": "execute_result"
    }
   ],
   "source": [
    "type([])"
   ]
  },
  {
   "cell_type": "code",
   "execution_count": 2,
   "id": "ea7fb74a",
   "metadata": {},
   "outputs": [
    {
     "data": {
      "text/plain": [
       "['Krish', 'Naik', 'Pwskills', 32]"
      ]
     },
     "execution_count": 2,
     "metadata": {},
     "output_type": "execute_result"
    }
   ],
   "source": [
    "['Krish','Naik','Pwskills',32]"
   ]
  },
  {
   "cell_type": "code",
   "execution_count": 3,
   "id": "a6e2d0f9",
   "metadata": {},
   "outputs": [
    {
     "data": {
      "text/plain": [
       "[1, 2, 3, 4, 5, 6]"
      ]
     },
     "execution_count": 3,
     "metadata": {},
     "output_type": "execute_result"
    }
   ],
   "source": [
    "list([1,2,3,4,5,6])"
   ]
  },
  {
   "cell_type": "code",
   "execution_count": 5,
   "id": "28ccc3a7",
   "metadata": {},
   "outputs": [],
   "source": [
    "str2 = \"Shriram\""
   ]
  },
  {
   "cell_type": "code",
   "execution_count": 6,
   "id": "0561cf1b",
   "metadata": {},
   "outputs": [
    {
     "data": {
      "text/plain": [
       "['Shriram']"
      ]
     },
     "execution_count": 6,
     "metadata": {},
     "output_type": "execute_result"
    }
   ],
   "source": [
    "list([str2])"
   ]
  },
  {
   "cell_type": "code",
   "execution_count": 7,
   "id": "4257cb4b",
   "metadata": {},
   "outputs": [
    {
     "data": {
      "text/plain": [
       "['S', 'h', 'r', 'i', 'r', 'a', 'm']"
      ]
     },
     "execution_count": 7,
     "metadata": {},
     "output_type": "execute_result"
    }
   ],
   "source": [
    "list(str2)"
   ]
  },
  {
   "cell_type": "code",
   "execution_count": 8,
   "id": "abbc0bd1",
   "metadata": {},
   "outputs": [],
   "source": [
    "str1 = \"My name is Dhananjay\""
   ]
  },
  {
   "cell_type": "code",
   "execution_count": 10,
   "id": "2fd15094",
   "metadata": {},
   "outputs": [],
   "source": [
    "lst1 = list(str1.split(\" \"))"
   ]
  },
  {
   "cell_type": "code",
   "execution_count": 13,
   "id": "2580e321",
   "metadata": {},
   "outputs": [
    {
     "data": {
      "text/plain": [
       "['name', 'is', 'Dhananjay']"
      ]
     },
     "execution_count": 13,
     "metadata": {},
     "output_type": "execute_result"
    }
   ],
   "source": [
    "lst1[1:]\n"
   ]
  },
  {
   "cell_type": "code",
   "execution_count": 14,
   "id": "56f66ee2",
   "metadata": {},
   "outputs": [
    {
     "data": {
      "text/plain": [
       "['Dhananjay', 'is', 'name', 'My']"
      ]
     },
     "execution_count": 14,
     "metadata": {},
     "output_type": "execute_result"
    }
   ],
   "source": [
    "lst1[::-1]"
   ]
  },
  {
   "cell_type": "code",
   "execution_count": 15,
   "id": "d5f3171e",
   "metadata": {},
   "outputs": [
    {
     "data": {
      "text/plain": [
       "['My', 'name', 'is', 'Dhananjay']"
      ]
     },
     "execution_count": 15,
     "metadata": {},
     "output_type": "execute_result"
    }
   ],
   "source": [
    "lst1[:]"
   ]
  },
  {
   "cell_type": "code",
   "execution_count": 17,
   "id": "9e39b30c",
   "metadata": {},
   "outputs": [],
   "source": [
    "lst1[2] = \"Ganesh\""
   ]
  },
  {
   "cell_type": "code",
   "execution_count": 18,
   "id": "1cea17d0",
   "metadata": {},
   "outputs": [
    {
     "data": {
      "text/plain": [
       "['My', 'name', 'Ganesh', 'Dhananjay']"
      ]
     },
     "execution_count": 18,
     "metadata": {},
     "output_type": "execute_result"
    }
   ],
   "source": [
    "lst1"
   ]
  },
  {
   "cell_type": "code",
   "execution_count": 19,
   "id": "fce0e08f",
   "metadata": {},
   "outputs": [],
   "source": [
    "## concatenate operation\n",
    "lst2 = lst1 + [\"Hello\",4]"
   ]
  },
  {
   "cell_type": "code",
   "execution_count": 20,
   "id": "2350f1a1",
   "metadata": {},
   "outputs": [
    {
     "data": {
      "text/plain": [
       "['My', 'name', 'Ganesh', 'Dhananjay', 'Hello', 4]"
      ]
     },
     "execution_count": 20,
     "metadata": {},
     "output_type": "execute_result"
    }
   ],
   "source": [
    "lst2"
   ]
  },
  {
   "cell_type": "code",
   "execution_count": 21,
   "id": "937e3794",
   "metadata": {},
   "outputs": [
    {
     "data": {
      "text/plain": [
       "['My',\n",
       " 'name',\n",
       " 'Ganesh',\n",
       " 'Dhananjay',\n",
       " 'Hello',\n",
       " 4,\n",
       " 'My',\n",
       " 'name',\n",
       " 'Ganesh',\n",
       " 'Dhananjay',\n",
       " 'Hello',\n",
       " 4]"
      ]
     },
     "execution_count": 21,
     "metadata": {},
     "output_type": "execute_result"
    }
   ],
   "source": [
    "lst2*2"
   ]
  },
  {
   "cell_type": "code",
   "execution_count": 22,
   "id": "7e07ea82",
   "metadata": {},
   "outputs": [
    {
     "name": "stdout",
     "output_type": "stream",
     "text": [
      "Present  Hai\n"
     ]
    }
   ],
   "source": [
    "if \"Dhananjay\" in lst1:\n",
    "    print(\"Present  Hai\")"
   ]
  },
  {
   "cell_type": "code",
   "execution_count": 23,
   "id": "3ff78198",
   "metadata": {},
   "outputs": [
    {
     "data": {
      "text/plain": [
       "True"
      ]
     },
     "execution_count": 23,
     "metadata": {},
     "output_type": "execute_result"
    }
   ],
   "source": [
    "## check element inside a list\n",
    "lst = [1,2,3,4]\n",
    "4 in lst"
   ]
  },
  {
   "cell_type": "code",
   "execution_count": 24,
   "id": "2bcfcdc6",
   "metadata": {},
   "outputs": [],
   "source": [
    "lst1 = [\"Zebra\",\"Monkey\",\"Donkey\",\"Lion\"]\n",
    "lst2 = [1,2,3,4,6,5,7,6,9]"
   ]
  },
  {
   "cell_type": "code",
   "execution_count": 25,
   "id": "0b0a2257",
   "metadata": {},
   "outputs": [
    {
     "name": "stdout",
     "output_type": "stream",
     "text": [
      "Zebra\n"
     ]
    }
   ],
   "source": [
    "print(max(lst1))"
   ]
  },
  {
   "cell_type": "code",
   "execution_count": 26,
   "id": "26dba47a",
   "metadata": {},
   "outputs": [
    {
     "name": "stdout",
     "output_type": "stream",
     "text": [
      "9\n"
     ]
    }
   ],
   "source": [
    "print(max(lst2))"
   ]
  },
  {
   "cell_type": "code",
   "execution_count": 27,
   "id": "bdaea880",
   "metadata": {},
   "outputs": [
    {
     "data": {
      "text/plain": [
       "'Donkey'"
      ]
     },
     "execution_count": 27,
     "metadata": {},
     "output_type": "execute_result"
    }
   ],
   "source": [
    "min(lst1)"
   ]
  },
  {
   "cell_type": "code",
   "execution_count": 29,
   "id": "32394c6d",
   "metadata": {},
   "outputs": [
    {
     "data": {
      "text/plain": [
       "1"
      ]
     },
     "execution_count": 29,
     "metadata": {},
     "output_type": "execute_result"
    }
   ],
   "source": [
    "min(lst2)"
   ]
  },
  {
   "cell_type": "code",
   "execution_count": 30,
   "id": "8f9b1746",
   "metadata": {},
   "outputs": [],
   "source": [
    "## Append"
   ]
  },
  {
   "cell_type": "code",
   "execution_count": 31,
   "id": "c73ec9f3",
   "metadata": {},
   "outputs": [],
   "source": [
    "lst = [1,2,3,4,5,6]"
   ]
  },
  {
   "cell_type": "code",
   "execution_count": 32,
   "id": "7ba40a43",
   "metadata": {},
   "outputs": [
    {
     "data": {
      "text/plain": [
       "[1, 2, 3, 4, 5, 6]"
      ]
     },
     "execution_count": 32,
     "metadata": {},
     "output_type": "execute_result"
    }
   ],
   "source": [
    "lst"
   ]
  },
  {
   "cell_type": "code",
   "execution_count": 34,
   "id": "d4573cf7",
   "metadata": {},
   "outputs": [],
   "source": [
    "lst.append(\"PwSkills\")"
   ]
  },
  {
   "cell_type": "code",
   "execution_count": 35,
   "id": "e3de1c53",
   "metadata": {},
   "outputs": [
    {
     "data": {
      "text/plain": [
       "[1, 2, 3, 4, 5, 6, 'PwSkills']"
      ]
     },
     "execution_count": 35,
     "metadata": {},
     "output_type": "execute_result"
    }
   ],
   "source": [
    "lst"
   ]
  },
  {
   "cell_type": "code",
   "execution_count": 36,
   "id": "597dd698",
   "metadata": {},
   "outputs": [],
   "source": [
    "lst.append([\"Data\",\"Science\",\"Masters\"])"
   ]
  },
  {
   "cell_type": "code",
   "execution_count": 37,
   "id": "7fc51f14",
   "metadata": {},
   "outputs": [
    {
     "data": {
      "text/plain": [
       "[1, 2, 3, 4, 5, 6, 'PwSkills', ['Data', 'Science', 'Masters']]"
      ]
     },
     "execution_count": 37,
     "metadata": {},
     "output_type": "execute_result"
    }
   ],
   "source": [
    "lst"
   ]
  },
  {
   "cell_type": "code",
   "execution_count": 38,
   "id": "77155050",
   "metadata": {},
   "outputs": [
    {
     "data": {
      "text/plain": [
       "['Data', 'Science', 'Masters']"
      ]
     },
     "execution_count": 38,
     "metadata": {},
     "output_type": "execute_result"
    }
   ],
   "source": [
    "lst.pop()"
   ]
  },
  {
   "cell_type": "code",
   "execution_count": 40,
   "id": "d5818e60",
   "metadata": {},
   "outputs": [],
   "source": [
    "element = lst.pop(0)"
   ]
  },
  {
   "cell_type": "code",
   "execution_count": 41,
   "id": "88fcdafb",
   "metadata": {
    "scrolled": true
   },
   "outputs": [
    {
     "name": "stdout",
     "output_type": "stream",
     "text": [
      "2\n"
     ]
    }
   ],
   "source": [
    "print(element)"
   ]
  },
  {
   "cell_type": "code",
   "execution_count": 42,
   "id": "7ab72786",
   "metadata": {},
   "outputs": [
    {
     "data": {
      "text/plain": [
       "[3, 4, 5, 6, 'PwSkills']"
      ]
     },
     "execution_count": 42,
     "metadata": {},
     "output_type": "execute_result"
    }
   ],
   "source": [
    "lst"
   ]
  },
  {
   "cell_type": "code",
   "execution_count": 43,
   "id": "04fe2f2c",
   "metadata": {},
   "outputs": [],
   "source": [
    "## Sorting and Reversed Method in list"
   ]
  },
  {
   "cell_type": "code",
   "execution_count": 44,
   "id": "8a5c3b1a",
   "metadata": {},
   "outputs": [
    {
     "data": {
      "text/plain": [
       "['q', 'e', 'f', 's', 't', 'u']"
      ]
     },
     "execution_count": 44,
     "metadata": {},
     "output_type": "execute_result"
    }
   ],
   "source": [
    "new_list = ['q','e','f','s','t','u']\n",
    "new_list"
   ]
  },
  {
   "cell_type": "code",
   "execution_count": 45,
   "id": "96604c59",
   "metadata": {},
   "outputs": [
    {
     "data": {
      "text/plain": [
       "['u', 't', 's', 'f', 'e', 'q']"
      ]
     },
     "execution_count": 45,
     "metadata": {},
     "output_type": "execute_result"
    }
   ],
   "source": [
    "new_list[::-1]"
   ]
  },
  {
   "cell_type": "code",
   "execution_count": 47,
   "id": "3e0f4835",
   "metadata": {},
   "outputs": [],
   "source": [
    "## inplace"
   ]
  },
  {
   "cell_type": "code",
   "execution_count": 48,
   "id": "820f94b9",
   "metadata": {},
   "outputs": [],
   "source": [
    "new_list.reverse()"
   ]
  },
  {
   "cell_type": "code",
   "execution_count": 49,
   "id": "e9e7c5e0",
   "metadata": {},
   "outputs": [
    {
     "data": {
      "text/plain": [
       "['u', 't', 's', 'f', 'e', 'q']"
      ]
     },
     "execution_count": 49,
     "metadata": {},
     "output_type": "execute_result"
    }
   ],
   "source": [
    "new_list"
   ]
  },
  {
   "cell_type": "code",
   "execution_count": 50,
   "id": "229d7f3d",
   "metadata": {},
   "outputs": [],
   "source": [
    "new_list.sort()"
   ]
  },
  {
   "cell_type": "code",
   "execution_count": 51,
   "id": "1ea6a950",
   "metadata": {},
   "outputs": [
    {
     "data": {
      "text/plain": [
       "['e', 'f', 'q', 's', 't', 'u']"
      ]
     },
     "execution_count": 51,
     "metadata": {},
     "output_type": "execute_result"
    }
   ],
   "source": [
    "new_list"
   ]
  },
  {
   "cell_type": "code",
   "execution_count": 52,
   "id": "e1317c69",
   "metadata": {},
   "outputs": [],
   "source": [
    "new_list.sort(reverse=True)"
   ]
  },
  {
   "cell_type": "code",
   "execution_count": 53,
   "id": "fafa0f6e",
   "metadata": {},
   "outputs": [
    {
     "data": {
      "text/plain": [
       "['u', 't', 's', 'q', 'f', 'e']"
      ]
     },
     "execution_count": 53,
     "metadata": {},
     "output_type": "execute_result"
    }
   ],
   "source": [
    "new_list"
   ]
  },
  {
   "cell_type": "code",
   "execution_count": 55,
   "id": "0ebb8177",
   "metadata": {},
   "outputs": [],
   "source": [
    "lst = [1,2,3,4,5,6,7]\n",
    "lst.append(10)"
   ]
  },
  {
   "cell_type": "code",
   "execution_count": 56,
   "id": "31b3711a",
   "metadata": {},
   "outputs": [
    {
     "data": {
      "text/plain": [
       "[1, 2, 3, 4, 5, 6, 7, 10]"
      ]
     },
     "execution_count": 56,
     "metadata": {},
     "output_type": "execute_result"
    }
   ],
   "source": [
    "lst"
   ]
  },
  {
   "cell_type": "code",
   "execution_count": 57,
   "id": "097ff226",
   "metadata": {},
   "outputs": [],
   "source": [
    "lst.append([\"Pw\",\"Skills\"])"
   ]
  },
  {
   "cell_type": "code",
   "execution_count": 58,
   "id": "091fe045",
   "metadata": {},
   "outputs": [
    {
     "data": {
      "text/plain": [
       "[1, 2, 3, 4, 5, 6, 7, 10, ['Pw', 'Skills']]"
      ]
     },
     "execution_count": 58,
     "metadata": {},
     "output_type": "execute_result"
    }
   ],
   "source": [
    "lst"
   ]
  },
  {
   "cell_type": "code",
   "execution_count": 59,
   "id": "1d172360",
   "metadata": {},
   "outputs": [],
   "source": [
    "lst.extend([\"Jay\",\"Shree\",\"Ram\"])"
   ]
  },
  {
   "cell_type": "code",
   "execution_count": 60,
   "id": "3d1b4a3e",
   "metadata": {},
   "outputs": [
    {
     "data": {
      "text/plain": [
       "[1, 2, 3, 4, 5, 6, 7, 10, ['Pw', 'Skills'], 'Jay', 'Shree', 'Ram']"
      ]
     },
     "execution_count": 60,
     "metadata": {},
     "output_type": "execute_result"
    }
   ],
   "source": [
    "lst"
   ]
  },
  {
   "cell_type": "code",
   "execution_count": 61,
   "id": "74e0a62d",
   "metadata": {},
   "outputs": [],
   "source": [
    "## Nested List"
   ]
  },
  {
   "cell_type": "code",
   "execution_count": 62,
   "id": "d3957dc9",
   "metadata": {},
   "outputs": [],
   "source": [
    "## Let's make three Lists\n",
    "lst_1 = [1,2,3]\n",
    "lst_2 = [4,5,6]\n",
    "lst_3 = [7,8,9]\n",
    "\n",
    "# Make a List of lists to form a matrix\n",
    "matrix = [lst_1,lst_2, lst_3]"
   ]
  },
  {
   "cell_type": "code",
   "execution_count": 63,
   "id": "67c33998",
   "metadata": {},
   "outputs": [
    {
     "data": {
      "text/plain": [
       "[[1, 2, 3], [4, 5, 6], [7, 8, 9]]"
      ]
     },
     "execution_count": 63,
     "metadata": {},
     "output_type": "execute_result"
    }
   ],
   "source": [
    "matrix"
   ]
  },
  {
   "cell_type": "code",
   "execution_count": 64,
   "id": "fc4a8bc7",
   "metadata": {},
   "outputs": [
    {
     "data": {
      "text/plain": [
       "6"
      ]
     },
     "execution_count": 64,
     "metadata": {},
     "output_type": "execute_result"
    }
   ],
   "source": [
    "matrix[1][2]"
   ]
  },
  {
   "cell_type": "code",
   "execution_count": 65,
   "id": "0568d86d",
   "metadata": {},
   "outputs": [
    {
     "data": {
      "text/plain": [
       "7"
      ]
     },
     "execution_count": 65,
     "metadata": {},
     "output_type": "execute_result"
    }
   ],
   "source": [
    "matrix[2][0]"
   ]
  },
  {
   "cell_type": "code",
   "execution_count": 67,
   "id": "56dfb194",
   "metadata": {},
   "outputs": [
    {
     "data": {
      "text/plain": [
       "[0, 1, 2, 3, 4, 5, 6, 7, 8, 9, 10, 11, 12, 13, 14, 15, 16, 17, 18, 19]"
      ]
     },
     "execution_count": 67,
     "metadata": {},
     "output_type": "execute_result"
    }
   ],
   "source": [
    "## List Comprehension\n",
    "[i for i in range(20)]"
   ]
  },
  {
   "cell_type": "code",
   "execution_count": 68,
   "id": "3ea800dd",
   "metadata": {},
   "outputs": [
    {
     "data": {
      "text/plain": [
       "[0,\n",
       " 'ODD',\n",
       " 2,\n",
       " 'ODD',\n",
       " 4,\n",
       " 'ODD',\n",
       " 6,\n",
       " 'ODD',\n",
       " 8,\n",
       " 'ODD',\n",
       " 10,\n",
       " 'ODD',\n",
       " 12,\n",
       " 'ODD',\n",
       " 14,\n",
       " 'ODD',\n",
       " 16,\n",
       " 'ODD',\n",
       " 18,\n",
       " 'ODD']"
      ]
     },
     "execution_count": 68,
     "metadata": {},
     "output_type": "execute_result"
    }
   ],
   "source": [
    "## Even Number\n",
    "[i if i%2==0 else \"ODD\" for i in range(20)]"
   ]
  },
  {
   "cell_type": "code",
   "execution_count": 76,
   "id": "a9ca4d89",
   "metadata": {},
   "outputs": [],
   "source": [
    "even_number=sum([i for i in range(20) if i%2==0])"
   ]
  },
  {
   "cell_type": "code",
   "execution_count": 77,
   "id": "b3f16c7b",
   "metadata": {},
   "outputs": [
    {
     "data": {
      "text/plain": [
       "90"
      ]
     },
     "execution_count": 77,
     "metadata": {},
     "output_type": "execute_result"
    }
   ],
   "source": [
    "even_number"
   ]
  },
  {
   "cell_type": "code",
   "execution_count": 78,
   "id": "f0506857",
   "metadata": {},
   "outputs": [],
   "source": [
    "Odd_number=sum([i for i in range(20) if i%2!=0])"
   ]
  },
  {
   "cell_type": "code",
   "execution_count": 79,
   "id": "794dab72",
   "metadata": {},
   "outputs": [
    {
     "data": {
      "text/plain": [
       "100"
      ]
     },
     "execution_count": 79,
     "metadata": {},
     "output_type": "execute_result"
    }
   ],
   "source": [
    "Odd_number"
   ]
  },
  {
   "cell_type": "code",
   "execution_count": 80,
   "id": "a476d7ca",
   "metadata": {},
   "outputs": [
    {
     "data": {
      "text/plain": [
       "[0,\n",
       " 1,\n",
       " 4,\n",
       " 9,\n",
       " 16,\n",
       " 25,\n",
       " 36,\n",
       " 49,\n",
       " 64,\n",
       " 81,\n",
       " 100,\n",
       " 121,\n",
       " 144,\n",
       " 169,\n",
       " 196,\n",
       " 225,\n",
       " 256,\n",
       " 289,\n",
       " 324,\n",
       " 361]"
      ]
     },
     "execution_count": 80,
     "metadata": {},
     "output_type": "execute_result"
    }
   ],
   "source": [
    "[i**2 for i in range(20)]"
   ]
  },
  {
   "cell_type": "code",
   "execution_count": 83,
   "id": "65c81511",
   "metadata": {},
   "outputs": [],
   "source": [
    "# Example 2 :- Create a list of only the positive numbers from a given list\n",
    "lst = [-2,-5,4,6,-3,7,8,9,10]\n",
    "positive_number =[i for i in lst if i>0]"
   ]
  },
  {
   "cell_type": "code",
   "execution_count": 84,
   "id": "1d9fb92f",
   "metadata": {},
   "outputs": [
    {
     "data": {
      "text/plain": [
       "[4, 6, 7, 8, 9, 10]"
      ]
     },
     "execution_count": 84,
     "metadata": {},
     "output_type": "execute_result"
    }
   ],
   "source": [
    "positive_number"
   ]
  },
  {
   "cell_type": "code",
   "execution_count": 88,
   "id": "5d6fc9d9",
   "metadata": {},
   "outputs": [],
   "source": [
    " ## Example 3: Create a list of only the first letters of words in a list\n",
    "lst=['apple', 'banana', 'cherry', 'date']\n",
    "fist_Letter =[i[0] for i in lst]"
   ]
  },
  {
   "cell_type": "code",
   "execution_count": 89,
   "id": "3e84c9ec",
   "metadata": {},
   "outputs": [
    {
     "data": {
      "text/plain": [
       "['a', 'b', 'c', 'd']"
      ]
     },
     "execution_count": 89,
     "metadata": {},
     "output_type": "execute_result"
    }
   ],
   "source": [
    "fist_Letter"
   ]
  },
  {
   "cell_type": "code",
   "execution_count": 90,
   "id": "47681c05",
   "metadata": {},
   "outputs": [],
   "source": [
    "## Example 4 :- # Example 5: Flatten a list of lists into a single list\n",
    "lists = [[1, 2, 3], [4, 5, 6], [7, 8, 9]]\n",
    "## Ans-->\n",
    "Flatten_list = [j for i in lists for j in i]"
   ]
  },
  {
   "cell_type": "code",
   "execution_count": 91,
   "id": "36fab383",
   "metadata": {},
   "outputs": [
    {
     "data": {
      "text/plain": [
       "[1, 2, 3, 4, 5, 6, 7, 8, 9]"
      ]
     },
     "execution_count": 91,
     "metadata": {},
     "output_type": "execute_result"
    }
   ],
   "source": [
    "Flatten_list"
   ]
  },
  {
   "cell_type": "code",
   "execution_count": 96,
   "id": "32a63052",
   "metadata": {},
   "outputs": [],
   "source": [
    "# Example 5: Create a list of only the prime numbers from a given list\n",
    "numbers = [1, 2, 3, 4, 5, 6, 7, 8, 9, 10]\n",
    "# Ans -->\n",
    "prime_Num = [i for i in numbers for j in (2,i) if i%j!=0]"
   ]
  },
  {
   "cell_type": "code",
   "execution_count": 93,
   "id": "66b1cbfc",
   "metadata": {},
   "outputs": [
    {
     "data": {
      "text/plain": [
       "[1, 3, 5, 7, 9]"
      ]
     },
     "execution_count": 93,
     "metadata": {},
     "output_type": "execute_result"
    }
   ],
   "source": [
    "prime_Num"
   ]
  },
  {
   "cell_type": "code",
   "execution_count": 102,
   "id": "0563b376",
   "metadata": {},
   "outputs": [],
   "source": [
    "# Example 5: Create a list of only the non_prime numbers from a given list\n",
    "non_prime_number = [i for i in numbers for j in (2,i) if i%2==0]"
   ]
  },
  {
   "cell_type": "code",
   "execution_count": 104,
   "id": "5e3d7f4e",
   "metadata": {},
   "outputs": [],
   "source": [
    "non_prime_number=set(non_prime_number)"
   ]
  },
  {
   "cell_type": "code",
   "execution_count": 105,
   "id": "d8fa662c",
   "metadata": {
    "scrolled": true
   },
   "outputs": [
    {
     "data": {
      "text/plain": [
       "{2, 4, 6, 8, 10}"
      ]
     },
     "execution_count": 105,
     "metadata": {},
     "output_type": "execute_result"
    }
   ],
   "source": [
    "non_prime_number"
   ]
  },
  {
   "cell_type": "code",
   "execution_count": 113,
   "id": "32d900f8",
   "metadata": {},
   "outputs": [],
   "source": [
    "# Example 6: Create a list of all the possible combinations of 2 elements from a list\n",
    "lst = [1,2,3,4,5,6]\n",
    "combination = [(j,i) for i in lst for j in lst if j==2]"
   ]
  },
  {
   "cell_type": "code",
   "execution_count": 114,
   "id": "629d4f28",
   "metadata": {},
   "outputs": [
    {
     "data": {
      "text/plain": [
       "[(2, 1), (2, 2), (2, 3), (2, 4), (2, 5), (2, 6)]"
      ]
     },
     "execution_count": 114,
     "metadata": {},
     "output_type": "execute_result"
    }
   ],
   "source": [
    "combination"
   ]
  },
  {
   "cell_type": "code",
   "execution_count": null,
   "id": "1d1b09e5",
   "metadata": {},
   "outputs": [],
   "source": []
  }
 ],
 "metadata": {
  "kernelspec": {
   "display_name": "Python 3 (ipykernel)",
   "language": "python",
   "name": "python3"
  },
  "language_info": {
   "codemirror_mode": {
    "name": "ipython",
    "version": 3
   },
   "file_extension": ".py",
   "mimetype": "text/x-python",
   "name": "python",
   "nbconvert_exporter": "python",
   "pygments_lexer": "ipython3",
   "version": "3.11.5"
  }
 },
 "nbformat": 4,
 "nbformat_minor": 5
}
