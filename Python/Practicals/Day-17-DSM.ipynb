{
 "cells": [
  {
   "cell_type": "markdown",
   "id": "8e2ab3e3",
   "metadata": {},
   "source": [
    "#### Day-17 Python"
   ]
  },
  {
   "cell_type": "markdown",
   "id": "36ab64cf",
   "metadata": {},
   "source": [
    "#### Exception Handling"
   ]
  },
  {
   "cell_type": "code",
   "execution_count": 4,
   "id": "c8a414f3",
   "metadata": {},
   "outputs": [],
   "source": [
    "a=10"
   ]
  },
  {
   "cell_type": "code",
   "execution_count": 5,
   "id": "e29b699f",
   "metadata": {},
   "outputs": [
    {
     "ename": "ZeroDivisionError",
     "evalue": "division by zero",
     "output_type": "error",
     "traceback": [
      "\u001b[1;31m---------------------------------------------------------------------------\u001b[0m",
      "\u001b[1;31mZeroDivisionError\u001b[0m                         Traceback (most recent call last)",
      "Cell \u001b[1;32mIn[5], line 1\u001b[0m\n\u001b[1;32m----> 1\u001b[0m a\u001b[38;5;241m/\u001b[39m\u001b[38;5;241m0\u001b[39m\n",
      "\u001b[1;31mZeroDivisionError\u001b[0m: division by zero"
     ]
    }
   ],
   "source": [
    "a/0"
   ]
  },
  {
   "cell_type": "code",
   "execution_count": 6,
   "id": "47c5cd73",
   "metadata": {},
   "outputs": [
    {
     "name": "stdout",
     "output_type": "stream",
     "text": [
      "This is my print\n"
     ]
    }
   ],
   "source": [
    "f = open('Hello.txt','r')\n",
    "print(\"This is my print\")"
   ]
  },
  {
   "cell_type": "code",
   "execution_count": 7,
   "id": "6c884fe3",
   "metadata": {},
   "outputs": [
    {
     "name": "stdout",
     "output_type": "stream",
     "text": [
      "This block will excute once try will execute itself without an exception\n"
     ]
    }
   ],
   "source": [
    "try:\n",
    "    f = open('Hello.txt','w')\n",
    "    f.write(\"This is my New msg\")\n",
    "    f.close()\n",
    "except Exception as e:\n",
    "    print(\"There is some issue with my code\",e)\n",
    "else:\n",
    "    f.close()\n",
    "    print(\"This block will excute once try will execute itself without an exception\")"
   ]
  },
  {
   "cell_type": "code",
   "execution_count": 8,
   "id": "adbe306d",
   "metadata": {},
   "outputs": [],
   "source": [
    "try:\n",
    "    f = open('Hello.txt','w')\n",
    "    f.write(\"This is my msg\")\n",
    "except Exception as e:\n",
    "    print(\"There is some issue with my code\",e)"
   ]
  },
  {
   "cell_type": "code",
   "execution_count": 9,
   "id": "56c82d17",
   "metadata": {},
   "outputs": [
    {
     "name": "stdout",
     "output_type": "stream",
     "text": [
      "There is some issue with my code [Errno 2] No such file or directory: 'ram.txt'\n"
     ]
    }
   ],
   "source": [
    "try:\n",
    "    f = open('ram.txt','r')\n",
    "    f.write(\"This is my New msg\")\n",
    "except Exception as e:\n",
    "    print(\"There is some issue with my code\",e)\n",
    "else:\n",
    "    f.close()\n",
    "    print(\"This block will excute once try will execute itself without an exception\")"
   ]
  },
  {
   "cell_type": "code",
   "execution_count": 10,
   "id": "4916e968",
   "metadata": {},
   "outputs": [
    {
     "name": "stdout",
     "output_type": "stream",
     "text": [
      "This will always execute\n"
     ]
    },
    {
     "ename": "FileNotFoundError",
     "evalue": "[Errno 2] No such file or directory: 'ram.txt'",
     "output_type": "error",
     "traceback": [
      "\u001b[1;31m---------------------------------------------------------------------------\u001b[0m",
      "\u001b[1;31mFileNotFoundError\u001b[0m                         Traceback (most recent call last)",
      "Cell \u001b[1;32mIn[10], line 2\u001b[0m\n\u001b[0;32m      1\u001b[0m \u001b[38;5;28;01mtry\u001b[39;00m:\n\u001b[1;32m----> 2\u001b[0m     f \u001b[38;5;241m=\u001b[39m \u001b[38;5;28mopen\u001b[39m(\u001b[38;5;124m'\u001b[39m\u001b[38;5;124mram.txt\u001b[39m\u001b[38;5;124m'\u001b[39m,\u001b[38;5;124m'\u001b[39m\u001b[38;5;124mr\u001b[39m\u001b[38;5;124m'\u001b[39m)\n\u001b[0;32m      3\u001b[0m     f\u001b[38;5;241m.\u001b[39mwrite(\u001b[38;5;124m\"\u001b[39m\u001b[38;5;124mThis is my New msg\u001b[39m\u001b[38;5;124m\"\u001b[39m)\n\u001b[0;32m      4\u001b[0m \u001b[38;5;28;01mfinally\u001b[39;00m:\n",
      "File \u001b[1;32m~\\anaconda3\\Lib\\site-packages\\IPython\\core\\interactiveshell.py:286\u001b[0m, in \u001b[0;36m_modified_open\u001b[1;34m(file, *args, **kwargs)\u001b[0m\n\u001b[0;32m    279\u001b[0m \u001b[38;5;28;01mif\u001b[39;00m file \u001b[38;5;129;01min\u001b[39;00m {\u001b[38;5;241m0\u001b[39m, \u001b[38;5;241m1\u001b[39m, \u001b[38;5;241m2\u001b[39m}:\n\u001b[0;32m    280\u001b[0m     \u001b[38;5;28;01mraise\u001b[39;00m \u001b[38;5;167;01mValueError\u001b[39;00m(\n\u001b[0;32m    281\u001b[0m         \u001b[38;5;124mf\u001b[39m\u001b[38;5;124m\"\u001b[39m\u001b[38;5;124mIPython won\u001b[39m\u001b[38;5;124m'\u001b[39m\u001b[38;5;124mt let you open fd=\u001b[39m\u001b[38;5;132;01m{\u001b[39;00mfile\u001b[38;5;132;01m}\u001b[39;00m\u001b[38;5;124m by default \u001b[39m\u001b[38;5;124m\"\u001b[39m\n\u001b[0;32m    282\u001b[0m         \u001b[38;5;124m\"\u001b[39m\u001b[38;5;124mas it is likely to crash IPython. If you know what you are doing, \u001b[39m\u001b[38;5;124m\"\u001b[39m\n\u001b[0;32m    283\u001b[0m         \u001b[38;5;124m\"\u001b[39m\u001b[38;5;124myou can use builtins\u001b[39m\u001b[38;5;124m'\u001b[39m\u001b[38;5;124m open.\u001b[39m\u001b[38;5;124m\"\u001b[39m\n\u001b[0;32m    284\u001b[0m     )\n\u001b[1;32m--> 286\u001b[0m \u001b[38;5;28;01mreturn\u001b[39;00m io_open(file, \u001b[38;5;241m*\u001b[39margs, \u001b[38;5;241m*\u001b[39m\u001b[38;5;241m*\u001b[39mkwargs)\n",
      "\u001b[1;31mFileNotFoundError\u001b[0m: [Errno 2] No such file or directory: 'ram.txt'"
     ]
    }
   ],
   "source": [
    "try:\n",
    "    f = open('ram.txt','r')\n",
    "    f.write(\"This is my New msg\")\n",
    "finally:\n",
    "    print(\"This will always execute\")"
   ]
  },
  {
   "cell_type": "code",
   "execution_count": 11,
   "id": "abe07a0f",
   "metadata": {},
   "outputs": [
    {
     "name": "stdout",
     "output_type": "stream",
     "text": [
      "This block will excute once try will execute itself without an exception\n",
      "I will execute always\n"
     ]
    }
   ],
   "source": [
    "try:\n",
    "    f = open('Hello.txt','w')\n",
    "    f.write(\"This is my New msg\")\n",
    "    f.close()\n",
    "except Exception as e:\n",
    "    print(\"There is some issue with my code\",e)\n",
    "else:\n",
    "    f.close()\n",
    "    print(\"This block will excute once try will execute itself without an exception\")\n",
    "finally:\n",
    "    print(\"I will execute always\")"
   ]
  },
  {
   "cell_type": "markdown",
   "id": "2507e447",
   "metadata": {},
   "source": [
    "#### Custom Exception Handling"
   ]
  },
  {
   "cell_type": "code",
   "execution_count": 12,
   "id": "c030d2e4",
   "metadata": {},
   "outputs": [
    {
     "name": "stdout",
     "output_type": "stream",
     "text": [
      "Enter your age-98\n"
     ]
    }
   ],
   "source": [
    "age = int(input(\"Enter your age\"))"
   ]
  },
  {
   "cell_type": "code",
   "execution_count": 13,
   "id": "873afc54",
   "metadata": {},
   "outputs": [],
   "source": [
    "class validateage(Exception):\n",
    "    def __init__(self, msg):\n",
    "        self.msg = msg"
   ]
  },
  {
   "cell_type": "code",
   "execution_count": 18,
   "id": "f82f3afb",
   "metadata": {},
   "outputs": [],
   "source": [
    "def validate_age(age):\n",
    "    if age<0:\n",
    "        raise validateage('Age should not be lesser than Zero')\n",
    "    elif age>200:\n",
    "        raise validateage('Age is too high')\n",
    "    else:\n",
    "        print(\"Age is valid\")"
   ]
  },
  {
   "cell_type": "code",
   "execution_count": 20,
   "id": "db3725a2",
   "metadata": {},
   "outputs": [
    {
     "name": "stdout",
     "output_type": "stream",
     "text": [
      "Enter your age 876\n",
      "Age is too high\n"
     ]
    }
   ],
   "source": [
    "try:\n",
    "    age = int(input('Enter your age '))\n",
    "    validate_age(age)\n",
    "except validateage as e:\n",
    "    print(e)"
   ]
  },
  {
   "cell_type": "markdown",
   "id": "1cc44544",
   "metadata": {},
   "source": [
    "#### List of Use General Exception"
   ]
  },
  {
   "cell_type": "code",
   "execution_count": 21,
   "id": "cfa75d76",
   "metadata": {},
   "outputs": [
    {
     "name": "stdout",
     "output_type": "stream",
     "text": [
      "division by zero\n"
     ]
    }
   ],
   "source": [
    "try:\n",
    "    a=10\n",
    "    a/0\n",
    "except ZeroDivisionError as e:\n",
    "    print(e)"
   ]
  },
  {
   "cell_type": "code",
   "execution_count": 22,
   "id": "04d8db58",
   "metadata": {},
   "outputs": [
    {
     "name": "stdout",
     "output_type": "stream",
     "text": [
      "invalid literal for int() with base 10: 'sudh'\n"
     ]
    }
   ],
   "source": [
    "try:\n",
    "    int('sudh')\n",
    "except (ValueError, TypeError) as e:\n",
    "    print(e)"
   ]
  },
  {
   "cell_type": "code",
   "execution_count": 23,
   "id": "94034c52",
   "metadata": {},
   "outputs": [
    {
     "name": "stdout",
     "output_type": "stream",
     "text": [
      "this will catch an error\n"
     ]
    }
   ],
   "source": [
    "try:\n",
    "    int('jay')\n",
    "except:\n",
    "    print(\"this will catch an error\")"
   ]
  },
  {
   "cell_type": "code",
   "execution_count": 24,
   "id": "0d61b345",
   "metadata": {},
   "outputs": [
    {
     "name": "stdout",
     "output_type": "stream",
     "text": [
      "No module named 'jay'\n"
     ]
    }
   ],
   "source": [
    "try:\n",
    "    import jay\n",
    "except ImportError as e:\n",
    "    print(e)"
   ]
  },
  {
   "cell_type": "code",
   "execution_count": 25,
   "id": "616aac9b",
   "metadata": {},
   "outputs": [
    {
     "name": "stdout",
     "output_type": "stream",
     "text": [
      "'Key10'\n"
     ]
    }
   ],
   "source": [
    "try:\n",
    "    d = {1:[3,4,5,6],\n",
    "        'key':\"jay\"}\n",
    "    d['Key10']\n",
    "except KeyError as e:\n",
    "    print(e)"
   ]
  },
  {
   "cell_type": "code",
   "execution_count": 27,
   "id": "654dfc9d",
   "metadata": {},
   "outputs": [
    {
     "name": "stdout",
     "output_type": "stream",
     "text": [
      "'str' object has no attribute 'test'\n"
     ]
    }
   ],
   "source": [
    "try:\n",
    "    'jay'.test()\n",
    "except AttributeError as e:\n",
    "    print(e)"
   ]
  },
  {
   "cell_type": "code",
   "execution_count": 28,
   "id": "e8d7b890",
   "metadata": {},
   "outputs": [
    {
     "name": "stdout",
     "output_type": "stream",
     "text": [
      "list index out of range\n"
     ]
    }
   ],
   "source": [
    "try:\n",
    "    l = [1,2,3,3]\n",
    "    l[10]\n",
    "except IndexError as e:\n",
    "    print(e)"
   ]
  },
  {
   "cell_type": "code",
   "execution_count": 29,
   "id": "903ce72f",
   "metadata": {},
   "outputs": [
    {
     "name": "stdout",
     "output_type": "stream",
     "text": [
      "unsupported operand type(s) for +: 'int' and 'str'\n"
     ]
    }
   ],
   "source": [
    "try:\n",
    "    123+'jay'\n",
    "except TypeError as e:\n",
    "    print(e)"
   ]
  },
  {
   "cell_type": "code",
   "execution_count": 30,
   "id": "e4f0bbd9",
   "metadata": {},
   "outputs": [
    {
     "name": "stdout",
     "output_type": "stream",
     "text": [
      "[Errno 2] No such file or directory: 'text12.txt'\n"
     ]
    }
   ],
   "source": [
    "try:\n",
    "    with open('text12.txt','r') as f:\n",
    "        f.read()\n",
    "except FileNotFoundError as e:\n",
    "    print(e)"
   ]
  },
  {
   "cell_type": "code",
   "execution_count": 32,
   "id": "90e9d8c7",
   "metadata": {},
   "outputs": [
    {
     "name": "stdout",
     "output_type": "stream",
     "text": [
      "Exceptio handle [Errno 2] No such file or directory: 'text12.txt'\n"
     ]
    }
   ],
   "source": [
    "try:\n",
    "    with open('text12.txt','r') as f:\n",
    "        f.read()\n",
    "except Exception as e:\n",
    "    print(\"Exceptio handle\",e)\n",
    "except FileNotFoundError as e:\n",
    "    print(\"This is my file not found type error\",e)\n",
    "    "
   ]
  },
  {
   "cell_type": "markdown",
   "id": "5a5d7be1",
   "metadata": {},
   "source": [
    "### Best Practice of Exception"
   ]
  },
  {
   "cell_type": "code",
   "execution_count": 33,
   "id": "d09b4e69",
   "metadata": {},
   "outputs": [
    {
     "name": "stdout",
     "output_type": "stream",
     "text": [
      "division by zero\n"
     ]
    }
   ],
   "source": [
    "try:\n",
    "    10/0\n",
    "except Exception as e:\n",
    "    print(e)"
   ]
  },
  {
   "cell_type": "code",
   "execution_count": 35,
   "id": "cbf5f293",
   "metadata": {},
   "outputs": [
    {
     "name": "stdout",
     "output_type": "stream",
     "text": [
      "This is my Zero Division error i am handling  division by zero\n"
     ]
    }
   ],
   "source": [
    "## Print always a valid message\n",
    "try:\n",
    "    10/0\n",
    "except ZeroDivisionError as e:\n",
    "    print(\"This is my Zero Division error i am handling \", e)"
   ]
  },
  {
   "cell_type": "code",
   "execution_count": 37,
   "id": "db055a3c",
   "metadata": {},
   "outputs": [],
   "source": [
    "## Always try to log\n",
    "import logging\n",
    "logging.basicConfig(filename='error.log',level = logging.ERROR)\n",
    "## Print always a valid message\n",
    "try:\n",
    "    10/0\n",
    "except ZeroDivisionError as e:\n",
    "    logging.error(\"This is my Zero Division error i am handling {}\".format(e))"
   ]
  },
  {
   "cell_type": "code",
   "execution_count": 38,
   "id": "546ee8b8",
   "metadata": {},
   "outputs": [],
   "source": [
    "### Always avoid to write a multiple exception handling\n",
    "## Always try to log\n",
    "import logging\n",
    "logging.basicConfig(filename='error.log',level = logging.ERROR)\n",
    "## Print always a valid message\n",
    "try:\n",
    "    10/0\n",
    "except FileNotFoundError as e:\n",
    "    logging.error(\"This is my File not found error i am handling {}\".format(e))\n",
    "except AttributeError as e:\n",
    "        logging.error(\"This is my Attribute error i am handling {}\".format(e))\n",
    "except ZeroDivisionError as e:\n",
    "    logging.error(\"This is my Zero Division error i am handling {}\".format(e))"
   ]
  },
  {
   "cell_type": "code",
   "execution_count": 40,
   "id": "5d74e23a",
   "metadata": {},
   "outputs": [],
   "source": [
    "### Always try to prepare documentation"
   ]
  },
  {
   "cell_type": "code",
   "execution_count": 42,
   "id": "b882d557",
   "metadata": {},
   "outputs": [],
   "source": [
    "## Cleanup all the resourses\n",
    "try :\n",
    "    with open('test.txt','w') as f:\n",
    "        f.write(\"This is my msg to file\")\n",
    "except FileNotFoundError as e:\n",
    "    logging.error(\"This is my File not found {}\".format(e))\n",
    "finally:\n",
    "    f.close()"
   ]
  },
  {
   "cell_type": "code",
   "execution_count": null,
   "id": "7a30c589",
   "metadata": {},
   "outputs": [],
   "source": []
  }
 ],
 "metadata": {
  "kernelspec": {
   "display_name": "Python 3 (ipykernel)",
   "language": "python",
   "name": "python3"
  },
  "language_info": {
   "codemirror_mode": {
    "name": "ipython",
    "version": 3
   },
   "file_extension": ".py",
   "mimetype": "text/x-python",
   "name": "python",
   "nbconvert_exporter": "python",
   "pygments_lexer": "ipython3",
   "version": "3.11.5"
  }
 },
 "nbformat": 4,
 "nbformat_minor": 5
}
