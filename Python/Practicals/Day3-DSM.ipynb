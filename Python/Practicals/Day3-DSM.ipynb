{
 "cells": [
  {
   "cell_type": "markdown",
   "id": "905ae618-8267-4f0a-b270-a5e3ab274f91",
   "metadata": {},
   "source": [
    "## DAY-3 Python"
   ]
  },
  {
   "cell_type": "code",
   "execution_count": 2,
   "id": "3d6e529c-4eb6-4c29-bebe-0ffe82872045",
   "metadata": {},
   "outputs": [],
   "source": [
    "name=\"jay Rokade PW skill student\""
   ]
  },
  {
   "cell_type": "code",
   "execution_count": 3,
   "id": "1bb74b40-2c20-4827-87e4-b7c440e06b84",
   "metadata": {},
   "outputs": [
    {
     "data": {
      "text/plain": [
       "'JAY ROKADE PW SKILL STUDENT'"
      ]
     },
     "execution_count": 3,
     "metadata": {},
     "output_type": "execute_result"
    }
   ],
   "source": [
    "name.upper()"
   ]
  },
  {
   "cell_type": "code",
   "execution_count": 4,
   "id": "16c0b549-394c-45ea-867e-8c4cebfcc72e",
   "metadata": {},
   "outputs": [
    {
     "data": {
      "text/plain": [
       "'Jay rokade pw skill student'"
      ]
     },
     "execution_count": 4,
     "metadata": {},
     "output_type": "execute_result"
    }
   ],
   "source": [
    "name.capitalize()"
   ]
  },
  {
   "cell_type": "code",
   "execution_count": 5,
   "id": "6bbfde54-c9b2-4132-a30c-b823e00e66ea",
   "metadata": {},
   "outputs": [
    {
     "data": {
      "text/plain": [
       "'Jay Rokade Pw Skill Student'"
      ]
     },
     "execution_count": 5,
     "metadata": {},
     "output_type": "execute_result"
    }
   ],
   "source": [
    "name.title()\n"
   ]
  },
  {
   "cell_type": "code",
   "execution_count": 6,
   "id": "87097911-318e-4996-8d78-41dfecb66769",
   "metadata": {},
   "outputs": [
    {
     "data": {
      "text/plain": [
       "'jay rokade pw skill student'"
      ]
     },
     "execution_count": 6,
     "metadata": {},
     "output_type": "execute_result"
    }
   ],
   "source": [
    "name.lower()"
   ]
  },
  {
   "cell_type": "code",
   "execution_count": 7,
   "id": "5978d106-22e0-4548-a774-0abca3a50207",
   "metadata": {},
   "outputs": [
    {
     "data": {
      "text/plain": [
       "'JAY rOKADE pw SKILL STUDENT'"
      ]
     },
     "execution_count": 7,
     "metadata": {},
     "output_type": "execute_result"
    }
   ],
   "source": [
    "name.swapcase()"
   ]
  },
  {
   "cell_type": "code",
   "execution_count": 8,
   "id": "b59310c0-3f13-492f-afb1-2b39c6f34148",
   "metadata": {},
   "outputs": [
    {
     "data": {
      "text/plain": [
       "2"
      ]
     },
     "execution_count": 8,
     "metadata": {},
     "output_type": "execute_result"
    }
   ],
   "source": [
    "name.count('a')"
   ]
  },
  {
   "cell_type": "code",
   "execution_count": 9,
   "id": "7befd2a5-b733-4ab1-b92d-370c73d1687f",
   "metadata": {},
   "outputs": [
    {
     "data": {
      "text/plain": [
       "'jay rokade pw skill student'"
      ]
     },
     "execution_count": 9,
     "metadata": {},
     "output_type": "execute_result"
    }
   ],
   "source": [
    "name.casefold()"
   ]
  },
  {
   "cell_type": "code",
   "execution_count": 10,
   "id": "2904935e-9de2-4bad-ac5f-eab70ffd3a1d",
   "metadata": {},
   "outputs": [
    {
     "data": {
      "text/plain": [
       "0"
      ]
     },
     "execution_count": 10,
     "metadata": {},
     "output_type": "execute_result"
    }
   ],
   "source": [
    "name.find('jay')"
   ]
  },
  {
   "cell_type": "code",
   "execution_count": 11,
   "id": "e82a3d49-9ea6-42a8-b862-42eecff23015",
   "metadata": {},
   "outputs": [
    {
     "data": {
      "text/plain": [
       "<reversed at 0x7fc546631ab0>"
      ]
     },
     "execution_count": 11,
     "metadata": {},
     "output_type": "execute_result"
    }
   ],
   "source": [
    "reversed(name)"
   ]
  },
  {
   "cell_type": "code",
   "execution_count": 12,
   "id": "1a02b58d-8150-4431-8671-c4f7f62b0ef7",
   "metadata": {},
   "outputs": [
    {
     "data": {
      "text/plain": [
       "'t  n  e  d  u  t  s     l  l  i  k  s     W  P     e  d  a  k  o  R     y  a  j'"
      ]
     },
     "execution_count": 12,
     "metadata": {},
     "output_type": "execute_result"
    }
   ],
   "source": [
    "'  '.join(reversed(name))"
   ]
  },
  {
   "cell_type": "code",
   "execution_count": 13,
   "id": "28c1ee35-d497-423e-a6de-9b000114ac8e",
   "metadata": {},
   "outputs": [
    {
     "data": {
      "text/plain": [
       "'j  a  y     R  o  k  a  d  e     P  W     s  k  i  l  l     s  t  u  d  e  n  t'"
      ]
     },
     "execution_count": 13,
     "metadata": {},
     "output_type": "execute_result"
    }
   ],
   "source": [
    "''.join(reversed('t  n  e  d  u  t  s     l  l  i  k  s     W  P     e  d  a  k  o  R     y  a  j'))"
   ]
  },
  {
   "cell_type": "code",
   "execution_count": 14,
   "id": "961425bc-bf2d-46ef-bec0-156b493ecf89",
   "metadata": {},
   "outputs": [
    {
     "data": {
      "text/plain": [
       "'yPWSKILLSePWSKILLSdPWSKILLSnPWSKILLSaPWSKILLSPPWSKILLS PWSKILLSkPWSKILLSaPWSKILLSlPWSKILLSA'"
      ]
     },
     "execution_count": 14,
     "metadata": {},
     "output_type": "execute_result"
    }
   ],
   "source": [
    "'PWSKILLS'.join(reversed('Alak Pandey'))"
   ]
  },
  {
   "cell_type": "code",
   "execution_count": 15,
   "id": "84b71bc6-9023-4cc2-b6b4-fd6ebcc0bafa",
   "metadata": {},
   "outputs": [],
   "source": [
    "str1='pw is a good comapany'"
   ]
  },
  {
   "cell_type": "code",
   "execution_count": 16,
   "id": "c4004d4c-5e31-4e8a-be71-fafa0d5b1bca",
   "metadata": {},
   "outputs": [
    {
     "data": {
      "text/plain": [
       "'ySkillsnSkillsaSkillspSkillsaSkillsmSkillsoSkillscSkills SkillsdSkillsoSkillsoSkillsgSkills SkillsaSkills SkillssSkillsiSkills SkillswSkillsp'"
      ]
     },
     "execution_count": 16,
     "metadata": {},
     "output_type": "execute_result"
    }
   ],
   "source": [
    "'Skills'.join(reversed(str1))"
   ]
  },
  {
   "cell_type": "code",
   "execution_count": 17,
   "id": "454b31d3-7154-47a5-9b97-4289ed09d7f1",
   "metadata": {},
   "outputs": [
    {
     "data": {
      "text/plain": [
       "['r', 'a', 't', 'a', 'v', 'A', ' ', 'm', 'a', 'r']"
      ]
     },
     "execution_count": 17,
     "metadata": {},
     "output_type": "execute_result"
    }
   ],
   "source": [
    "list(reversed(\"ram Avatar\"))"
   ]
  },
  {
   "cell_type": "code",
   "execution_count": 18,
   "id": "441eda71-6738-4bfd-903f-c889d4a75080",
   "metadata": {},
   "outputs": [],
   "source": [
    "name=\"Ram Avatar\""
   ]
  },
  {
   "cell_type": "code",
   "execution_count": 19,
   "id": "ce97fffa-1302-4741-81ec-4a92c65c7aac",
   "metadata": {},
   "outputs": [
    {
     "name": "stdout",
     "output_type": "stream",
     "text": [
      "ratavA maR"
     ]
    }
   ],
   "source": [
    "for i in list(reversed(name)):\n",
    "              print(i,end='')"
   ]
  },
  {
   "cell_type": "code",
   "execution_count": 41,
   "id": "bf2bdc5b-b4fc-4c2a-bdf1-194c9721a3c4",
   "metadata": {},
   "outputs": [],
   "source": [
    "##Removing Charater from the end of the string"
   ]
  },
  {
   "cell_type": "code",
   "execution_count": 21,
   "id": "bca1f84f-d183-465d-bdf1-7bf7ca70de3b",
   "metadata": {},
   "outputs": [],
   "source": [
    "string_a=\" pwskills \""
   ]
  },
  {
   "cell_type": "code",
   "execution_count": 22,
   "id": "2cdb82ae-c99c-424b-84e2-db9c91df3bb0",
   "metadata": {},
   "outputs": [
    {
     "data": {
      "text/plain": [
       "'pwskills'"
      ]
     },
     "execution_count": 22,
     "metadata": {},
     "output_type": "execute_result"
    }
   ],
   "source": [
    "string_a.strip(\" \")"
   ]
  },
  {
   "cell_type": "code",
   "execution_count": 23,
   "id": "f4ed2fb7-2ec2-4f0d-a195-29fcc5dd2557",
   "metadata": {},
   "outputs": [
    {
     "data": {
      "text/plain": [
       "'pwskills '"
      ]
     },
     "execution_count": 23,
     "metadata": {},
     "output_type": "execute_result"
    }
   ],
   "source": [
    "string_a.lstrip(\" \")"
   ]
  },
  {
   "cell_type": "code",
   "execution_count": 24,
   "id": "28f6a7e8-612f-4dff-ae53-51dc053ac1db",
   "metadata": {},
   "outputs": [
    {
     "data": {
      "text/plain": [
       "' pwskills'"
      ]
     },
     "execution_count": 24,
     "metadata": {},
     "output_type": "execute_result"
    }
   ],
   "source": [
    "string_a.rstrip(\" \")"
   ]
  },
  {
   "cell_type": "code",
   "execution_count": 25,
   "id": "1ec84fb2-ec2b-46ae-9e4f-9cdff415f4ef",
   "metadata": {},
   "outputs": [],
   "source": [
    "string_n=\"Greeting to Pwskills\""
   ]
  },
  {
   "cell_type": "code",
   "execution_count": 26,
   "id": "fb27af0a-e83b-43ca-996e-24e42680cdbe",
   "metadata": {},
   "outputs": [
    {
     "data": {
      "text/plain": [
       "140485698978560"
      ]
     },
     "execution_count": 26,
     "metadata": {},
     "output_type": "execute_result"
    }
   ],
   "source": [
    "id(string_n)"
   ]
  },
  {
   "cell_type": "code",
   "execution_count": 27,
   "id": "0a1e3222-bc75-409e-8b80-211a9a212b84",
   "metadata": {},
   "outputs": [
    {
     "data": {
      "text/plain": [
       "'Greeting from Pwskills'"
      ]
     },
     "execution_count": 27,
     "metadata": {},
     "output_type": "execute_result"
    }
   ],
   "source": [
    "string_n.replace(\"to\",\"from\")"
   ]
  },
  {
   "cell_type": "code",
   "execution_count": 54,
   "id": "13515002-963c-4911-bbb8-2997905d9fa3",
   "metadata": {},
   "outputs": [
    {
     "data": {
      "text/plain": [
       "'Welcome to Pwskills'"
      ]
     },
     "execution_count": 54,
     "metadata": {},
     "output_type": "execute_result"
    }
   ],
   "source": [
    "string_n.replace(\"Greeting\",\"Welcome\")"
   ]
  },
  {
   "cell_type": "code",
   "execution_count": 28,
   "id": "57f8f905-c183-4bfd-a1ed-ea3666aeb733",
   "metadata": {},
   "outputs": [
    {
     "data": {
      "text/plain": [
       "'Treeting to Pwskills'"
      ]
     },
     "execution_count": 28,
     "metadata": {},
     "output_type": "execute_result"
    }
   ],
   "source": [
    "string_n.replace(\"G\",\"T\")"
   ]
  },
  {
   "cell_type": "code",
   "execution_count": 29,
   "id": "fc913951-ea3c-4eb6-b881-8720b9101d05",
   "metadata": {},
   "outputs": [
    {
     "data": {
      "text/plain": [
       "'Grffting to Pwskills'"
      ]
     },
     "execution_count": 29,
     "metadata": {},
     "output_type": "execute_result"
    }
   ],
   "source": [
    "string_n.replace(\"e\",\"f\")"
   ]
  },
  {
   "cell_type": "code",
   "execution_count": 30,
   "id": "dc80fd87-d7e7-4a91-8874-30594e9006e6",
   "metadata": {},
   "outputs": [
    {
     "data": {
      "text/plain": [
       "140485698978560"
      ]
     },
     "execution_count": 30,
     "metadata": {},
     "output_type": "execute_result"
    }
   ],
   "source": [
    "id(string_n)"
   ]
  },
  {
   "cell_type": "code",
   "execution_count": 61,
   "id": "2eb42d04-12b8-4d1e-b29d-a7118036d690",
   "metadata": {},
   "outputs": [
    {
     "data": {
      "text/plain": [
       "'test@gmail.com'"
      ]
     },
     "execution_count": 61,
     "metadata": {},
     "output_type": "execute_result"
    }
   ],
   "source": [
    "string_n=\"test2gmail.com\"\n",
    "var_a=string_n.replace('2','@')\n",
    "var_a"
   ]
  },
  {
   "cell_type": "code",
   "execution_count": 67,
   "id": "dc71810e-b733-4360-8f56-246826dda4e5",
   "metadata": {},
   "outputs": [
    {
     "data": {
      "text/plain": [
       "140176137408048"
      ]
     },
     "execution_count": 67,
     "metadata": {},
     "output_type": "execute_result"
    }
   ],
   "source": [
    "id(string_n)\n"
   ]
  },
  {
   "cell_type": "code",
   "execution_count": 66,
   "id": "9b7b1b62-a99b-48f8-823f-568f40c26ce9",
   "metadata": {},
   "outputs": [
    {
     "data": {
      "text/plain": [
       "140176137415408"
      ]
     },
     "execution_count": 66,
     "metadata": {},
     "output_type": "execute_result"
    }
   ],
   "source": [
    "id(var_a)"
   ]
  },
  {
   "cell_type": "code",
   "execution_count": 69,
   "id": "3da77733-25b8-4666-9850-417f3e91fae5",
   "metadata": {},
   "outputs": [
    {
     "data": {
      "text/plain": [
       "'hello   World'"
      ]
     },
     "execution_count": 69,
     "metadata": {},
     "output_type": "execute_result"
    }
   ],
   "source": [
    "'hello \\tWorld'.expandtabs()"
   ]
  },
  {
   "cell_type": "code",
   "execution_count": 73,
   "id": "b6bf54a6-30c8-4a8c-bb4e-7c98fa99333f",
   "metadata": {},
   "outputs": [
    {
     "data": {
      "text/plain": [
       "'welcome to PWskills tp data science master'"
      ]
     },
     "execution_count": 73,
     "metadata": {},
     "output_type": "execute_result"
    }
   ],
   "source": [
    "str1=\"welcome to PWskills tp data science master\"\n",
    "str1"
   ]
  },
  {
   "cell_type": "code",
   "execution_count": 71,
   "id": "60b5b488-17c4-4c1e-b022-137f6044ba39",
   "metadata": {},
   "outputs": [
    {
     "data": {
      "text/plain": [
       "'welcome to PWskills tp Data Science master'"
      ]
     },
     "execution_count": 71,
     "metadata": {},
     "output_type": "execute_result"
    }
   ],
   "source": [
    "str1.replace('data science','Data Science')"
   ]
  },
  {
   "cell_type": "code",
   "execution_count": 75,
   "id": "489d768d-4b97-4596-80a1-e61ce815ccc8",
   "metadata": {},
   "outputs": [
    {
     "data": {
      "text/plain": [
       "False"
      ]
     },
     "execution_count": 75,
     "metadata": {},
     "output_type": "execute_result"
    }
   ],
   "source": [
    "str1.isupper()"
   ]
  },
  {
   "cell_type": "code",
   "execution_count": 77,
   "id": "061db095-625a-4acc-bf5d-f1db15061928",
   "metadata": {},
   "outputs": [],
   "source": [
    "str2=\"JAY\""
   ]
  },
  {
   "cell_type": "code",
   "execution_count": 78,
   "id": "08633b1e-2028-4ff8-adc9-43cc74e7e7b4",
   "metadata": {},
   "outputs": [
    {
     "data": {
      "text/plain": [
       "True"
      ]
     },
     "execution_count": 78,
     "metadata": {},
     "output_type": "execute_result"
    }
   ],
   "source": [
    "str2.isupper()"
   ]
  },
  {
   "cell_type": "code",
   "execution_count": 79,
   "id": "bd90c6f3-156a-46a0-b8b0-d0bf89e2f558",
   "metadata": {},
   "outputs": [
    {
     "data": {
      "text/plain": [
       "False"
      ]
     },
     "execution_count": 79,
     "metadata": {},
     "output_type": "execute_result"
    }
   ],
   "source": [
    "str1.islower()"
   ]
  },
  {
   "cell_type": "code",
   "execution_count": 80,
   "id": "c6d917e4-860f-4f40-971b-c5c8b1319b98",
   "metadata": {},
   "outputs": [
    {
     "data": {
      "text/plain": [
       "False"
      ]
     },
     "execution_count": 80,
     "metadata": {},
     "output_type": "execute_result"
    }
   ],
   "source": [
    "str1.isspace()"
   ]
  },
  {
   "cell_type": "code",
   "execution_count": 84,
   "id": "6ad1b391-7779-404f-88dd-d3270411042a",
   "metadata": {},
   "outputs": [
    {
     "name": "stdout",
     "output_type": "stream",
     "text": [
      "sorry Nahi he Kuch toh likha hua he\n"
     ]
    }
   ],
   "source": [
    "str1=\"ram\"\n",
    "if (str1.isspace()):\n",
    "    print(\"Empty he pura\")\n",
    "else:\n",
    "    print(\"sorry Nahi he Kuch toh likha hua he\")"
   ]
  },
  {
   "cell_type": "code",
   "execution_count": 85,
   "id": "a1c1fcef-28c5-414a-b022-c62ee7164664",
   "metadata": {},
   "outputs": [],
   "source": [
    "str2=\"pwskills\""
   ]
  },
  {
   "cell_type": "code",
   "execution_count": 87,
   "id": "cbd3814a-f79d-4dae-836e-2e9969e09262",
   "metadata": {},
   "outputs": [
    {
     "data": {
      "text/plain": [
       "True"
      ]
     },
     "execution_count": 87,
     "metadata": {},
     "output_type": "execute_result"
    }
   ],
   "source": [
    "str2.endswith('s')"
   ]
  },
  {
   "cell_type": "code",
   "execution_count": 88,
   "id": "d5ebea29-c9c1-4df2-a0b2-0ba6ea660588",
   "metadata": {},
   "outputs": [
    {
     "data": {
      "text/plain": [
       "False"
      ]
     },
     "execution_count": 88,
     "metadata": {},
     "output_type": "execute_result"
    }
   ],
   "source": [
    "str2.startswith(\"P\")"
   ]
  },
  {
   "cell_type": "code",
   "execution_count": 90,
   "id": "a6aaa5ba-b03f-4d5f-8a2a-3fb10322c11f",
   "metadata": {},
   "outputs": [
    {
     "data": {
      "text/plain": [
       "False"
      ]
     },
     "execution_count": 90,
     "metadata": {},
     "output_type": "execute_result"
    }
   ],
   "source": [
    "##\"Check the if all the string are i  alphanumeric\n",
    "a=\"abcd1234\"\n",
    "a.isalpha()"
   ]
  },
  {
   "cell_type": "code",
   "execution_count": 91,
   "id": "d38400b5-cf55-48cc-bc16-3f90ef34143f",
   "metadata": {},
   "outputs": [
    {
     "data": {
      "text/plain": [
       "True"
      ]
     },
     "execution_count": 91,
     "metadata": {},
     "output_type": "execute_result"
    }
   ],
   "source": [
    "a.isalnum()"
   ]
  },
  {
   "cell_type": "code",
   "execution_count": 1,
   "id": "6cad4841-00c5-41bb-845f-7e5dec695573",
   "metadata": {},
   "outputs": [
    {
     "name": "stdout",
     "output_type": "stream",
     "text": [
      "7\n"
     ]
    }
   ],
   "source": [
    "str1=\"Shriram\"\n",
    "count=0\n",
    "for i in str1:\n",
    "    count=count+1\n",
    "print(count)"
   ]
  },
  {
   "cell_type": "code",
   "execution_count": 2,
   "id": "871dbdb3-e253-4b36-a6f5-d07dfd469604",
   "metadata": {},
   "outputs": [
    {
     "data": {
      "text/plain": [
       "7"
      ]
     },
     "execution_count": 2,
     "metadata": {},
     "output_type": "execute_result"
    }
   ],
   "source": [
    "len(str1)"
   ]
  },
  {
   "cell_type": "code",
   "execution_count": null,
   "id": "e52fbf71-607c-41ce-99b1-1a3fdbf2b882",
   "metadata": {},
   "outputs": [],
   "source": [
    "for i in str1:\n",
    "    print(i,end='')"
   ]
  },
  {
   "cell_type": "code",
   "execution_count": null,
   "id": "a130b098-c69e-44b5-9b77-e9426f4e1154",
   "metadata": {},
   "outputs": [],
   "source": [
    "for i in str1:\n",
    "    print(i)"
   ]
  },
  {
   "cell_type": "code",
   "execution_count": null,
   "id": "d004321c-f839-4ea0-89ba-081903198d80",
   "metadata": {},
   "outputs": [],
   "source": [
    "for i in range(len(str1)):\n",
    "    print(i,\" \",str1[i])"
   ]
  },
  {
   "cell_type": "code",
   "execution_count": null,
   "id": "661f0851-1ac6-4b41-8ae2-abfdfeadcc7f",
   "metadata": {},
   "outputs": [],
   "source": [
    "Str2=len(input())\n",
    "i=len(Str2)\n",
    "while i>=0:\n",
    "    print(i)\n",
    "    i=i-1\n",
    "    "
   ]
  },
  {
   "cell_type": "code",
   "execution_count": null,
   "id": "fc3d8587-ce37-4239-8d6e-43411dc42110",
   "metadata": {},
   "outputs": [],
   "source": []
  },
  {
   "cell_type": "code",
   "execution_count": null,
   "id": "6d6633d0-8015-477e-80f6-7e93104d7323",
   "metadata": {},
   "outputs": [],
   "source": []
  }
 ],
 "metadata": {
  "kernelspec": {
   "display_name": "Python 3 (ipykernel)",
   "language": "python",
   "name": "python3"
  },
  "language_info": {
   "codemirror_mode": {
    "name": "ipython",
    "version": 3
   },
   "file_extension": ".py",
   "mimetype": "text/x-python",
   "name": "python",
   "nbconvert_exporter": "python",
   "pygments_lexer": "ipython3",
   "version": "3.10.8"
  }
 },
 "nbformat": 4,
 "nbformat_minor": 5
}
