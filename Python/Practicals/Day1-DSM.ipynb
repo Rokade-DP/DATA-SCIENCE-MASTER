{
 "cells": [
  {
   "cell_type": "code",
   "execution_count": 2,
   "id": "391a6178-dee2-46fa-8c02-07929c6c4c2e",
   "metadata": {},
   "outputs": [],
   "source": [
    "a=10"
   ]
  },
  {
   "cell_type": "code",
   "execution_count": 3,
   "id": "85fca816-5854-4be6-b7e0-996dabf34750",
   "metadata": {},
   "outputs": [],
   "source": [
    "a='c'"
   ]
  },
  {
   "cell_type": "code",
   "execution_count": 4,
   "id": "f05be0f3-d051-499d-8d5a-e42efc013c5f",
   "metadata": {},
   "outputs": [
    {
     "data": {
      "text/plain": [
       "str"
      ]
     },
     "execution_count": 4,
     "metadata": {},
     "output_type": "execute_result"
    }
   ],
   "source": [
    "type(a)\n"
   ]
  },
  {
   "cell_type": "code",
   "execution_count": 5,
   "id": "376e2a5b-ddc9-4c0f-8f32-9c63677cf664",
   "metadata": {},
   "outputs": [
    {
     "data": {
      "text/plain": [
       "123"
      ]
     },
     "execution_count": 5,
     "metadata": {},
     "output_type": "execute_result"
    }
   ],
   "source": [
    "int('123')"
   ]
  },
  {
   "cell_type": "code",
   "execution_count": 6,
   "id": "be93a22a-e1dd-41c3-87ef-dbeca2b43c84",
   "metadata": {},
   "outputs": [
    {
     "ename": "ValueError",
     "evalue": "invalid literal for int() with base 10: 'abcd'",
     "output_type": "error",
     "traceback": [
      "\u001b[0;31m---------------------------------------------------------------------------\u001b[0m",
      "\u001b[0;31mValueError\u001b[0m                                Traceback (most recent call last)",
      "Cell \u001b[0;32mIn[6], line 1\u001b[0m\n\u001b[0;32m----> 1\u001b[0m \u001b[38;5;28;43mint\u001b[39;49m\u001b[43m(\u001b[49m\u001b[38;5;124;43m'\u001b[39;49m\u001b[38;5;124;43mabcd\u001b[39;49m\u001b[38;5;124;43m'\u001b[39;49m\u001b[43m)\u001b[49m\n",
      "\u001b[0;31mValueError\u001b[0m: invalid literal for int() with base 10: 'abcd'"
     ]
    }
   ],
   "source": [
    "int('abcd')"
   ]
  },
  {
   "cell_type": "code",
   "execution_count": 7,
   "id": "711396b5-a88d-47d3-8dd0-9fd3ab38d0a1",
   "metadata": {},
   "outputs": [
    {
     "name": "stdout",
     "output_type": "stream",
     "text": [
      "Hello World\n"
     ]
    }
   ],
   "source": [
    "print(\"Hello World\")"
   ]
  },
  {
   "cell_type": "code",
   "execution_count": 8,
   "id": "21294689-7b3e-4262-933b-c0e367d478e9",
   "metadata": {},
   "outputs": [
    {
     "name": "stdout",
     "output_type": "stream",
     "text": [
      "123\n"
     ]
    }
   ],
   "source": [
    "print(123)"
   ]
  },
  {
   "cell_type": "code",
   "execution_count": 9,
   "id": "3c040a4c-2ebd-4a59-adfb-e4efbed518e6",
   "metadata": {},
   "outputs": [
    {
     "name": "stdout",
     "output_type": "stream",
     "text": [
      "Hello World\n"
     ]
    }
   ],
   "source": [
    "print('Hello World')"
   ]
  },
  {
   "cell_type": "code",
   "execution_count": 11,
   "id": "b1300433-77cf-4774-a7b5-bfcd1e75af06",
   "metadata": {},
   "outputs": [
    {
     "name": "stdout",
     "output_type": "stream",
     "text": [
      "MY AGE IS:- 21\n"
     ]
    }
   ],
   "source": [
    "age=21\n",
    "print(\"MY AGE IS:-\",age)"
   ]
  },
  {
   "cell_type": "code",
   "execution_count": 14,
   "id": "2954351b-0362-46d7-be99-ce746955a2ac",
   "metadata": {},
   "outputs": [
    {
     "name": "stdout",
     "output_type": "stream",
     "text": [
      "My age is:{age}\n"
     ]
    }
   ],
   "source": [
    "print(\"My age is:{age}\")"
   ]
  },
  {
   "cell_type": "code",
   "execution_count": null,
   "id": "80f73a2e-d90d-43e9-85c3-0d0941f5dcb4",
   "metadata": {},
   "outputs": [],
   "source": []
  },
  {
   "cell_type": "code",
   "execution_count": 15,
   "id": "137da835-812d-43ce-a073-936ff1710674",
   "metadata": {},
   "outputs": [
    {
     "name": "stdout",
     "output_type": "stream",
     "text": [
      "My age is:21\n"
     ]
    }
   ],
   "source": [
    "#f-string in python\n",
    "##Formatting \n",
    "print(f\"My age is:{age}\")"
   ]
  },
  {
   "cell_type": "code",
   "execution_count": 17,
   "id": "5ed7faad-fd97-4742-9889-2fd4cfc93516",
   "metadata": {},
   "outputs": [
    {
     "name": "stdout",
     "output_type": "stream",
     "text": [
      "my name is jay and age is 21\n"
     ]
    }
   ],
   "source": [
    "##format()\n",
    "name='jay'\n",
    "age=21\n",
    "print(\"my name is {} and age is {}\".format(name, age))"
   ]
  },
  {
   "cell_type": "code",
   "execution_count": 18,
   "id": "482f38ef-39b3-4b39-9851-7917d162f783",
   "metadata": {},
   "outputs": [
    {
     "name": "stdout",
     "output_type": "stream",
     "text": [
      "my name is 21 and age is jay\n"
     ]
    }
   ],
   "source": [
    "print(\"my name is {} and age is {}\".format(age, name))"
   ]
  },
  {
   "cell_type": "code",
   "execution_count": 19,
   "id": "12109299-68c9-43b2-9bf3-225c512280ec",
   "metadata": {},
   "outputs": [
    {
     "name": "stdout",
     "output_type": "stream",
     "text": [
      "my name is jay and age is 21\n"
     ]
    }
   ],
   "source": [
    "print(\"my name is {Firstname} and age is {Firstage}\".format(Firstname=name, Firstage=age))"
   ]
  },
  {
   "cell_type": "code",
   "execution_count": 3,
   "id": "0a93676f-40dc-492d-b90a-232ef11be2ed",
   "metadata": {},
   "outputs": [],
   "source": [
    "name=\"Jay Rokade\"\n",
    "age=21\n",
    "degree=\"BE\"\n"
   ]
  },
  {
   "cell_type": "code",
   "execution_count": 4,
   "id": "7f3b3eb5-c349-4651-af1b-9ed481235a3d",
   "metadata": {},
   "outputs": [
    {
     "name": "stdout",
     "output_type": "stream",
     "text": [
      "My name is Jay Rokade my age is 21 my degree is BE\n"
     ]
    }
   ],
   "source": [
    "print(\"My name is {} my age is {} my degree is {}\".format(name, age, degree))"
   ]
  },
  {
   "cell_type": "code",
   "execution_count": 5,
   "id": "8531c85b-2986-475e-ba5b-203c721f7aa2",
   "metadata": {},
   "outputs": [
    {
     "name": "stdout",
     "output_type": "stream",
     "text": [
      "My age is 21 and I have completed my degree of BE With the name of Jay Rokade.\n",
      "My age is 21 and I have completed my degree of BE With the name of Jay Rokade.\n"
     ]
    }
   ],
   "source": [
    "print(\"My age is {} and I have completed my degree of {} With the name of {}.\".format(age,degree,name))\n",
    "print(\"My age is {Fage} and I have completed my degree of {Fdegree} With the name of {Fname}.\".format(Fage=age,Fdegree=degree,Fname=name))"
   ]
  },
  {
   "cell_type": "code",
   "execution_count": 7,
   "id": "21a99f83-12db-41cd-aaa2-153bbfe5a6ca",
   "metadata": {},
   "outputs": [
    {
     "name": "stdout",
     "output_type": "stream",
     "text": [
      "My age is 21 and I have completed my degree of BE With the name of Jay Rokade\n"
     ]
    }
   ],
   "source": [
    "print(F\"My age is {age} and I have completed my degree of {degree} With the name of {name}\")"
   ]
  },
  {
   "cell_type": "code",
   "execution_count": null,
   "id": "78d7740a-1314-450a-8946-d40efdb6040b",
   "metadata": {},
   "outputs": [],
   "source": [
    "## Control Flow\n",
    "##Decision making Statements\n",
    "##"
   ]
  },
  {
   "cell_type": "code",
   "execution_count": 12,
   "id": "38b2dbb5-142c-42bd-873a-63616721906f",
   "metadata": {},
   "outputs": [
    {
     "name": "stdout",
     "output_type": "stream",
     "text": [
      "I am eligible to vote\n"
     ]
    }
   ],
   "source": [
    "## if  Statements\n",
    "age=18\n",
    "if age>=18:# colomn just indicate the start of the IF Block\n",
    "    print(\"I am eligible to vote\")"
   ]
  },
  {
   "cell_type": "code",
   "execution_count": 11,
   "id": "5e673c57-e062-415d-92f3-f26c4df00264",
   "metadata": {},
   "outputs": [],
   "source": [
    "#    ==,>=,<="
   ]
  },
  {
   "cell_type": "code",
   "execution_count": 13,
   "id": "a8246f4c-1603-4ea8-8e45-1cceafc97a1e",
   "metadata": {},
   "outputs": [
    {
     "name": "stdin",
     "output_type": "stream",
     "text": [
      " jay rokade\n"
     ]
    },
    {
     "data": {
      "text/plain": [
       "'jay rokade'"
      ]
     },
     "execution_count": 13,
     "metadata": {},
     "output_type": "execute_result"
    }
   ],
   "source": [
    "input()\n",
    "#Default data type of input() is String"
   ]
  },
  {
   "cell_type": "code",
   "execution_count": 14,
   "id": "ccd0b007-e3d3-4f7f-9731-db5c7805a084",
   "metadata": {},
   "outputs": [
    {
     "name": "stdin",
     "output_type": "stream",
     "text": [
      "Enter your name:- Jay rokade\n"
     ]
    }
   ],
   "source": [
    "name=input(\"Enter your name:-\")"
   ]
  },
  {
   "cell_type": "code",
   "execution_count": 15,
   "id": "0d6e9976-da14-4cc3-b642-09a49786de9f",
   "metadata": {},
   "outputs": [
    {
     "data": {
      "text/plain": [
       "'Jay rokade'"
      ]
     },
     "execution_count": 15,
     "metadata": {},
     "output_type": "execute_result"
    }
   ],
   "source": [
    "name"
   ]
  },
  {
   "cell_type": "code",
   "execution_count": 16,
   "id": "c82dd423-7186-4e21-aee3-cc0bf32bb6af",
   "metadata": {},
   "outputs": [
    {
     "name": "stdin",
     "output_type": "stream",
     "text": [
      "Enter your age:- 21\n"
     ]
    }
   ],
   "source": [
    "age=input(\"Enter your age:-\")"
   ]
  },
  {
   "cell_type": "code",
   "execution_count": 17,
   "id": "0cd325cf-9199-4c4e-b789-fe9df9a933b8",
   "metadata": {},
   "outputs": [
    {
     "data": {
      "text/plain": [
       "'21'"
      ]
     },
     "execution_count": 17,
     "metadata": {},
     "output_type": "execute_result"
    }
   ],
   "source": [
    "age"
   ]
  },
  {
   "cell_type": "code",
   "execution_count": 18,
   "id": "65539940-5e91-48b8-9acd-838652c4c456",
   "metadata": {},
   "outputs": [
    {
     "data": {
      "text/plain": [
       "str"
      ]
     },
     "execution_count": 18,
     "metadata": {},
     "output_type": "execute_result"
    }
   ],
   "source": [
    "type(age)"
   ]
  },
  {
   "cell_type": "code",
   "execution_count": 24,
   "id": "99f2882e-27e2-4bd8-a901-f7f671ce9b7c",
   "metadata": {},
   "outputs": [
    {
     "name": "stdin",
     "output_type": "stream",
     "text": [
      "Enter your age:- 21\n"
     ]
    }
   ],
   "source": [
    "age=int(input(\"Enter your age:-\"))\n",
    "#RType casting has been done in this input()"
   ]
  },
  {
   "cell_type": "code",
   "execution_count": 25,
   "id": "9479bcbb-0ebc-4593-94db-7b4b002b47ec",
   "metadata": {},
   "outputs": [
    {
     "data": {
      "text/plain": [
       "21"
      ]
     },
     "execution_count": 25,
     "metadata": {},
     "output_type": "execute_result"
    }
   ],
   "source": [
    "age\n"
   ]
  },
  {
   "cell_type": "code",
   "execution_count": 26,
   "id": "e2477ffa-51d6-4483-9c56-41bd59c3c032",
   "metadata": {},
   "outputs": [
    {
     "data": {
      "text/plain": [
       "int"
      ]
     },
     "execution_count": 26,
     "metadata": {},
     "output_type": "execute_result"
    }
   ],
   "source": [
    "type(age)"
   ]
  },
  {
   "cell_type": "code",
   "execution_count": 29,
   "id": "47974781-5366-4def-b223-0f8d9adcdafb",
   "metadata": {},
   "outputs": [],
   "source": [
    "##Task 1\n",
    "##Input age\n",
    "##Whether age is greater than equal to 18 or not\n",
    "##ig age >=18 amnd <=45 Display=== You are young Blood "
   ]
  },
  {
   "cell_type": "code",
   "execution_count": 31,
   "id": "e4e563ee-4de2-4d13-855c-4feab7df88bf",
   "metadata": {},
   "outputs": [
    {
     "name": "stdin",
     "output_type": "stream",
     "text": [
      "Enter your age:- 32\n"
     ]
    },
    {
     "name": "stdout",
     "output_type": "stream",
     "text": [
      "You are young Blood\n"
     ]
    }
   ],
   "source": [
    "age=int(input(\"Enter your age:-\"))\n",
    "if age>=18 and age<=45:\n",
    "    print(\"You are young Blood\")"
   ]
  },
  {
   "cell_type": "code",
   "execution_count": 32,
   "id": "f729e712-0856-4d6d-827a-d9d525c19c9b",
   "metadata": {},
   "outputs": [],
   "source": [
    "#if else statement"
   ]
  },
  {
   "cell_type": "code",
   "execution_count": 36,
   "id": "623458ca-55ba-401f-9469-b2905637250b",
   "metadata": {},
   "outputs": [
    {
     "name": "stdin",
     "output_type": "stream",
     "text": [
      "Enter your age:- 12\n"
     ]
    },
    {
     "name": "stdout",
     "output_type": "stream",
     "text": [
      "Thank you , We will let you know\n"
     ]
    }
   ],
   "source": [
    "age=int(input(\"Enter your age:-\"))\n",
    "if age>=18 and age<=45:\n",
    "    print(\"You are young Blood\")\n",
    "else:\n",
    "    print(\"Thank you , We will let you know\")"
   ]
  },
  {
   "cell_type": "code",
   "execution_count": null,
   "id": "ff7e14a1-1e5b-4050-b9d3-6a3ee40920e5",
   "metadata": {},
   "outputs": [],
   "source": [
    "##mall--- input the product price\n",
    "## Product is >1000---20% off\n",
    "##Print the product price\n",
    "## Product is <=1000---30% off\n",
    "##print rhe product price"
   ]
  },
  {
   "cell_type": "code",
   "execution_count": 40,
   "id": "c1c6de76-1a11-4380-b51b-6a53230c78da",
   "metadata": {},
   "outputs": [
    {
     "name": "stdin",
     "output_type": "stream",
     "text": [
      "Enter the product Price:- 2100\n"
     ]
    },
    {
     "name": "stdout",
     "output_type": "stream",
     "text": [
      "Product Price is:- 1680.0\n"
     ]
    }
   ],
   "source": [
    "product_price=int(input(\"Enter the product Price:-\"))\n",
    "if product_price <= 1000:\n",
    "    product_price=product_price-product_price*(30/100)\n",
    "    print(\"Product Price is :-\",product_price)\n",
    "else:\n",
    "    product_price=product_price-product_price*(20/100)\n",
    "    print(\"Product Price is:-\",product_price)"
   ]
  },
  {
   "cell_type": "code",
   "execution_count": 41,
   "id": "8ab6a8cb-cddf-4f84-a23a-4490d9172835",
   "metadata": {},
   "outputs": [
    {
     "name": "stdin",
     "output_type": "stream",
     "text": [
      "Enter the product Price:- 2100\n"
     ]
    },
    {
     "name": "stdout",
     "output_type": "stream",
     "text": [
      "Product Price is:- 1680.0\n"
     ]
    }
   ],
   "source": [
    "product_price=int(input(\"Enter the product Price:-\"))\n",
    "if product_price <= 1000:\n",
    "    print(\"Product Price is {}\".format(product_price*0.7))\n",
    "else:\n",
    "     print(\"Product Price is {}\".format(product_price*0.8))"
   ]
  },
  {
   "cell_type": "code",
   "execution_count": 42,
   "id": "3dd5e54d-7047-4bd2-8810-bd72b85d7074",
   "metadata": {},
   "outputs": [
    {
     "name": "stdin",
     "output_type": "stream",
     "text": [
      "Enter the product Price:- 2100\n"
     ]
    },
    {
     "name": "stdout",
     "output_type": "stream",
     "text": [
      "Product Price is 1680.0\n"
     ]
    }
   ],
   "source": [
    "product_price=int(input(\"Enter the product Price:-\"))\n",
    "if product_price <= 1000:\n",
    "    print(\"Product Price is {}\".format(product_price-(product_price*0.3)))\n",
    "else:\n",
    "     print(\"Product Price is {}\".format(product_price-(product_price*0.2)))"
   ]
  },
  {
   "cell_type": "code",
   "execution_count": 43,
   "id": "4e006cae-13e9-42c2-a8e9-983d2209c5fe",
   "metadata": {},
   "outputs": [
    {
     "name": "stdin",
     "output_type": "stream",
     "text": [
      "Enter the product Price:- 2100\n"
     ]
    },
    {
     "name": "stdout",
     "output_type": "stream",
     "text": [
      "Product Price is 1680.0\n"
     ]
    }
   ],
   "source": [
    "product_price=int(input(\"Enter the product Price:-\"))\n",
    "if product_price <= 1000:\n",
    "    print(f\"Product Price is {product_price*0.7}\")\n",
    "else:\n",
    "     print(f\"Product Price is {product_price*0.8}\")"
   ]
  },
  {
   "cell_type": "code",
   "execution_count": 44,
   "id": "b99cc8da-b692-48d0-be59-e60a5f6d203b",
   "metadata": {},
   "outputs": [
    {
     "name": "stdin",
     "output_type": "stream",
     "text": [
      "Enter the product Price:- 2100\n"
     ]
    },
    {
     "name": "stdout",
     "output_type": "stream",
     "text": [
      "Product Price is 1470.0\n"
     ]
    }
   ],
   "source": [
    "product_price=int(input(\"Enter the product Price:-\"))\n",
    "if product_price > 3000:\n",
    "    print(f\"Product Price is {product_price*0.8}\")\n",
    "elif product_price>=2000 and product_price<=3000:\n",
    "     print(f\"Product Price is {product_price*0.7}\")\n",
    "else:\n",
    "     print(f\"Product Price is {product_price*0.6}\")"
   ]
  },
  {
   "cell_type": "code",
   "execution_count": 46,
   "id": "d33d3f14-c7fe-40ac-ab18-0864b01eaa92",
   "metadata": {},
   "outputs": [
    {
     "name": "stdin",
     "output_type": "stream",
     "text": [
      "Enter the product Price:- 2100\n"
     ]
    },
    {
     "name": "stdout",
     "output_type": "stream",
     "text": [
      "Product Price is 1470.0\n"
     ]
    }
   ],
   "source": [
    "product_price=int(input(\"Enter the product Price:-\"))\n",
    "if product_price > 3000:\n",
    "    print(\"Product Price is {}\".format(product_price*0.8))\n",
    "elif product_price>=2000 and product_price<=3000:\n",
    "     print(\"Product Price is {}\".format(product_price*0.7))\n",
    "else:\n",
    "     print(\"Product Price is {}\".format(product_price*0.6))"
   ]
  },
  {
   "cell_type": "code",
   "execution_count": 51,
   "id": "04014924-8d29-4202-ba9d-1b54918ed579",
   "metadata": {},
   "outputs": [
    {
     "name": "stdin",
     "output_type": "stream",
     "text": [
      "Enter the product Price:- 4000\n"
     ]
    },
    {
     "name": "stdout",
     "output_type": "stream",
     "text": [
      "Congratulation you get a trip to goa\n",
      "Product Price is 3200.0\n"
     ]
    }
   ],
   "source": [
    "product_price=int(input(\"Enter the product Price:-\"))\n",
    "if product_price > 3000:\n",
    "    if product_price==4000:\n",
    "        print(\"Congratulation you get a trip to goa\")\n",
    "    print(\"Product Price is {}\".format(product_price-product_price*0.2))\n",
    "elif product_price>=2000 and product_price<=3000:\n",
    "    if product_price==2999:\n",
    "        print(\"Congratulation you won the additional gift\")\n",
    "    print(\"Product Price is {}\".format(product_price-product_price*0.3))\n",
    "elif product_price<2000 and product_price>=100:\n",
    "    print(\"Product Price is {}\".format(product_price-product_price*0.4))\n",
    "else:\n",
    "    print(\"kuch nahi milega tereko ghar pe ja aur POGO dekh\")"
   ]
  },
  {
   "cell_type": "code",
   "execution_count": 53,
   "id": "1dc252b5-522c-438b-8346-0dfe45ed2c93",
   "metadata": {},
   "outputs": [],
   "source": [
    "## single statemets suits"
   ]
  },
  {
   "cell_type": "code",
   "execution_count": 55,
   "id": "f0bc6a94-6688-405d-b44b-258c8fe9883a",
   "metadata": {},
   "outputs": [
    {
     "name": "stdin",
     "output_type": "stream",
     "text": [
      "enter the value:- 22\n"
     ]
    },
    {
     "name": "stdout",
     "output_type": "stream",
     "text": [
      "Sorry \n"
     ]
    }
   ],
   "source": [
    "val=int(input(\"enter the value:-\"))\n",
    "if val>999:print(\"Value is Greater than or equal to 999\")\n",
    "else:print(\"Sorry \")"
   ]
  },
  {
   "cell_type": "code",
   "execution_count": 1,
   "id": "6eb0fa58-4d27-4ee4-b483-be3dfc4b4852",
   "metadata": {},
   "outputs": [
    {
     "name": "stdout",
     "output_type": "stream",
     "text": [
      "26\n",
      "27\n",
      "28\n",
      "29\n",
      "30\n",
      "31\n",
      "32\n",
      "33\n",
      "34\n",
      "35\n",
      "36\n",
      "37\n",
      "38\n",
      "39\n",
      "40\n",
      "41\n",
      "42\n",
      "43\n",
      "44\n",
      "45\n",
      "46\n",
      "47\n",
      "48\n",
      "49\n",
      "50\n",
      "51\n",
      "52\n",
      "53\n",
      "54\n",
      "55\n",
      "56\n",
      "57\n",
      "58\n",
      "59\n",
      "60\n",
      "61\n",
      "your age is 61 , Now its time to retired\n"
     ]
    }
   ],
   "source": [
    "joining_age=25\n",
    "while joining_age<=60:\n",
    "    joining_age+=1\n",
    "    print(joining_age)\n",
    "print(\"your age is {} , Now its time to retired\".format(joining_age))"
   ]
  },
  {
   "cell_type": "code",
   "execution_count": 2,
   "id": "76150c9f-ba42-42ee-a4bf-c016516c5dbd",
   "metadata": {},
   "outputs": [
    {
     "name": "stdout",
     "output_type": "stream",
     "text": [
      "26\n",
      "27\n",
      "28\n",
      "29\n",
      "30\n",
      "31\n",
      "32\n",
      "33\n",
      "34\n",
      "35\n",
      "36\n",
      "37\n",
      "38\n",
      "39\n",
      "40\n",
      "41\n",
      "42\n",
      "43\n",
      "44\n",
      "45\n",
      "46\n",
      "47\n",
      "48\n",
      "49\n",
      "50\n",
      "51\n",
      "52\n",
      "53\n",
      "54\n",
      "55\n",
      "56\n",
      "57\n",
      "58\n",
      "59\n",
      "60\n",
      "61\n",
      "Its time to retired\n"
     ]
    }
   ],
   "source": [
    "joining_age=25\n",
    "while joining_age<=60:\n",
    "    joining_age+=1\n",
    "    print(joining_age)\n",
    "else:\n",
    "    print(\"Its time to retired\")"
   ]
  },
  {
   "cell_type": "code",
   "execution_count": 4,
   "id": "8af955fe-e23d-4549-a371-a8c9516b2d39",
   "metadata": {},
   "outputs": [
    {
     "name": "stdout",
     "output_type": "stream",
     "text": [
      "900\n",
      "800\n",
      "700\n",
      "600\n",
      "500\n",
      "400\n",
      "300\n",
      "200\n",
      "100\n",
      "0\n",
      "sorry money is exhausted\n"
     ]
    }
   ],
   "source": [
    "Total_Amount=1000\n",
    "while Total_Amount!=0:\n",
    "    Total_Amount-=100\n",
    "    print(Total_Amount)\n",
    "else:\n",
    "    print(\"sorry money is exhausted\")"
   ]
  },
  {
   "cell_type": "markdown",
   "id": "51f1f3ba-d740-4c74-9e18-eb6cbcd569e6",
   "metadata": {},
   "source": [
    "For Loop"
   ]
  },
  {
   "cell_type": "code",
   "execution_count": 5,
   "id": "9d8b0be4-4a1e-415a-84c8-30ee9dddd8a0",
   "metadata": {},
   "outputs": [],
   "source": [
    "lst=['jay',1,2,3,4,'Apple','Bannas']"
   ]
  },
  {
   "cell_type": "code",
   "execution_count": 6,
   "id": "7830a58f-44bc-42c7-bb5e-aff351b1a668",
   "metadata": {},
   "outputs": [
    {
     "data": {
      "text/plain": [
       "list"
      ]
     },
     "execution_count": 6,
     "metadata": {},
     "output_type": "execute_result"
    }
   ],
   "source": [
    "type(lst)"
   ]
  },
  {
   "cell_type": "code",
   "execution_count": 7,
   "id": "05751dfb-cd2d-488e-b3f0-0f8aec580691",
   "metadata": {},
   "outputs": [
    {
     "data": {
      "text/plain": [
       "1"
      ]
     },
     "execution_count": 7,
     "metadata": {},
     "output_type": "execute_result"
    }
   ],
   "source": [
    "lst[1]"
   ]
  },
  {
   "cell_type": "code",
   "execution_count": 8,
   "id": "c7b73c58-2c07-4597-a7da-c6a21f6b4bb0",
   "metadata": {},
   "outputs": [
    {
     "data": {
      "text/plain": [
       "'jay'"
      ]
     },
     "execution_count": 8,
     "metadata": {},
     "output_type": "execute_result"
    }
   ],
   "source": [
    "lst[0]"
   ]
  },
  {
   "cell_type": "code",
   "execution_count": 11,
   "id": "950f1a2b-874f-4f8f-87aa-f10afb51928d",
   "metadata": {},
   "outputs": [
    {
     "name": "stdout",
     "output_type": "stream",
     "text": [
      "jay\n",
      "1\n",
      "2\n",
      "3\n",
      "4\n",
      "Apple\n",
      "Bannas\n"
     ]
    }
   ],
   "source": [
    "for x in lst:\n",
    "    print(x)"
   ]
  },
  {
   "cell_type": "code",
   "execution_count": 15,
   "id": "46b7f85d-f704-45f4-b9aa-3cee83d4a8c7",
   "metadata": {},
   "outputs": [
    {
     "name": "stdout",
     "output_type": "stream",
     "text": [
      "Apple\n",
      "Bannas\n",
      "Cherry\n",
      "Its a cherry fruit\n",
      "Zinger\n",
      "Mango\n"
     ]
    }
   ],
   "source": [
    "fruit_List=['Apple', 'Bannas', 'Cherry', 'Zinger', 'Mango']\n",
    "for a in fruit_List:\n",
    "    print(a)\n",
    "    if a=='Cherry':\n",
    "        print(\"Its a cherry fruit\")\n",
    "        "
   ]
  },
  {
   "cell_type": "code",
   "execution_count": 16,
   "id": "8db078de-fd98-4ffd-8483-6e3bc08b8c1b",
   "metadata": {},
   "outputs": [
    {
     "name": "stdout",
     "output_type": "stream",
     "text": [
      "m\n",
      "a\n",
      "n\n",
      "g\n",
      "o\n"
     ]
    }
   ],
   "source": [
    "fruit='mango'\n",
    "for x in fruit:\n",
    "    print(x)"
   ]
  },
  {
   "cell_type": "code",
   "execution_count": 17,
   "id": "a82b8b1e-824f-433a-8f46-ecec50a49872",
   "metadata": {},
   "outputs": [
    {
     "data": {
      "text/plain": [
       "'m'"
      ]
     },
     "execution_count": 17,
     "metadata": {},
     "output_type": "execute_result"
    }
   ],
   "source": [
    "fruit[0]"
   ]
  },
  {
   "cell_type": "code",
   "execution_count": 18,
   "id": "f62630c0-05ab-427a-9ab0-92e08a224b9a",
   "metadata": {},
   "outputs": [
    {
     "data": {
      "text/plain": [
       "'n'"
      ]
     },
     "execution_count": 18,
     "metadata": {},
     "output_type": "execute_result"
    }
   ],
   "source": [
    "fruit[2]"
   ]
  },
  {
   "cell_type": "code",
   "execution_count": 19,
   "id": "0d210066-52f8-4eb5-9907-6c54e8f6814e",
   "metadata": {},
   "outputs": [
    {
     "data": {
      "text/plain": [
       "'a'"
      ]
     },
     "execution_count": 19,
     "metadata": {},
     "output_type": "execute_result"
    }
   ],
   "source": [
    "fruit[1]"
   ]
  },
  {
   "cell_type": "code",
   "execution_count": 20,
   "id": "992a16cd-a9c9-4d9b-829d-e0b50fd11670",
   "metadata": {},
   "outputs": [
    {
     "data": {
      "text/plain": [
       "'g'"
      ]
     },
     "execution_count": 20,
     "metadata": {},
     "output_type": "execute_result"
    }
   ],
   "source": [
    "fruit[3]"
   ]
  },
  {
   "cell_type": "code",
   "execution_count": 21,
   "id": "70a5204d-474c-4ecd-8f08-063477d9c17a",
   "metadata": {},
   "outputs": [
    {
     "data": {
      "text/plain": [
       "'o'"
      ]
     },
     "execution_count": 21,
     "metadata": {},
     "output_type": "execute_result"
    }
   ],
   "source": [
    "fruit[4]"
   ]
  },
  {
   "cell_type": "code",
   "execution_count": 22,
   "id": "66549927-bcd6-4f5b-ab28-1691bb7263c6",
   "metadata": {},
   "outputs": [
    {
     "name": "stdout",
     "output_type": "stream",
     "text": [
      "mango"
     ]
    }
   ],
   "source": [
    "fruit='mango'\n",
    "for x in fruit:\n",
    "    print(x,end='')"
   ]
  },
  {
   "cell_type": "markdown",
   "id": "d66cdd53-45fa-4c4b-8f54-a2e7b16d8815",
   "metadata": {},
   "source": [
    "##Nested Loop"
   ]
  },
  {
   "cell_type": "code",
   "execution_count": 23,
   "id": "02428ecd-c9f3-4e91-a24d-afbed3cc4a98",
   "metadata": {},
   "outputs": [
    {
     "data": {
      "text/plain": [
       "range(1, 6)"
      ]
     },
     "execution_count": 23,
     "metadata": {},
     "output_type": "execute_result"
    }
   ],
   "source": [
    "range(1,6)"
   ]
  },
  {
   "cell_type": "code",
   "execution_count": 25,
   "id": "b7dd8d9d-f828-4e89-8215-d96eb95be9c4",
   "metadata": {},
   "outputs": [
    {
     "name": "stdout",
     "output_type": "stream",
     "text": [
      "1\n",
      "2\n",
      "3\n",
      "4\n",
      "5\n"
     ]
    }
   ],
   "source": [
    "for i in range(1,6):\n",
    "    print(i)"
   ]
  },
  {
   "cell_type": "code",
   "execution_count": 26,
   "id": "6422f136-6418-41b1-9116-2ac060033915",
   "metadata": {},
   "outputs": [
    {
     "name": "stdout",
     "output_type": "stream",
     "text": [
      "1\n",
      "3\n",
      "5\n"
     ]
    }
   ],
   "source": [
    "for i in range(1,6,2):\n",
    "    print(i)"
   ]
  },
  {
   "cell_type": "code",
   "execution_count": 27,
   "id": "e23a3a37-25ab-4751-a084-fc3549976a33",
   "metadata": {},
   "outputs": [
    {
     "name": "stdout",
     "output_type": "stream",
     "text": [
      "1\n",
      "2\n",
      "3\n",
      "4\n",
      "5\n",
      "6\n",
      "7\n",
      "8\n",
      "9\n"
     ]
    }
   ],
   "source": [
    "for i in range(1,10):\n",
    "    print(i)"
   ]
  },
  {
   "cell_type": "code",
   "execution_count": 28,
   "id": "fdb81b01-5985-4d5f-aac9-cafb6dd06dbc",
   "metadata": {},
   "outputs": [
    {
     "name": "stdout",
     "output_type": "stream",
     "text": [
      "1\n",
      "3\n",
      "5\n",
      "7\n",
      "9\n"
     ]
    }
   ],
   "source": [
    "for i in range(1,10,2):\n",
    "    print(i)"
   ]
  },
  {
   "cell_type": "code",
   "execution_count": 33,
   "id": "f8abc9d1-c1a3-4f0a-a620-95eea4580e6f",
   "metadata": {},
   "outputs": [
    {
     "name": "stdin",
     "output_type": "stream",
     "text": [
      "Enter the Number:- 6\n"
     ]
    },
    {
     "name": "stdout",
     "output_type": "stream",
     "text": [
      "*\n",
      "**\n",
      "***\n",
      "****\n",
      "*****\n",
      "******\n"
     ]
    }
   ],
   "source": [
    "X=int(input(\"Enter the Number:-\"))\n",
    "for i in range(0,X):\n",
    "    for j in range(0,i+1):\n",
    "        print(\"*\",end=\"\")\n",
    "    print(\"\\r\")"
   ]
  },
  {
   "cell_type": "code",
   "execution_count": null,
   "id": "722a9e80-b093-4b03-801d-fa003ce4cc74",
   "metadata": {},
   "outputs": [],
   "source": []
  },
  {
   "cell_type": "code",
   "execution_count": null,
   "id": "e54aef91-0182-4977-91de-669f9848698c",
   "metadata": {},
   "outputs": [],
   "source": []
  },
  {
   "cell_type": "code",
   "execution_count": null,
   "id": "2d465b0e-114d-4772-a9b4-f2e63542b41e",
   "metadata": {},
   "outputs": [],
   "source": []
  },
  {
   "cell_type": "code",
   "execution_count": null,
   "id": "a0ace7fb-e37a-4f84-ba89-240a8f512315",
   "metadata": {},
   "outputs": [],
   "source": []
  },
  {
   "cell_type": "code",
   "execution_count": null,
   "id": "3ae13c9f-d807-4c7a-bcf7-20b3149f2620",
   "metadata": {},
   "outputs": [],
   "source": []
  },
  {
   "cell_type": "code",
   "execution_count": null,
   "id": "cf56e732-0d78-4ca5-82b0-7a8259336994",
   "metadata": {},
   "outputs": [],
   "source": []
  }
 ],
 "metadata": {
  "kernelspec": {
   "display_name": "Python 3 (ipykernel)",
   "language": "python",
   "name": "python3"
  },
  "language_info": {
   "codemirror_mode": {
    "name": "ipython",
    "version": 3
   },
   "file_extension": ".py",
   "mimetype": "text/x-python",
   "name": "python",
   "nbconvert_exporter": "python",
   "pygments_lexer": "ipython3",
   "version": "3.10.8"
  }
 },
 "nbformat": 4,
 "nbformat_minor": 5
}
