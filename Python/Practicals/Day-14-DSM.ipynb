{
 "cells": [
  {
   "cell_type": "markdown",
   "id": "e5fe7267",
   "metadata": {},
   "source": [
    "### Day-14 Python"
   ]
  },
  {
   "cell_type": "markdown",
   "id": "ccf729c0",
   "metadata": {},
   "source": [
    "#### 1-> Polymorphism"
   ]
  },
  {
   "cell_type": "code",
   "execution_count": 1,
   "id": "9cc8cf25",
   "metadata": {},
   "outputs": [],
   "source": [
    "def test(a,b):\n",
    "    return a+b"
   ]
  },
  {
   "cell_type": "code",
   "execution_count": 2,
   "id": "0c37517a",
   "metadata": {},
   "outputs": [
    {
     "data": {
      "text/plain": [
       "9"
      ]
     },
     "execution_count": 2,
     "metadata": {},
     "output_type": "execute_result"
    }
   ],
   "source": [
    "test(4,5)"
   ]
  },
  {
   "cell_type": "code",
   "execution_count": 4,
   "id": "5c4f9de2",
   "metadata": {},
   "outputs": [
    {
     "data": {
      "text/plain": [
       "'Dhananjay Rokade'"
      ]
     },
     "execution_count": 4,
     "metadata": {},
     "output_type": "execute_result"
    }
   ],
   "source": [
    "test(\"Dhananjay \",\"Rokade\")"
   ]
  },
  {
   "cell_type": "code",
   "execution_count": 5,
   "id": "94c9f4f5",
   "metadata": {},
   "outputs": [
    {
     "data": {
      "text/plain": [
       "[2, 3, 4, 5, 5, 6, 7, 8]"
      ]
     },
     "execution_count": 5,
     "metadata": {},
     "output_type": "execute_result"
    }
   ],
   "source": [
    "test([2,3,4,5],[5,6,7,8])"
   ]
  },
  {
   "cell_type": "code",
   "execution_count": 6,
   "id": "732e74d4",
   "metadata": {},
   "outputs": [],
   "source": [
    "class data_science:\n",
    "    def syllabus(self):\n",
    "        print(\"This is my method for data science syllabus\")"
   ]
  },
  {
   "cell_type": "code",
   "execution_count": 7,
   "id": "749e4192",
   "metadata": {},
   "outputs": [],
   "source": [
    "class Web_Dev:\n",
    "    def syllabus(self):\n",
    "        print(\"This is my method for web dev Syllabus\")\n",
    "    "
   ]
  },
  {
   "cell_type": "code",
   "execution_count": 9,
   "id": "bac0e1de",
   "metadata": {},
   "outputs": [],
   "source": [
    "def class_parcer(class_obj):\n",
    "    for i in class_obj:\n",
    "        i.syllabus()"
   ]
  },
  {
   "cell_type": "code",
   "execution_count": 10,
   "id": "d4f6fa1b",
   "metadata": {},
   "outputs": [],
   "source": [
    "obj_data_science = data_science()"
   ]
  },
  {
   "cell_type": "code",
   "execution_count": 11,
   "id": "dc20e511",
   "metadata": {},
   "outputs": [],
   "source": [
    "obj_web_dev = Web_Dev()"
   ]
  },
  {
   "cell_type": "code",
   "execution_count": 12,
   "id": "ef8efce6",
   "metadata": {},
   "outputs": [],
   "source": [
    "class_obj = [obj_data_science,obj_web_dev]"
   ]
  },
  {
   "cell_type": "code",
   "execution_count": 13,
   "id": "98c524f2",
   "metadata": {},
   "outputs": [
    {
     "name": "stdout",
     "output_type": "stream",
     "text": [
      "This is my method for data science syllabus\n",
      "This is my method for web dev Syllabus\n"
     ]
    }
   ],
   "source": [
    "class_parcer(class_obj)"
   ]
  },
  {
   "cell_type": "markdown",
   "id": "78b34de2",
   "metadata": {},
   "source": [
    "#### 2-> Encapsulation"
   ]
  },
  {
   "cell_type": "code",
   "execution_count": 14,
   "id": "fc534009",
   "metadata": {},
   "outputs": [],
   "source": [
    "class test:\n",
    "    def __init__(self,a,b):\n",
    "        self.a = a\n",
    "        self.b = b\n",
    "        \n",
    "        "
   ]
  },
  {
   "cell_type": "code",
   "execution_count": 15,
   "id": "200f5302",
   "metadata": {},
   "outputs": [],
   "source": [
    "t = test(34,56)"
   ]
  },
  {
   "cell_type": "code",
   "execution_count": 16,
   "id": "49c1aff2",
   "metadata": {},
   "outputs": [
    {
     "data": {
      "text/plain": [
       "34"
      ]
     },
     "execution_count": 16,
     "metadata": {},
     "output_type": "execute_result"
    }
   ],
   "source": [
    "t.a"
   ]
  },
  {
   "cell_type": "code",
   "execution_count": 17,
   "id": "9db123a9",
   "metadata": {},
   "outputs": [
    {
     "data": {
      "text/plain": [
       "56"
      ]
     },
     "execution_count": 17,
     "metadata": {},
     "output_type": "execute_result"
    }
   ],
   "source": [
    "t.b"
   ]
  },
  {
   "cell_type": "code",
   "execution_count": 18,
   "id": "e5a8f1a9",
   "metadata": {},
   "outputs": [],
   "source": [
    "t.a = 3245"
   ]
  },
  {
   "cell_type": "code",
   "execution_count": 19,
   "id": "4d617863",
   "metadata": {},
   "outputs": [
    {
     "data": {
      "text/plain": [
       "3245"
      ]
     },
     "execution_count": 19,
     "metadata": {},
     "output_type": "execute_result"
    }
   ],
   "source": [
    "t.a"
   ]
  },
  {
   "cell_type": "code",
   "execution_count": 40,
   "id": "4d49965b",
   "metadata": {},
   "outputs": [],
   "source": [
    "class car:\n",
    "    \n",
    "    def __init__(self,year,make,model,speed):\n",
    "        self.__year = year\n",
    "        self.__make = make\n",
    "        self.__model = model\n",
    "        self.__speed = 0\n",
    "        \n",
    "    def set_speed(self,speed):\n",
    "        self.__speed = 0 if speed < 0 else speed\n",
    "        \n",
    "    def get_speed(self):\n",
    "        return self.__speed\n",
    "    \n",
    "        "
   ]
  },
  {
   "cell_type": "code",
   "execution_count": 41,
   "id": "3d0e38c9",
   "metadata": {},
   "outputs": [],
   "source": [
    "obj_car = car(2021,'Toyota','innova',12)"
   ]
  },
  {
   "cell_type": "code",
   "execution_count": 42,
   "id": "e8f97e45",
   "metadata": {},
   "outputs": [],
   "source": [
    "obj_car._car__year = 2023"
   ]
  },
  {
   "cell_type": "code",
   "execution_count": 43,
   "id": "635a53cb",
   "metadata": {},
   "outputs": [
    {
     "data": {
      "text/plain": [
       "2023"
      ]
     },
     "execution_count": 43,
     "metadata": {},
     "output_type": "execute_result"
    }
   ],
   "source": [
    "obj_car._car__year"
   ]
  },
  {
   "cell_type": "code",
   "execution_count": 44,
   "id": "5f19561b",
   "metadata": {},
   "outputs": [],
   "source": [
    "obj_car.set_speed(-123)"
   ]
  },
  {
   "cell_type": "code",
   "execution_count": 45,
   "id": "d21ea33b",
   "metadata": {},
   "outputs": [
    {
     "data": {
      "text/plain": [
       "0"
      ]
     },
     "execution_count": 45,
     "metadata": {},
     "output_type": "execute_result"
    }
   ],
   "source": [
    "obj_car._car__speed"
   ]
  },
  {
   "cell_type": "code",
   "execution_count": 46,
   "id": "eb75a37f",
   "metadata": {},
   "outputs": [],
   "source": [
    "obj_car.set_speed(123)"
   ]
  },
  {
   "cell_type": "code",
   "execution_count": 47,
   "id": "31c58e71",
   "metadata": {},
   "outputs": [
    {
     "data": {
      "text/plain": [
       "123"
      ]
     },
     "execution_count": 47,
     "metadata": {},
     "output_type": "execute_result"
    }
   ],
   "source": [
    "obj_car._car__speedobj"
   ]
  },
  {
   "cell_type": "code",
   "execution_count": 48,
   "id": "889493a8",
   "metadata": {},
   "outputs": [
    {
     "data": {
      "text/plain": [
       "123"
      ]
     },
     "execution_count": 48,
     "metadata": {},
     "output_type": "execute_result"
    }
   ],
   "source": [
    "obj_car.get_speed()"
   ]
  },
  {
   "cell_type": "code",
   "execution_count": 52,
   "id": "0730e98d",
   "metadata": {},
   "outputs": [],
   "source": [
    "class BankAccount:\n",
    "    \n",
    "    def __init__(self,balance):\n",
    "        self.__balance = balance\n",
    "        \n",
    "    def Deposit(self,amount):\n",
    "        self.__balance = self.__balance + amount\n",
    "        \n",
    "    def withdraw(self,amount):\n",
    "        if self.__balance >=amount:\n",
    "            self.__balance = self.__balance - amount\n",
    "            return True\n",
    "        else:\n",
    "            return False\n",
    "        \n",
    "    def get_balance(self):\n",
    "        return self.__balance"
   ]
  },
  {
   "cell_type": "code",
   "execution_count": 53,
   "id": "03551b94",
   "metadata": {},
   "outputs": [],
   "source": [
    "obj_bank = BankAccount(1000)"
   ]
  },
  {
   "cell_type": "code",
   "execution_count": 55,
   "id": "de99903f",
   "metadata": {},
   "outputs": [
    {
     "data": {
      "text/plain": [
       "1000"
      ]
     },
     "execution_count": 55,
     "metadata": {},
     "output_type": "execute_result"
    }
   ],
   "source": [
    "obj_bank.get_balance()"
   ]
  },
  {
   "cell_type": "code",
   "execution_count": 56,
   "id": "89aef98d",
   "metadata": {},
   "outputs": [],
   "source": [
    "obj_bank.Deposit(6000)\n"
   ]
  },
  {
   "cell_type": "code",
   "execution_count": 57,
   "id": "9a4d0e7b",
   "metadata": {},
   "outputs": [
    {
     "data": {
      "text/plain": [
       "7000"
      ]
     },
     "execution_count": 57,
     "metadata": {},
     "output_type": "execute_result"
    }
   ],
   "source": [
    "obj_bank.get_balance()"
   ]
  },
  {
   "cell_type": "code",
   "execution_count": 58,
   "id": "b873b3d6",
   "metadata": {},
   "outputs": [
    {
     "data": {
      "text/plain": [
       "False"
      ]
     },
     "execution_count": 58,
     "metadata": {},
     "output_type": "execute_result"
    }
   ],
   "source": [
    "obj_bank.withdraw(10000)"
   ]
  },
  {
   "cell_type": "code",
   "execution_count": 59,
   "id": "133763f9",
   "metadata": {},
   "outputs": [
    {
     "data": {
      "text/plain": [
       "True"
      ]
     },
     "execution_count": 59,
     "metadata": {},
     "output_type": "execute_result"
    }
   ],
   "source": [
    "obj_bank.withdraw(3000)"
   ]
  },
  {
   "cell_type": "code",
   "execution_count": 60,
   "id": "f2480fda",
   "metadata": {},
   "outputs": [
    {
     "data": {
      "text/plain": [
       "4000"
      ]
     },
     "execution_count": 60,
     "metadata": {},
     "output_type": "execute_result"
    }
   ],
   "source": [
    "obj_bank.get_balance()"
   ]
  },
  {
   "cell_type": "markdown",
   "id": "d0ecff11",
   "metadata": {},
   "source": [
    "#### 3 -> Inheritance"
   ]
  },
  {
   "cell_type": "code",
   "execution_count": 61,
   "id": "1073c8bb",
   "metadata": {},
   "outputs": [],
   "source": [
    "class parent:\n",
    "    \n",
    "    def test_parent(self):\n",
    "        print(\"This is my parent class\")\n",
    "        "
   ]
  },
  {
   "cell_type": "code",
   "execution_count": 62,
   "id": "aa132b99",
   "metadata": {},
   "outputs": [],
   "source": [
    "class child(parent):\n",
    "    def test_child(self):\n",
    "        print(\"This is my child class\")"
   ]
  },
  {
   "cell_type": "code",
   "execution_count": 63,
   "id": "5abff507",
   "metadata": {},
   "outputs": [],
   "source": [
    "child_obj = child()"
   ]
  },
  {
   "cell_type": "code",
   "execution_count": 64,
   "id": "3525595c",
   "metadata": {},
   "outputs": [
    {
     "name": "stdout",
     "output_type": "stream",
     "text": [
      "This is my parent class\n"
     ]
    }
   ],
   "source": [
    "child_obj.test_parent()"
   ]
  },
  {
   "cell_type": "code",
   "execution_count": 65,
   "id": "4f1bb0a7",
   "metadata": {},
   "outputs": [
    {
     "name": "stdout",
     "output_type": "stream",
     "text": [
      "This is my child class\n"
     ]
    }
   ],
   "source": [
    "child_obj.test_child()"
   ]
  },
  {
   "cell_type": "code",
   "execution_count": 66,
   "id": "bbee5547",
   "metadata": {},
   "outputs": [],
   "source": [
    "class class1:\n",
    "    def test_class1(self):\n",
    "        print(\"This is my class1\")"
   ]
  },
  {
   "cell_type": "code",
   "execution_count": 67,
   "id": "256a20ef",
   "metadata": {},
   "outputs": [],
   "source": [
    "class class2(class1):\n",
    "    def test_class2(self):\n",
    "        print(\"This is my class2\")"
   ]
  },
  {
   "cell_type": "code",
   "execution_count": 68,
   "id": "e95388cb",
   "metadata": {},
   "outputs": [],
   "source": [
    "class class3(class2):\n",
    "    def test_class3(self):\n",
    "        print(\"This is my class3\")"
   ]
  },
  {
   "cell_type": "code",
   "execution_count": 69,
   "id": "98bb7ab6",
   "metadata": {},
   "outputs": [],
   "source": [
    "obj_class3 = class3()"
   ]
  },
  {
   "cell_type": "code",
   "execution_count": 70,
   "id": "ee37e001",
   "metadata": {},
   "outputs": [
    {
     "name": "stdout",
     "output_type": "stream",
     "text": [
      "This is my class1\n"
     ]
    }
   ],
   "source": [
    "obj_class3.test_class1()"
   ]
  },
  {
   "cell_type": "code",
   "execution_count": 72,
   "id": "c2fa7310",
   "metadata": {},
   "outputs": [
    {
     "name": "stdout",
     "output_type": "stream",
     "text": [
      "This is my class2\n"
     ]
    }
   ],
   "source": [
    "obj_class3.test_class2()"
   ]
  },
  {
   "cell_type": "code",
   "execution_count": 73,
   "id": "e6c173b3",
   "metadata": {},
   "outputs": [
    {
     "name": "stdout",
     "output_type": "stream",
     "text": [
      "This is my class3\n"
     ]
    }
   ],
   "source": [
    "obj_class3.test_class3()"
   ]
  },
  {
   "cell_type": "code",
   "execution_count": 74,
   "id": "fc22c350",
   "metadata": {},
   "outputs": [],
   "source": [
    "class A :\n",
    "    def test_A(self):\n",
    "        print(\"This is class-A\")\n",
    "        "
   ]
  },
  {
   "cell_type": "code",
   "execution_count": 75,
   "id": "11faadff",
   "metadata": {},
   "outputs": [],
   "source": [
    "class B:\n",
    "    def test_B(self):\n",
    "        print(\"This is class-B\")"
   ]
  },
  {
   "cell_type": "code",
   "execution_count": 76,
   "id": "9f060fc6",
   "metadata": {},
   "outputs": [],
   "source": [
    "class C(A,B):\n",
    "    def test_C(self):\n",
    "        print(\"This is Class-C\")"
   ]
  },
  {
   "cell_type": "code",
   "execution_count": 77,
   "id": "f87f6c6a",
   "metadata": {},
   "outputs": [],
   "source": [
    "obj_class_C = C()"
   ]
  },
  {
   "cell_type": "code",
   "execution_count": 81,
   "id": "5e29c230",
   "metadata": {},
   "outputs": [
    {
     "name": "stdout",
     "output_type": "stream",
     "text": [
      "This is class-A\n"
     ]
    }
   ],
   "source": [
    "obj_class_C.test_A()"
   ]
  },
  {
   "cell_type": "code",
   "execution_count": 79,
   "id": "57b6ddc1",
   "metadata": {},
   "outputs": [
    {
     "name": "stdout",
     "output_type": "stream",
     "text": [
      "This is class-B\n"
     ]
    }
   ],
   "source": [
    "obj_class_C.test_B()"
   ]
  },
  {
   "cell_type": "code",
   "execution_count": 80,
   "id": "da109188",
   "metadata": {},
   "outputs": [
    {
     "name": "stdout",
     "output_type": "stream",
     "text": [
      "This is Class-C\n"
     ]
    }
   ],
   "source": [
    "obj_class_C.test_C()"
   ]
  },
  {
   "cell_type": "markdown",
   "id": "71a7c503",
   "metadata": {},
   "source": [
    "#### 4 -> Abstraction"
   ]
  },
  {
   "cell_type": "code",
   "execution_count": 85,
   "id": "f472606a",
   "metadata": {},
   "outputs": [],
   "source": [
    "import abc\n",
    "\n",
    "class pwskills:\n",
    "    @abc.abstractmethod\n",
    "    def student_details(self):\n",
    "        pass\n",
    "    @abc.abstractmethod\n",
    "    def student_assignment(self):\n",
    "        pass\n",
    "    @abc.abstractmethod\n",
    "    def student_marks(self):\n",
    "        pass"
   ]
  },
  {
   "cell_type": "code",
   "execution_count": 86,
   "id": "c8b7704f",
   "metadata": {},
   "outputs": [],
   "source": [
    "class data_science(pwskills):\n",
    "    \n",
    "    def student_details(self):\n",
    "        return \"it will try to return a details of data science master\"\n",
    "    \n",
    "    def student_assignment(self):\n",
    "        return \"it will return a details of student assignment for data science master\"\n",
    "    \n",
    "    def student_marks(self):\n",
    "        return \"it will return a details of student marks for data science master\""
   ]
  },
  {
   "cell_type": "code",
   "execution_count": 91,
   "id": "7bb7ba22",
   "metadata": {},
   "outputs": [],
   "source": [
    "class web_dev(pwskills):\n",
    "    \n",
    "    def student_details(self):\n",
    "        return \"it will try to return a details of web dev\"\n",
    "    \n",
    "    def student_assignment(self):\n",
    "        return \"it will return a details of student assignment for data web dev\"\n",
    "    \n",
    "    def student_marks(self):\n",
    "        return \"it will return a details of student marks for web dev\""
   ]
  },
  {
   "cell_type": "code",
   "execution_count": 87,
   "id": "4ad64333",
   "metadata": {},
   "outputs": [],
   "source": [
    "obj_data_science = data_science()"
   ]
  },
  {
   "cell_type": "code",
   "execution_count": 88,
   "id": "5ce7a87e",
   "metadata": {},
   "outputs": [
    {
     "data": {
      "text/plain": [
       "'it will return a details of student assignment for data science master'"
      ]
     },
     "execution_count": 88,
     "metadata": {},
     "output_type": "execute_result"
    }
   ],
   "source": [
    "obj_data_science.student_assignment()"
   ]
  },
  {
   "cell_type": "code",
   "execution_count": 89,
   "id": "f52778e1",
   "metadata": {},
   "outputs": [
    {
     "data": {
      "text/plain": [
       "'it will try to return a details of data science master'"
      ]
     },
     "execution_count": 89,
     "metadata": {},
     "output_type": "execute_result"
    }
   ],
   "source": [
    "obj_data_science.student_details()"
   ]
  },
  {
   "cell_type": "code",
   "execution_count": 90,
   "id": "edb61848",
   "metadata": {},
   "outputs": [
    {
     "data": {
      "text/plain": [
       "'it will return a details of student marks for data science master'"
      ]
     },
     "execution_count": 90,
     "metadata": {},
     "output_type": "execute_result"
    }
   ],
   "source": [
    "obj_data_science.student_marks()"
   ]
  },
  {
   "cell_type": "code",
   "execution_count": 93,
   "id": "4e6e50e1",
   "metadata": {},
   "outputs": [],
   "source": [
    "obj_web_dev = web_dev()"
   ]
  },
  {
   "cell_type": "code",
   "execution_count": 95,
   "id": "96e56917",
   "metadata": {},
   "outputs": [
    {
     "data": {
      "text/plain": [
       "'it will return a details of student assignment for data web dev'"
      ]
     },
     "execution_count": 95,
     "metadata": {},
     "output_type": "execute_result"
    }
   ],
   "source": [
    "obj_web_dev.student_assignment()"
   ]
  },
  {
   "cell_type": "code",
   "execution_count": 96,
   "id": "a9ecd89f",
   "metadata": {},
   "outputs": [
    {
     "data": {
      "text/plain": [
       "'it will try to return a details of web dev'"
      ]
     },
     "execution_count": 96,
     "metadata": {},
     "output_type": "execute_result"
    }
   ],
   "source": [
    "obj_web_dev.student_details()"
   ]
  },
  {
   "cell_type": "code",
   "execution_count": 97,
   "id": "20f0ca21",
   "metadata": {},
   "outputs": [
    {
     "data": {
      "text/plain": [
       "'it will return a details of student marks for web dev'"
      ]
     },
     "execution_count": 97,
     "metadata": {},
     "output_type": "execute_result"
    }
   ],
   "source": [
    "obj_web_dev.student_marks()"
   ]
  },
  {
   "cell_type": "code",
   "execution_count": null,
   "id": "d86a5f70",
   "metadata": {},
   "outputs": [],
   "source": []
  }
 ],
 "metadata": {
  "kernelspec": {
   "display_name": "Python 3 (ipykernel)",
   "language": "python",
   "name": "python3"
  },
  "language_info": {
   "codemirror_mode": {
    "name": "ipython",
    "version": 3
   },
   "file_extension": ".py",
   "mimetype": "text/x-python",
   "name": "python",
   "nbconvert_exporter": "python",
   "pygments_lexer": "ipython3",
   "version": "3.11.5"
  }
 },
 "nbformat": 4,
 "nbformat_minor": 5
}
