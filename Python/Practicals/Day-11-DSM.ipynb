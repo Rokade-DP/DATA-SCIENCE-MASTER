{
 "cells": [
  {
   "cell_type": "markdown",
   "id": "0fe12fe6",
   "metadata": {},
   "source": [
    "## Day-11 Python"
   ]
  },
  {
   "cell_type": "markdown",
   "id": "05dc14f9",
   "metadata": {},
   "source": [
    "#### Lambda Functions  // Anonymous Function"
   ]
  },
  {
   "cell_type": "code",
   "execution_count": 1,
   "id": "e41480ad",
   "metadata": {},
   "outputs": [],
   "source": [
    "n=3\n",
    "p=2"
   ]
  },
  {
   "cell_type": "code",
   "execution_count": 3,
   "id": "19e3d2bd",
   "metadata": {},
   "outputs": [],
   "source": [
    "def test(n ,p):\n",
    "    return n**p"
   ]
  },
  {
   "cell_type": "code",
   "execution_count": 5,
   "id": "9446daa3",
   "metadata": {},
   "outputs": [
    {
     "data": {
      "text/plain": [
       "4"
      ]
     },
     "execution_count": 5,
     "metadata": {},
     "output_type": "execute_result"
    }
   ],
   "source": [
    "test(2,2)"
   ]
  },
  {
   "cell_type": "code",
   "execution_count": 6,
   "id": "4d06a4ec",
   "metadata": {},
   "outputs": [
    {
     "data": {
      "text/plain": [
       "128"
      ]
     },
     "execution_count": 6,
     "metadata": {},
     "output_type": "execute_result"
    }
   ],
   "source": [
    "test(2,7)"
   ]
  },
  {
   "cell_type": "code",
   "execution_count": 8,
   "id": "5dce3b6d",
   "metadata": {},
   "outputs": [],
   "source": [
    "a = lambda n,p : n**p"
   ]
  },
  {
   "cell_type": "code",
   "execution_count": 10,
   "id": "bbe18ac1",
   "metadata": {},
   "outputs": [
    {
     "data": {
      "text/plain": [
       "243"
      ]
     },
     "execution_count": 10,
     "metadata": {},
     "output_type": "execute_result"
    }
   ],
   "source": [
    "a(3,5)"
   ]
  },
  {
   "cell_type": "code",
   "execution_count": 11,
   "id": "431e8212",
   "metadata": {},
   "outputs": [
    {
     "data": {
      "text/plain": [
       "4"
      ]
     },
     "execution_count": 11,
     "metadata": {},
     "output_type": "execute_result"
    }
   ],
   "source": [
    "a(2,2)"
   ]
  },
  {
   "cell_type": "code",
   "execution_count": 12,
   "id": "d622034a",
   "metadata": {},
   "outputs": [
    {
     "data": {
      "text/plain": [
       "6561"
      ]
     },
     "execution_count": 12,
     "metadata": {},
     "output_type": "execute_result"
    }
   ],
   "source": [
    "a(9,4)"
   ]
  },
  {
   "cell_type": "code",
   "execution_count": 13,
   "id": "43f05e57",
   "metadata": {},
   "outputs": [],
   "source": [
    "add = lambda x,y : x+y"
   ]
  },
  {
   "cell_type": "code",
   "execution_count": 14,
   "id": "9f174418",
   "metadata": {},
   "outputs": [
    {
     "data": {
      "text/plain": [
       "7"
      ]
     },
     "execution_count": 14,
     "metadata": {},
     "output_type": "execute_result"
    }
   ],
   "source": [
    "add(2,5)"
   ]
  },
  {
   "cell_type": "code",
   "execution_count": 15,
   "id": "88de6f80",
   "metadata": {},
   "outputs": [],
   "source": [
    "c_to_f = lambda c:(9/5)*c+32"
   ]
  },
  {
   "cell_type": "code",
   "execution_count": 17,
   "id": "eb2d4cc9",
   "metadata": {},
   "outputs": [
    {
     "data": {
      "text/plain": [
       "93.2"
      ]
     },
     "execution_count": 17,
     "metadata": {},
     "output_type": "execute_result"
    }
   ],
   "source": [
    "c_to_f(34)"
   ]
  },
  {
   "cell_type": "code",
   "execution_count": 18,
   "id": "d265dbf6",
   "metadata": {},
   "outputs": [],
   "source": [
    "max_of_two_number = lambda x,y: max(x,y)"
   ]
  },
  {
   "cell_type": "code",
   "execution_count": 19,
   "id": "3a12aa08",
   "metadata": {},
   "outputs": [
    {
     "data": {
      "text/plain": [
       "62675"
      ]
     },
     "execution_count": 19,
     "metadata": {},
     "output_type": "execute_result"
    }
   ],
   "source": [
    "max_of_two_number(1872,62675)"
   ]
  },
  {
   "cell_type": "code",
   "execution_count": 21,
   "id": "aaa63601",
   "metadata": {},
   "outputs": [],
   "source": [
    "max_of_two_number = lambda x,y: x if x>y else y"
   ]
  },
  {
   "cell_type": "code",
   "execution_count": 22,
   "id": "5d1b38c4",
   "metadata": {},
   "outputs": [
    {
     "data": {
      "text/plain": [
       "6"
      ]
     },
     "execution_count": 22,
     "metadata": {},
     "output_type": "execute_result"
    }
   ],
   "source": [
    "max_of_two_number(4,6)"
   ]
  },
  {
   "cell_type": "code",
   "execution_count": 23,
   "id": "aa3aaff8",
   "metadata": {},
   "outputs": [],
   "source": [
    "s = \"pwskills\"\n",
    "str_len = lambda s : len(s)"
   ]
  },
  {
   "cell_type": "code",
   "execution_count": 25,
   "id": "853fc31f",
   "metadata": {},
   "outputs": [
    {
     "data": {
      "text/plain": [
       "8"
      ]
     },
     "execution_count": 25,
     "metadata": {},
     "output_type": "execute_result"
    }
   ],
   "source": [
    "str_len(s)"
   ]
  },
  {
   "cell_type": "code",
   "execution_count": null,
   "id": "5325207d",
   "metadata": {},
   "outputs": [],
   "source": []
  }
 ],
 "metadata": {
  "kernelspec": {
   "display_name": "Python 3 (ipykernel)",
   "language": "python",
   "name": "python3"
  },
  "language_info": {
   "codemirror_mode": {
    "name": "ipython",
    "version": 3
   },
   "file_extension": ".py",
   "mimetype": "text/x-python",
   "name": "python",
   "nbconvert_exporter": "python",
   "pygments_lexer": "ipython3",
   "version": "3.11.5"
  }
 },
 "nbformat": 4,
 "nbformat_minor": 5
}
