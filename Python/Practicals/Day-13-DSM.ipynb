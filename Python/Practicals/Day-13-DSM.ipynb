{
 "cells": [
  {
   "cell_type": "markdown",
   "id": "5d52292f",
   "metadata": {},
   "source": [
    "#### Day-13 Python"
   ]
  },
  {
   "cell_type": "markdown",
   "id": "84dcbdd8",
   "metadata": {},
   "source": [
    "##### OPPS"
   ]
  },
  {
   "cell_type": "markdown",
   "id": "77ae6b5b",
   "metadata": {},
   "source": [
    "###### OOP - Object oriented programming"
   ]
  },
  {
   "cell_type": "code",
   "execution_count": 1,
   "id": "c216b652",
   "metadata": {},
   "outputs": [],
   "source": [
    "a = 10"
   ]
  },
  {
   "cell_type": "code",
   "execution_count": 2,
   "id": "9099a754",
   "metadata": {},
   "outputs": [
    {
     "name": "stdout",
     "output_type": "stream",
     "text": [
      "<class 'int'>\n"
     ]
    }
   ],
   "source": [
    "print(type(a))"
   ]
  },
  {
   "cell_type": "code",
   "execution_count": 3,
   "id": "61fb1981",
   "metadata": {},
   "outputs": [
    {
     "name": "stdout",
     "output_type": "stream",
     "text": [
      "<class 'str'>\n"
     ]
    }
   ],
   "source": [
    "print(type(\"Dhananjay\"))"
   ]
  },
  {
   "cell_type": "code",
   "execution_count": 4,
   "id": "7c076b87",
   "metadata": {},
   "outputs": [
    {
     "ename": "SyntaxError",
     "evalue": "incomplete input (3527747674.py, line 1)",
     "output_type": "error",
     "traceback": [
      "\u001b[1;36m  Cell \u001b[1;32mIn[4], line 1\u001b[1;36m\u001b[0m\n\u001b[1;33m    class test:\u001b[0m\n\u001b[1;37m               ^\u001b[0m\n\u001b[1;31mSyntaxError\u001b[0m\u001b[1;31m:\u001b[0m incomplete input\n"
     ]
    }
   ],
   "source": [
    "class test:"
   ]
  },
  {
   "cell_type": "code",
   "execution_count": 5,
   "id": "ed3a3031",
   "metadata": {},
   "outputs": [],
   "source": [
    "class test:\n",
    "    pass"
   ]
  },
  {
   "cell_type": "code",
   "execution_count": 7,
   "id": "54bda236",
   "metadata": {},
   "outputs": [
    {
     "data": {
      "text/plain": [
       "__main__.test"
      ]
     },
     "execution_count": 7,
     "metadata": {},
     "output_type": "execute_result"
    }
   ],
   "source": [
    "type(test())"
   ]
  },
  {
   "cell_type": "code",
   "execution_count": 8,
   "id": "cdb981a0",
   "metadata": {},
   "outputs": [],
   "source": [
    "a = test()"
   ]
  },
  {
   "cell_type": "code",
   "execution_count": 9,
   "id": "24ae59fc",
   "metadata": {},
   "outputs": [
    {
     "data": {
      "text/plain": [
       "<__main__.test at 0x2390cbbc090>"
      ]
     },
     "execution_count": 9,
     "metadata": {},
     "output_type": "execute_result"
    }
   ],
   "source": [
    "a"
   ]
  },
  {
   "cell_type": "code",
   "execution_count": 10,
   "id": "492a5b96",
   "metadata": {},
   "outputs": [
    {
     "name": "stdout",
     "output_type": "stream",
     "text": [
      "<class '__main__.test'>\n"
     ]
    }
   ],
   "source": [
    "print(type(a))"
   ]
  },
  {
   "cell_type": "code",
   "execution_count": 11,
   "id": "f1414dcc",
   "metadata": {},
   "outputs": [],
   "source": [
    "## 'a' is nothing but object it is real world entity and class is just a blueprint or template"
   ]
  },
  {
   "cell_type": "code",
   "execution_count": 14,
   "id": "d88d0957",
   "metadata": {},
   "outputs": [],
   "source": [
    "class pwskills:\n",
    "    def welcome_msg():\n",
    "        print(\"Welcome to pwskills\")"
   ]
  },
  {
   "cell_type": "code",
   "execution_count": 15,
   "id": "937d495d",
   "metadata": {},
   "outputs": [],
   "source": [
    "rohan = pwskills()"
   ]
  },
  {
   "cell_type": "code",
   "execution_count": 16,
   "id": "5a570387",
   "metadata": {},
   "outputs": [
    {
     "ename": "TypeError",
     "evalue": "pwskills.welcome_msg() takes 0 positional arguments but 1 was given",
     "output_type": "error",
     "traceback": [
      "\u001b[1;31m---------------------------------------------------------------------------\u001b[0m",
      "\u001b[1;31mTypeError\u001b[0m                                 Traceback (most recent call last)",
      "Cell \u001b[1;32mIn[16], line 1\u001b[0m\n\u001b[1;32m----> 1\u001b[0m rohan\u001b[38;5;241m.\u001b[39mwelcome_msg()\n",
      "\u001b[1;31mTypeError\u001b[0m: pwskills.welcome_msg() takes 0 positional arguments but 1 was given"
     ]
    }
   ],
   "source": [
    "rohan.welcome_msg()"
   ]
  },
  {
   "cell_type": "code",
   "execution_count": 17,
   "id": "c5a06e49",
   "metadata": {},
   "outputs": [],
   "source": [
    "## Self represents the instance of the class.\n",
    "## Basically self is used to understand the class yah the method is present inside me and the attribute present inside me\n",
    "class pwskills:\n",
    "    def welcome_msg(self):\n",
    "        print(\"Welcome to pwskills\")"
   ]
  },
  {
   "cell_type": "code",
   "execution_count": 18,
   "id": "d2de69d3",
   "metadata": {},
   "outputs": [],
   "source": [
    "rohan = pwskills()"
   ]
  },
  {
   "cell_type": "code",
   "execution_count": 19,
   "id": "21b189a7",
   "metadata": {},
   "outputs": [
    {
     "name": "stdout",
     "output_type": "stream",
     "text": [
      "Welcome to pwskills\n"
     ]
    }
   ],
   "source": [
    "rohan.welcome_msg()"
   ]
  },
  {
   "cell_type": "code",
   "execution_count": 20,
   "id": "5b01cfc6",
   "metadata": {},
   "outputs": [],
   "source": [
    "sohan  = pwskills()"
   ]
  },
  {
   "cell_type": "code",
   "execution_count": 21,
   "id": "1463a360",
   "metadata": {},
   "outputs": [
    {
     "name": "stdout",
     "output_type": "stream",
     "text": [
      "Welcome to pwskills\n"
     ]
    }
   ],
   "source": [
    "sohan.welcome_msg()"
   ]
  },
  {
   "cell_type": "code",
   "execution_count": 28,
   "id": "2efc420c",
   "metadata": {},
   "outputs": [],
   "source": [
    "## if i want to passed data --->\n",
    "## constructor is used to passed the data --(__init__())"
   ]
  },
  {
   "cell_type": "code",
   "execution_count": 29,
   "id": "5b1b1bcf",
   "metadata": {},
   "outputs": [],
   "source": [
    "a=1"
   ]
  },
  {
   "cell_type": "code",
   "execution_count": 30,
   "id": "365a5c41",
   "metadata": {},
   "outputs": [],
   "source": [
    "b=2"
   ]
  },
  {
   "cell_type": "code",
   "execution_count": 31,
   "id": "37b7338d",
   "metadata": {},
   "outputs": [
    {
     "data": {
      "text/plain": [
       "1"
      ]
     },
     "execution_count": 31,
     "metadata": {},
     "output_type": "execute_result"
    }
   ],
   "source": [
    "a"
   ]
  },
  {
   "cell_type": "code",
   "execution_count": 32,
   "id": "0569cae3",
   "metadata": {},
   "outputs": [
    {
     "data": {
      "text/plain": [
       "2"
      ]
     },
     "execution_count": 32,
     "metadata": {},
     "output_type": "execute_result"
    }
   ],
   "source": [
    "b"
   ]
  },
  {
   "cell_type": "code",
   "execution_count": 34,
   "id": "22101de6",
   "metadata": {},
   "outputs": [],
   "source": [
    "class pwskill:\n",
    "    def __init__(self,phone_number,email_id,student_id):\n",
    "        self.phone_number = phone_number\n",
    "        self.email_id = email_id\n",
    "        self.student_id = student_id\n",
    "        \n",
    "        \n",
    "    def return_student_details(self):\n",
    "        return self.phone_number, self.email_id, self.student_id"
   ]
  },
  {
   "cell_type": "code",
   "execution_count": 38,
   "id": "ed37d4f8",
   "metadata": {},
   "outputs": [],
   "source": [
    "rohan = pwskill(9284546754,\"hello@gmail.com\",101)"
   ]
  },
  {
   "cell_type": "code",
   "execution_count": 39,
   "id": "47cd6667",
   "metadata": {},
   "outputs": [
    {
     "data": {
      "text/plain": [
       "(9284546754, 'hello@gmail.com', 101)"
      ]
     },
     "execution_count": 39,
     "metadata": {},
     "output_type": "execute_result"
    }
   ],
   "source": [
    "rohan.return_student_details()"
   ]
  },
  {
   "cell_type": "code",
   "execution_count": 40,
   "id": "4d0401f0",
   "metadata": {},
   "outputs": [
    {
     "data": {
      "text/plain": [
       "9284546754"
      ]
     },
     "execution_count": 40,
     "metadata": {},
     "output_type": "execute_result"
    }
   ],
   "source": [
    "rohan.phone_number"
   ]
  },
  {
   "cell_type": "code",
   "execution_count": 41,
   "id": "6a4f8532",
   "metadata": {},
   "outputs": [
    {
     "data": {
      "text/plain": [
       "'hello@gmail.com'"
      ]
     },
     "execution_count": 41,
     "metadata": {},
     "output_type": "execute_result"
    }
   ],
   "source": [
    "rohan.email_id"
   ]
  },
  {
   "cell_type": "code",
   "execution_count": 42,
   "id": "5a5c708b",
   "metadata": {},
   "outputs": [
    {
     "data": {
      "text/plain": [
       "101"
      ]
     },
     "execution_count": 42,
     "metadata": {},
     "output_type": "execute_result"
    }
   ],
   "source": [
    "rohan.student_id"
   ]
  },
  {
   "cell_type": "code",
   "execution_count": 44,
   "id": "eb29271b",
   "metadata": {},
   "outputs": [
    {
     "data": {
      "text/plain": [
       "(9284546754, 'hello@gmail.com', 101)"
      ]
     },
     "execution_count": 44,
     "metadata": {},
     "output_type": "execute_result"
    }
   ],
   "source": [
    "rohan.return_student_details()"
   ]
  },
  {
   "cell_type": "code",
   "execution_count": 45,
   "id": "508c313e",
   "metadata": {},
   "outputs": [],
   "source": [
    "sohan = pwskill(987364527,\"sohan@gmail.com\",102)"
   ]
  },
  {
   "cell_type": "code",
   "execution_count": 46,
   "id": "f986d037",
   "metadata": {},
   "outputs": [
    {
     "data": {
      "text/plain": [
       "(987364527, 'sohan@gmail.com', 102)"
      ]
     },
     "execution_count": 46,
     "metadata": {},
     "output_type": "execute_result"
    }
   ],
   "source": [
    "sohan.return_student_details()"
   ]
  },
  {
   "cell_type": "code",
   "execution_count": 47,
   "id": "291f345f",
   "metadata": {},
   "outputs": [
    {
     "data": {
      "text/plain": [
       "987364527"
      ]
     },
     "execution_count": 47,
     "metadata": {},
     "output_type": "execute_result"
    }
   ],
   "source": [
    "sohan.phone_number"
   ]
  },
  {
   "cell_type": "code",
   "execution_count": 48,
   "id": "9261501a",
   "metadata": {},
   "outputs": [
    {
     "data": {
      "text/plain": [
       "'sohan@gmail.com'"
      ]
     },
     "execution_count": 48,
     "metadata": {},
     "output_type": "execute_result"
    }
   ],
   "source": [
    "sohan.email_id"
   ]
  },
  {
   "cell_type": "code",
   "execution_count": 49,
   "id": "b8614771",
   "metadata": {},
   "outputs": [
    {
     "data": {
      "text/plain": [
       "102"
      ]
     },
     "execution_count": 49,
     "metadata": {},
     "output_type": "execute_result"
    }
   ],
   "source": [
    "sohan.student_id"
   ]
  },
  {
   "cell_type": "code",
   "execution_count": 53,
   "id": "2476a898",
   "metadata": {},
   "outputs": [],
   "source": [
    "class pwskill2:\n",
    "    def __init__(jay,phone_number,email_id,student_id):\n",
    "        jay.phone_number = phone_number\n",
    "        jay.email_id = email_id\n",
    "        jay.student_id = student_id\n",
    "        \n",
    "        \n",
    "    def return_student_details(jay):\n",
    "        return jay.phone_number, jay.email_id, jay.student_id"
   ]
  },
  {
   "cell_type": "code",
   "execution_count": 54,
   "id": "9a86df12",
   "metadata": {},
   "outputs": [],
   "source": [
    "mohan = pwskill2(97256826,'mohan@gmail.com',103)"
   ]
  },
  {
   "cell_type": "code",
   "execution_count": 55,
   "id": "9324a346",
   "metadata": {},
   "outputs": [
    {
     "data": {
      "text/plain": [
       "(97256826, 'mohan@gmail.com', 103)"
      ]
     },
     "execution_count": 55,
     "metadata": {},
     "output_type": "execute_result"
    }
   ],
   "source": [
    "mohan.return_student_details()"
   ]
  },
  {
   "cell_type": "code",
   "execution_count": 56,
   "id": "3199f777",
   "metadata": {},
   "outputs": [
    {
     "data": {
      "text/plain": [
       "97256826"
      ]
     },
     "execution_count": 56,
     "metadata": {},
     "output_type": "execute_result"
    }
   ],
   "source": [
    "mohan.phone_number"
   ]
  },
  {
   "cell_type": "code",
   "execution_count": 57,
   "id": "3ddd69f8",
   "metadata": {},
   "outputs": [
    {
     "data": {
      "text/plain": [
       "'mohan@gmail.com'"
      ]
     },
     "execution_count": 57,
     "metadata": {},
     "output_type": "execute_result"
    }
   ],
   "source": [
    "mohan.email_id"
   ]
  },
  {
   "cell_type": "code",
   "execution_count": 58,
   "id": "a9041435",
   "metadata": {},
   "outputs": [
    {
     "data": {
      "text/plain": [
       "103"
      ]
     },
     "execution_count": 58,
     "metadata": {},
     "output_type": "execute_result"
    }
   ],
   "source": [
    "mohan.student_id"
   ]
  },
  {
   "cell_type": "code",
   "execution_count": 111,
   "id": "5b66ce90",
   "metadata": {},
   "outputs": [],
   "source": [
    "class pwskill3:\n",
    "    def __init__(self,phone_number,email_id,student_id):\n",
    "        self.phone = phone_number\n",
    "        self.email = email_id\n",
    "        self.student = student_id\n",
    "        \n",
    "        \n",
    "    def return_student_details(self):\n",
    "        return self.phone, self.email, self.student"
   ]
  },
  {
   "cell_type": "code",
   "execution_count": 112,
   "id": "1a3188ad",
   "metadata": {},
   "outputs": [],
   "source": [
    "rohan = pwskill3(897875765,'rohan@gmail.com',104)"
   ]
  },
  {
   "cell_type": "code",
   "execution_count": 113,
   "id": "32fd2bf7",
   "metadata": {},
   "outputs": [
    {
     "ename": "AttributeError",
     "evalue": "'pwskill3' object has no attribute 'phone_number'",
     "output_type": "error",
     "traceback": [
      "\u001b[1;31m---------------------------------------------------------------------------\u001b[0m",
      "\u001b[1;31mAttributeError\u001b[0m                            Traceback (most recent call last)",
      "Cell \u001b[1;32mIn[113], line 2\u001b[0m\n\u001b[0;32m      1\u001b[0m \u001b[38;5;66;03m## class only understand only self reffer attribute\u001b[39;00m\n\u001b[1;32m----> 2\u001b[0m rohan\u001b[38;5;241m.\u001b[39mphone_number\n",
      "\u001b[1;31mAttributeError\u001b[0m: 'pwskill3' object has no attribute 'phone_number'"
     ]
    }
   ],
   "source": [
    "## class only understand only self reffer attribute\n",
    "rohan.phone_number"
   ]
  },
  {
   "cell_type": "code",
   "execution_count": 103,
   "id": "588c4bce",
   "metadata": {},
   "outputs": [
    {
     "data": {
      "text/plain": [
       "897875765"
      ]
     },
     "execution_count": 103,
     "metadata": {},
     "output_type": "execute_result"
    }
   ],
   "source": [
    "rohan.phone"
   ]
  },
  {
   "cell_type": "code",
   "execution_count": 104,
   "id": "dee44009",
   "metadata": {},
   "outputs": [
    {
     "ename": "AttributeError",
     "evalue": "'pwskill3' object has no attribute 'email_id'",
     "output_type": "error",
     "traceback": [
      "\u001b[1;31m---------------------------------------------------------------------------\u001b[0m",
      "\u001b[1;31mAttributeError\u001b[0m                            Traceback (most recent call last)",
      "Cell \u001b[1;32mIn[104], line 1\u001b[0m\n\u001b[1;32m----> 1\u001b[0m rohan\u001b[38;5;241m.\u001b[39memail_id\n",
      "\u001b[1;31mAttributeError\u001b[0m: 'pwskill3' object has no attribute 'email_id'"
     ]
    }
   ],
   "source": [
    "rohan.email_id"
   ]
  },
  {
   "cell_type": "code",
   "execution_count": 105,
   "id": "fead9e61",
   "metadata": {},
   "outputs": [
    {
     "data": {
      "text/plain": [
       "'rohan@gmail.com'"
      ]
     },
     "execution_count": 105,
     "metadata": {},
     "output_type": "execute_result"
    }
   ],
   "source": [
    "rohan.email"
   ]
  },
  {
   "cell_type": "code",
   "execution_count": 106,
   "id": "858b55a2",
   "metadata": {},
   "outputs": [
    {
     "ename": "AttributeError",
     "evalue": "'pwskill3' object has no attribute 'student_id'",
     "output_type": "error",
     "traceback": [
      "\u001b[1;31m---------------------------------------------------------------------------\u001b[0m",
      "\u001b[1;31mAttributeError\u001b[0m                            Traceback (most recent call last)",
      "Cell \u001b[1;32mIn[106], line 1\u001b[0m\n\u001b[1;32m----> 1\u001b[0m rohan\u001b[38;5;241m.\u001b[39mstudent_id\n",
      "\u001b[1;31mAttributeError\u001b[0m: 'pwskill3' object has no attribute 'student_id'"
     ]
    }
   ],
   "source": [
    "rohan.student_id"
   ]
  },
  {
   "cell_type": "code",
   "execution_count": 107,
   "id": "4e4315f2",
   "metadata": {},
   "outputs": [
    {
     "data": {
      "text/plain": [
       "104"
      ]
     },
     "execution_count": 107,
     "metadata": {},
     "output_type": "execute_result"
    }
   ],
   "source": [
    "rohan.student"
   ]
  },
  {
   "cell_type": "code",
   "execution_count": 108,
   "id": "da963bd5",
   "metadata": {},
   "outputs": [
    {
     "ename": "AttributeError",
     "evalue": "'pwskill3' object has no attribute 'phone_number'",
     "output_type": "error",
     "traceback": [
      "\u001b[1;31m---------------------------------------------------------------------------\u001b[0m",
      "\u001b[1;31mAttributeError\u001b[0m                            Traceback (most recent call last)",
      "Cell \u001b[1;32mIn[108], line 1\u001b[0m\n\u001b[1;32m----> 1\u001b[0m rohan\u001b[38;5;241m.\u001b[39mreturn_student_details()\n",
      "Cell \u001b[1;32mIn[100], line 9\u001b[0m, in \u001b[0;36mpwskill3.return_student_details\u001b[1;34m(self)\u001b[0m\n\u001b[0;32m      8\u001b[0m \u001b[38;5;28;01mdef\u001b[39;00m \u001b[38;5;21mreturn_student_details\u001b[39m(\u001b[38;5;28mself\u001b[39m):\n\u001b[1;32m----> 9\u001b[0m     \u001b[38;5;28;01mreturn\u001b[39;00m \u001b[38;5;28mself\u001b[39m\u001b[38;5;241m.\u001b[39mphone_number, \u001b[38;5;28mself\u001b[39m\u001b[38;5;241m.\u001b[39memail_id, \u001b[38;5;28mself\u001b[39m\u001b[38;5;241m.\u001b[39mstudent_id\n",
      "\u001b[1;31mAttributeError\u001b[0m: 'pwskill3' object has no attribute 'phone_number'"
     ]
    }
   ],
   "source": [
    "rohan.return_student_details()"
   ]
  },
  {
   "cell_type": "code",
   "execution_count": 114,
   "id": "7c441f34",
   "metadata": {},
   "outputs": [
    {
     "data": {
      "text/plain": [
       "(897875765, 'rohan@gmail.com', 104)"
      ]
     },
     "execution_count": 114,
     "metadata": {},
     "output_type": "execute_result"
    }
   ],
   "source": [
    "rohan.return_student_details()"
   ]
  },
  {
   "cell_type": "code",
   "execution_count": null,
   "id": "7a4a859a",
   "metadata": {},
   "outputs": [],
   "source": []
  }
 ],
 "metadata": {
  "kernelspec": {
   "display_name": "Python 3 (ipykernel)",
   "language": "python",
   "name": "python3"
  },
  "language_info": {
   "codemirror_mode": {
    "name": "ipython",
    "version": 3
   },
   "file_extension": ".py",
   "mimetype": "text/x-python",
   "name": "python",
   "nbconvert_exporter": "python",
   "pygments_lexer": "ipython3",
   "version": "3.11.5"
  }
 },
 "nbformat": 4,
 "nbformat_minor": 5
}
