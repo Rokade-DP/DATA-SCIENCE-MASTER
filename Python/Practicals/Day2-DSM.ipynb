{
 "cells": [
  {
   "cell_type": "raw",
   "id": "8cd08956-98a2-44d1-914f-64cbdcfc8e7e",
   "metadata": {},
   "source": [
    "##Logical Operator\n",
    "1.And\n",
    "2.or\n",
    "3.not\n"
   ]
  },
  {
   "cell_type": "code",
   "execution_count": 1,
   "id": "72ec746d-aa33-40c0-bf87-6e8a7e2470a6",
   "metadata": {},
   "outputs": [
    {
     "data": {
      "text/plain": [
       "True"
      ]
     },
     "execution_count": 1,
     "metadata": {},
     "output_type": "execute_result"
    }
   ],
   "source": [
    "True and True\n"
   ]
  },
  {
   "cell_type": "code",
   "execution_count": 2,
   "id": "6e718c24-f8c5-4d97-9ca3-0e4b3cd5c0cf",
   "metadata": {},
   "outputs": [
    {
     "data": {
      "text/plain": [
       "False"
      ]
     },
     "execution_count": 2,
     "metadata": {},
     "output_type": "execute_result"
    }
   ],
   "source": [
    "not 1"
   ]
  },
  {
   "cell_type": "code",
   "execution_count": 3,
   "id": "e2083845-31cd-4323-988b-1cd0295727a7",
   "metadata": {},
   "outputs": [
    {
     "data": {
      "text/plain": [
       "True"
      ]
     },
     "execution_count": 3,
     "metadata": {},
     "output_type": "execute_result"
    }
   ],
   "source": [
    "not 0"
   ]
  },
  {
   "cell_type": "code",
   "execution_count": 4,
   "id": "cca1817d-e499-417e-8a80-b1e5038f8e80",
   "metadata": {},
   "outputs": [
    {
     "data": {
      "text/plain": [
       "True"
      ]
     },
     "execution_count": 4,
     "metadata": {},
     "output_type": "execute_result"
    }
   ],
   "source": [
    "True or False\n"
   ]
  },
  {
   "cell_type": "code",
   "execution_count": 8,
   "id": "290a51d0-34e2-42d9-9552-e5100930e113",
   "metadata": {},
   "outputs": [
    {
     "name": "stdout",
     "output_type": "stream",
     "text": [
      "Sorry\n"
     ]
    }
   ],
   "source": [
    "lst_a=[1, 2, 3, 4]\n",
    "lst_b=[1, 2 ,3 ,4]\n",
    "if id(lst_a) is id(lst_b):\n",
    "    print(\"Yahhh its same\")\n",
    "else:\n",
    "    print(\"Sorry\")"
   ]
  },
  {
   "cell_type": "code",
   "execution_count": 9,
   "id": "c2b6bb9b-3810-4a2f-898a-3c6c3194adda",
   "metadata": {},
   "outputs": [
    {
     "data": {
      "text/plain": [
       "139719562523456"
      ]
     },
     "execution_count": 9,
     "metadata": {},
     "output_type": "execute_result"
    }
   ],
   "source": [
    "id(lst_a)"
   ]
  },
  {
   "cell_type": "code",
   "execution_count": 10,
   "id": "0c77660d-7200-4ed6-9e8b-8373b2627b55",
   "metadata": {},
   "outputs": [
    {
     "data": {
      "text/plain": [
       "139719255597952"
      ]
     },
     "execution_count": 10,
     "metadata": {},
     "output_type": "execute_result"
    }
   ],
   "source": [
    "id(lst_b)"
   ]
  },
  {
   "cell_type": "code",
   "execution_count": 11,
   "id": "912363a7-67ad-4ab7-ba3e-c3e8468d8c44",
   "metadata": {},
   "outputs": [
    {
     "data": {
      "text/plain": [
       "False"
      ]
     },
     "execution_count": 11,
     "metadata": {},
     "output_type": "execute_result"
    }
   ],
   "source": [
    "lst_a is lst_b"
   ]
  },
  {
   "cell_type": "code",
   "execution_count": 13,
   "id": "5e85391e-5351-478c-89f5-985a871bef63",
   "metadata": {},
   "outputs": [
    {
     "name": "stdout",
     "output_type": "stream",
     "text": [
      "Yahhh its same\n"
     ]
    }
   ],
   "source": [
    "lst_a=[1, 2, 3, 4]\n",
    "lst_b=lst_a\n",
    "if id(lst_a) == id(lst_b):\n",
    "    print(\"Yahhh its same\")\n",
    "else:\n",
    "    print(\"Sorry\")"
   ]
  },
  {
   "cell_type": "code",
   "execution_count": 14,
   "id": "7cbe5cf5-880e-4932-b950-4fa82b4f2d05",
   "metadata": {},
   "outputs": [
    {
     "data": {
      "text/plain": [
       "139719257413504"
      ]
     },
     "execution_count": 14,
     "metadata": {},
     "output_type": "execute_result"
    }
   ],
   "source": [
    "id(lst_a)"
   ]
  },
  {
   "cell_type": "code",
   "execution_count": 15,
   "id": "b9694651-1035-433b-b814-339557d7ddd2",
   "metadata": {},
   "outputs": [
    {
     "data": {
      "text/plain": [
       "139719257413504"
      ]
     },
     "execution_count": 15,
     "metadata": {},
     "output_type": "execute_result"
    }
   ],
   "source": [
    "id(lst_b)"
   ]
  },
  {
   "cell_type": "code",
   "execution_count": 24,
   "id": "162f2b7f-5515-499d-8d34-31f330b2bf8a",
   "metadata": {},
   "outputs": [
    {
     "name": "stdout",
     "output_type": "stream",
     "text": [
      "139719611482384\n",
      "139719611482384\n"
     ]
    }
   ],
   "source": [
    "a=2\n",
    "b=2\n",
    "print(id(a))\n",
    "print(id(b))"
   ]
  },
  {
   "cell_type": "code",
   "execution_count": 24,
   "id": "8779964e-1e8a-4392-90fd-5eddefbc59a7",
   "metadata": {},
   "outputs": [
    {
     "name": "stdout",
     "output_type": "stream",
     "text": [
      "139719611482384\n",
      "139719611482384\n"
     ]
    }
   ],
   "source": [
    "a=2\n",
    "b=2\n",
    "print(id(a))\n",
    "print(id(b))"
   ]
  },
  {
   "cell_type": "code",
   "execution_count": 24,
   "id": "06cbdef9-2363-4667-8201-e19af2d0462a",
   "metadata": {},
   "outputs": [
    {
     "name": "stdout",
     "output_type": "stream",
     "text": [
      "139719611482384\n",
      "139719611482384\n"
     ]
    }
   ],
   "source": [
    "## Value ia mutable\n",
    "a=2\n",
    "b=2\n",
    "print(id(a))\n",
    "print(id(b))"
   ]
  },
  {
   "cell_type": "code",
   "execution_count": 26,
   "id": "c38d381e-bf17-4ad4-b041-bf6f382be6c6",
   "metadata": {},
   "outputs": [
    {
     "name": "stdout",
     "output_type": "stream",
     "text": [
      "139719257797360\n",
      "139719257797360\n"
     ]
    }
   ],
   "source": [
    "##String is immutatble\n",
    "y =\"jay\"\n",
    "x =\"jay\"\n",
    "print(id(y))\n",
    "print(id(x))"
   ]
  },
  {
   "cell_type": "code",
   "execution_count": 22,
   "id": "ca9ea562-6ccc-495c-85fd-2477d9ce5fec",
   "metadata": {},
   "outputs": [
    {
     "name": "stdout",
     "output_type": "stream",
     "text": [
      "139719257797360\n",
      "139719516793840\n"
     ]
    }
   ],
   "source": [
    "c =\"jay\"\n",
    "d =\"Rokade\"\n",
    "print(id(a))\n",
    "print(id(b))"
   ]
  },
  {
   "cell_type": "code",
   "execution_count": null,
   "id": "5cb3310b-c3b9-463e-9907-1d78cb780399",
   "metadata": {},
   "outputs": [],
   "source": []
  },
  {
   "cell_type": "code",
   "execution_count": 25,
   "id": "660d2e19-4edf-4f48-84ce-9dd6b00e20a2",
   "metadata": {},
   "outputs": [
    {
     "name": "stdout",
     "output_type": "stream",
     "text": [
      "True\n",
      "False\n"
     ]
    }
   ],
   "source": [
    "print(a==b)\n",
    "print(c==d)"
   ]
  },
  {
   "cell_type": "code",
   "execution_count": 27,
   "id": "3e072a00-c461-4587-b88a-d037f84feb4e",
   "metadata": {},
   "outputs": [
    {
     "name": "stdout",
     "output_type": "stream",
     "text": [
      "True\n",
      "True\n"
     ]
    }
   ],
   "source": [
    "print(a==b)\n",
    "print(y==x)"
   ]
  },
  {
   "cell_type": "code",
   "execution_count": 28,
   "id": "17548903-7ad4-4ae0-b213-7935e3fe5652",
   "metadata": {},
   "outputs": [
    {
     "data": {
      "text/plain": [
       "[1, 2, 3, 4]"
      ]
     },
     "execution_count": 28,
     "metadata": {},
     "output_type": "execute_result"
    }
   ],
   "source": [
    "lst_a"
   ]
  },
  {
   "cell_type": "code",
   "execution_count": 29,
   "id": "8773ab5a-edd1-4ccc-ba86-13393a913bf0",
   "metadata": {},
   "outputs": [
    {
     "data": {
      "text/plain": [
       "1"
      ]
     },
     "execution_count": 29,
     "metadata": {},
     "output_type": "execute_result"
    }
   ],
   "source": [
    "lst_a[0]"
   ]
  },
  {
   "cell_type": "code",
   "execution_count": 30,
   "id": "0d037266-5b48-4c08-93b9-39e9bcc8106f",
   "metadata": {},
   "outputs": [],
   "source": [
    "lst_a[0]=10"
   ]
  },
  {
   "cell_type": "code",
   "execution_count": 31,
   "id": "50f0ae1d-c58c-4393-b2c2-a5ff62bf4138",
   "metadata": {},
   "outputs": [
    {
     "data": {
      "text/plain": [
       "[10, 2, 3, 4]"
      ]
     },
     "execution_count": 31,
     "metadata": {},
     "output_type": "execute_result"
    }
   ],
   "source": [
    "lst_a"
   ]
  },
  {
   "cell_type": "code",
   "execution_count": 34,
   "id": "ce54d421-b809-4153-8b4e-400a1275b3ed",
   "metadata": {},
   "outputs": [
    {
     "data": {
      "text/plain": [
       "'j'"
      ]
     },
     "execution_count": 34,
     "metadata": {},
     "output_type": "execute_result"
    }
   ],
   "source": [
    "y[0]"
   ]
  },
  {
   "cell_type": "code",
   "execution_count": 35,
   "id": "be75af84-bf13-4694-a27d-87f32ee55edb",
   "metadata": {},
   "outputs": [
    {
     "ename": "NameError",
     "evalue": "name 't' is not defined",
     "output_type": "error",
     "traceback": [
      "\u001b[0;31m---------------------------------------------------------------------------\u001b[0m",
      "\u001b[0;31mNameError\u001b[0m                                 Traceback (most recent call last)",
      "Cell \u001b[0;32mIn[35], line 1\u001b[0m\n\u001b[0;32m----> 1\u001b[0m y[\u001b[38;5;241m0\u001b[39m]\u001b[38;5;241m=\u001b[39m\u001b[43mt\u001b[49m\n",
      "\u001b[0;31mNameError\u001b[0m: name 't' is not defined"
     ]
    }
   ],
   "source": [
    "y[0]=t"
   ]
  },
  {
   "cell_type": "code",
   "execution_count": 40,
   "id": "0bc27daa-da61-4e38-a54e-e2dea4651001",
   "metadata": {},
   "outputs": [
    {
     "name": "stdout",
     "output_type": "stream",
     "text": [
      "False\n"
     ]
    }
   ],
   "source": [
    "max_speed_bike=150\n",
    "max_speed_car=200\n",
    "print(max_speed_bike >= max_speed_car)"
   ]
  },
  {
   "cell_type": "markdown",
   "id": "45c2bd06-fcef-4da5-be1c-2e3fe26bdd05",
   "metadata": {},
   "source": [
    "## Aithamatic Operation"
   ]
  },
  {
   "cell_type": "code",
   "execution_count": 1,
   "id": "038bd529-efd9-49b4-bdef-476f2a4f1174",
   "metadata": {},
   "outputs": [],
   "source": [
    "a=25\n",
    "b=101\n",
    "\n"
   ]
  },
  {
   "cell_type": "code",
   "execution_count": 42,
   "id": "4d9f0c48-48b8-4e53-b33f-9d89bd28b489",
   "metadata": {},
   "outputs": [
    {
     "data": {
      "text/plain": [
       "4.04"
      ]
     },
     "execution_count": 42,
     "metadata": {},
     "output_type": "execute_result"
    }
   ],
   "source": [
    "b/a"
   ]
  },
  {
   "cell_type": "code",
   "execution_count": 43,
   "id": "1fe4cd0d-ff6b-40d6-aac4-e5878c9da6d7",
   "metadata": {},
   "outputs": [
    {
     "data": {
      "text/plain": [
       "0.24752475247524752"
      ]
     },
     "execution_count": 43,
     "metadata": {},
     "output_type": "execute_result"
    }
   ],
   "source": [
    "a/b"
   ]
  },
  {
   "cell_type": "code",
   "execution_count": 44,
   "id": "90a1d617-a9f0-4b86-af1b-441032813a4c",
   "metadata": {},
   "outputs": [
    {
     "data": {
      "text/plain": [
       "0"
      ]
     },
     "execution_count": 44,
     "metadata": {},
     "output_type": "execute_result"
    }
   ],
   "source": [
    "a//b"
   ]
  },
  {
   "cell_type": "code",
   "execution_count": 45,
   "id": "2788f2f4-69d3-43e6-a6eb-a1ff770eb44e",
   "metadata": {},
   "outputs": [
    {
     "data": {
      "text/plain": [
       "4"
      ]
     },
     "execution_count": 45,
     "metadata": {},
     "output_type": "execute_result"
    }
   ],
   "source": [
    "b//a"
   ]
  },
  {
   "cell_type": "code",
   "execution_count": 46,
   "id": "67f00a0b-44f6-4dfe-addb-a3fcb22c6c7c",
   "metadata": {},
   "outputs": [
    {
     "data": {
      "text/plain": [
       "25"
      ]
     },
     "execution_count": 46,
     "metadata": {},
     "output_type": "execute_result"
    }
   ],
   "source": [
    "a%b"
   ]
  },
  {
   "cell_type": "code",
   "execution_count": 47,
   "id": "bfe2d9a3-f4d5-4a7e-ac80-3abe89da0660",
   "metadata": {},
   "outputs": [
    {
     "data": {
      "text/plain": [
       "1"
      ]
     },
     "execution_count": 47,
     "metadata": {},
     "output_type": "execute_result"
    }
   ],
   "source": [
    "b%a"
   ]
  },
  {
   "cell_type": "code",
   "execution_count": 48,
   "id": "035fb7f8-5063-44be-a0bd-a18820c42ac4",
   "metadata": {},
   "outputs": [
    {
     "data": {
      "text/plain": [
       "126"
      ]
     },
     "execution_count": 48,
     "metadata": {},
     "output_type": "execute_result"
    }
   ],
   "source": [
    "b+a"
   ]
  },
  {
   "cell_type": "markdown",
   "id": "448895a7-78e5-4b34-986b-9683e138f449",
   "metadata": {},
   "source": [
    "##Bitwise Operation"
   ]
  },
  {
   "cell_type": "code",
   "execution_count": 49,
   "id": "73aa9b73-c38c-4825-a4f0-dbf70b269ecd",
   "metadata": {},
   "outputs": [
    {
     "data": {
      "text/plain": [
       "'0b1010'"
      ]
     },
     "execution_count": 49,
     "metadata": {},
     "output_type": "execute_result"
    }
   ],
   "source": [
    "a=10\n",
    "bin(a)"
   ]
  },
  {
   "cell_type": "code",
   "execution_count": 50,
   "id": "56dc5bcf-3a49-454d-ab98-3a5ca248ed01",
   "metadata": {},
   "outputs": [
    {
     "data": {
      "text/plain": [
       "'0o12'"
      ]
     },
     "execution_count": 50,
     "metadata": {},
     "output_type": "execute_result"
    }
   ],
   "source": [
    "oct(a)"
   ]
  },
  {
   "cell_type": "code",
   "execution_count": 51,
   "id": "34e80da1-ed6d-4623-91d3-c1bf3ce949fc",
   "metadata": {},
   "outputs": [
    {
     "data": {
      "text/plain": [
       "'0xa'"
      ]
     },
     "execution_count": 51,
     "metadata": {},
     "output_type": "execute_result"
    }
   ],
   "source": [
    "hex(a)"
   ]
  },
  {
   "cell_type": "markdown",
   "id": "1995dbf4-4240-4074-a274-7a6fb10003b0",
   "metadata": {},
   "source": [
    "Strings"
   ]
  },
  {
   "cell_type": "code",
   "execution_count": 52,
   "id": "43add370-080e-44a1-a70c-840b19e8a3ee",
   "metadata": {},
   "outputs": [
    {
     "data": {
      "text/plain": [
       "5"
      ]
     },
     "execution_count": 52,
     "metadata": {},
     "output_type": "execute_result"
    }
   ],
   "source": [
    "a>>1"
   ]
  },
  {
   "cell_type": "code",
   "execution_count": 53,
   "id": "16ef85dd-e8ba-4af5-84a6-42d7ab19eac8",
   "metadata": {},
   "outputs": [
    {
     "data": {
      "text/plain": [
       "5"
      ]
     },
     "execution_count": 53,
     "metadata": {},
     "output_type": "execute_result"
    }
   ],
   "source": [
    "a>>1"
   ]
  },
  {
   "cell_type": "code",
   "execution_count": 54,
   "id": "0f812ba6-f584-4390-b024-7b402611d97f",
   "metadata": {},
   "outputs": [
    {
     "data": {
      "text/plain": [
       "5"
      ]
     },
     "execution_count": 54,
     "metadata": {},
     "output_type": "execute_result"
    }
   ],
   "source": [
    "a>>1"
   ]
  },
  {
   "cell_type": "code",
   "execution_count": 55,
   "id": "287b528d-c785-4570-bd33-69a76118f483",
   "metadata": {},
   "outputs": [
    {
     "data": {
      "text/plain": [
       "20"
      ]
     },
     "execution_count": 55,
     "metadata": {},
     "output_type": "execute_result"
    }
   ],
   "source": [
    "a<<1"
   ]
  },
  {
   "cell_type": "code",
   "execution_count": 2,
   "id": "5cc20f74-e555-4a3f-a707-e10e0f1e4149",
   "metadata": {},
   "outputs": [
    {
     "name": "stdout",
     "output_type": "stream",
     "text": [
      "Welcome to raj muneshwar sir lab\n"
     ]
    }
   ],
   "source": [
    "a=\"Welcome to raj muneshwar sir lab\"\n",
    "print(a)"
   ]
  },
  {
   "cell_type": "code",
   "execution_count": 3,
   "id": "2a047c43-8068-43c0-b8f9-d2cc1d6fc1ff",
   "metadata": {},
   "outputs": [
    {
     "data": {
      "text/plain": [
       "str"
      ]
     },
     "execution_count": 3,
     "metadata": {},
     "output_type": "execute_result"
    }
   ],
   "source": [
    "type(a)\n"
   ]
  },
  {
   "cell_type": "code",
   "execution_count": 4,
   "id": "795e6c48-2930-4068-806c-b6bc3427be43",
   "metadata": {},
   "outputs": [
    {
     "data": {
      "text/plain": [
       "'W'"
      ]
     },
     "execution_count": 4,
     "metadata": {},
     "output_type": "execute_result"
    }
   ],
   "source": [
    "a[0]"
   ]
  },
  {
   "cell_type": "code",
   "execution_count": 5,
   "id": "5e066fbc-78ac-41ab-892c-1f9b1be226fa",
   "metadata": {},
   "outputs": [
    {
     "ename": "TypeError",
     "evalue": "'str' object does not support item assignment",
     "output_type": "error",
     "traceback": [
      "\u001b[0;31m---------------------------------------------------------------------------\u001b[0m",
      "\u001b[0;31mTypeError\u001b[0m                                 Traceback (most recent call last)",
      "Cell \u001b[0;32mIn[5], line 1\u001b[0m\n\u001b[0;32m----> 1\u001b[0m \u001b[43ma\u001b[49m\u001b[43m[\u001b[49m\u001b[38;5;241;43m0\u001b[39;49m\u001b[43m]\u001b[49m\u001b[38;5;241m=\u001b[39m\u001b[38;5;124m'\u001b[39m\u001b[38;5;124mj\u001b[39m\u001b[38;5;124m'\u001b[39m\n",
      "\u001b[0;31mTypeError\u001b[0m: 'str' object does not support item assignment"
     ]
    }
   ],
   "source": [
    "a[0]='j'"
   ]
  },
  {
   "cell_type": "code",
   "execution_count": 8,
   "id": "e835356a-ab79-46c1-81a7-2633563c6587",
   "metadata": {},
   "outputs": [
    {
     "name": "stdout",
     "output_type": "stream",
     "text": [
      "W\n",
      "e\n",
      "l\n",
      "c\n",
      "o\n",
      "m\n",
      "e\n",
      " \n",
      "t\n",
      "o\n",
      " \n",
      "r\n",
      "a\n",
      "j\n",
      " \n",
      "m\n",
      "u\n",
      "n\n",
      "e\n",
      "s\n",
      "h\n",
      "w\n",
      "a\n",
      "r\n",
      " \n",
      "s\n",
      "i\n",
      "r\n",
      " \n",
      "l\n",
      "a\n",
      "b\n"
     ]
    }
   ],
   "source": [
    "for x in a:\n",
    "    print(x)\n",
    "    "
   ]
  },
  {
   "cell_type": "code",
   "execution_count": 68,
   "id": "7ae59390-016f-4fde-9935-756d95f0b05a",
   "metadata": {},
   "outputs": [
    {
     "data": {
      "text/plain": [
       "['__add__',\n",
       " '__class__',\n",
       " '__contains__',\n",
       " '__delattr__',\n",
       " '__dir__',\n",
       " '__doc__',\n",
       " '__eq__',\n",
       " '__format__',\n",
       " '__ge__',\n",
       " '__getattribute__',\n",
       " '__getitem__',\n",
       " '__getnewargs__',\n",
       " '__gt__',\n",
       " '__hash__',\n",
       " '__init__',\n",
       " '__init_subclass__',\n",
       " '__iter__',\n",
       " '__le__',\n",
       " '__len__',\n",
       " '__lt__',\n",
       " '__mod__',\n",
       " '__mul__',\n",
       " '__ne__',\n",
       " '__new__',\n",
       " '__reduce__',\n",
       " '__reduce_ex__',\n",
       " '__repr__',\n",
       " '__rmod__',\n",
       " '__rmul__',\n",
       " '__setattr__',\n",
       " '__sizeof__',\n",
       " '__str__',\n",
       " '__subclasshook__',\n",
       " 'capitalize',\n",
       " 'casefold',\n",
       " 'center',\n",
       " 'count',\n",
       " 'encode',\n",
       " 'endswith',\n",
       " 'expandtabs',\n",
       " 'find',\n",
       " 'format',\n",
       " 'format_map',\n",
       " 'index',\n",
       " 'isalnum',\n",
       " 'isalpha',\n",
       " 'isascii',\n",
       " 'isdecimal',\n",
       " 'isdigit',\n",
       " 'isidentifier',\n",
       " 'islower',\n",
       " 'isnumeric',\n",
       " 'isprintable',\n",
       " 'isspace',\n",
       " 'istitle',\n",
       " 'isupper',\n",
       " 'join',\n",
       " 'ljust',\n",
       " 'lower',\n",
       " 'lstrip',\n",
       " 'maketrans',\n",
       " 'partition',\n",
       " 'removeprefix',\n",
       " 'removesuffix',\n",
       " 'replace',\n",
       " 'rfind',\n",
       " 'rindex',\n",
       " 'rjust',\n",
       " 'rpartition',\n",
       " 'rsplit',\n",
       " 'rstrip',\n",
       " 'split',\n",
       " 'splitlines',\n",
       " 'startswith',\n",
       " 'strip',\n",
       " 'swapcase',\n",
       " 'title',\n",
       " 'translate',\n",
       " 'upper',\n",
       " 'zfill']"
      ]
     },
     "execution_count": 68,
     "metadata": {},
     "output_type": "execute_result"
    }
   ],
   "source": [
    "dir(a)"
   ]
  },
  {
   "cell_type": "code",
   "execution_count": 69,
   "id": "0e3750ca-acb2-4b65-a5ea-c18a8a454012",
   "metadata": {},
   "outputs": [
    {
     "data": {
      "text/plain": [
       "'o'"
      ]
     },
     "execution_count": 69,
     "metadata": {},
     "output_type": "execute_result"
    }
   ],
   "source": [
    "var=\"Jay rokade BE IT student\"\n",
    "var[5]"
   ]
  },
  {
   "cell_type": "code",
   "execution_count": 70,
   "id": "a82760d8-b7e2-4bba-b556-e16f061b71a2",
   "metadata": {},
   "outputs": [
    {
     "data": {
      "text/plain": [
       "'okade BE IT student'"
      ]
     },
     "execution_count": 70,
     "metadata": {},
     "output_type": "execute_result"
    }
   ],
   "source": [
    "var[5:]"
   ]
  },
  {
   "cell_type": "code",
   "execution_count": 71,
   "id": "5afacf63-92c1-453d-82cd-8a685c87dfee",
   "metadata": {},
   "outputs": [
    {
     "data": {
      "text/plain": [
       "'ay rokade '"
      ]
     },
     "execution_count": 71,
     "metadata": {},
     "output_type": "execute_result"
    }
   ],
   "source": [
    "var[1:11]"
   ]
  },
  {
   "cell_type": "code",
   "execution_count": 72,
   "id": "c9b0491c-3ee5-4122-8a88-acf8d446144e",
   "metadata": {},
   "outputs": [
    {
     "data": {
      "text/plain": [
       "'t'"
      ]
     },
     "execution_count": 72,
     "metadata": {},
     "output_type": "execute_result"
    }
   ],
   "source": [
    "var[-1]"
   ]
  },
  {
   "cell_type": "code",
   "execution_count": 73,
   "id": "7175b1f8-4826-462b-a877-3b03464d6be6",
   "metadata": {},
   "outputs": [
    {
     "data": {
      "text/plain": [
       "'t'"
      ]
     },
     "execution_count": 73,
     "metadata": {},
     "output_type": "execute_result"
    }
   ],
   "source": [
    "var[-1:]"
   ]
  },
  {
   "cell_type": "code",
   "execution_count": 74,
   "id": "78103303-0d3c-4fb9-8de4-0ec24a60526d",
   "metadata": {},
   "outputs": [
    {
     "data": {
      "text/plain": [
       "'t'"
      ]
     },
     "execution_count": 74,
     "metadata": {},
     "output_type": "execute_result"
    }
   ],
   "source": [
    "var[-1::1]"
   ]
  },
  {
   "cell_type": "code",
   "execution_count": 75,
   "id": "541113b6-c681-4278-bdc8-3f1ef7e0f9cb",
   "metadata": {},
   "outputs": [
    {
     "data": {
      "text/plain": [
       "'ent'"
      ]
     },
     "execution_count": 75,
     "metadata": {},
     "output_type": "execute_result"
    }
   ],
   "source": [
    "var[-3:]"
   ]
  },
  {
   "cell_type": "code",
   "execution_count": 76,
   "id": "6ebf4d3c-8f10-474d-8b5d-7d54b3b1ed27",
   "metadata": {},
   "outputs": [
    {
     "data": {
      "text/plain": [
       "''"
      ]
     },
     "execution_count": 76,
     "metadata": {},
     "output_type": "execute_result"
    }
   ],
   "source": [
    "var[-1:9]"
   ]
  },
  {
   "cell_type": "code",
   "execution_count": 77,
   "id": "94822a3c-7603-4b20-b5ad-934694af54fd",
   "metadata": {},
   "outputs": [
    {
     "data": {
      "text/plain": [
       "''"
      ]
     },
     "execution_count": 77,
     "metadata": {},
     "output_type": "execute_result"
    }
   ],
   "source": [
    "var[-1:-100]"
   ]
  },
  {
   "cell_type": "code",
   "execution_count": 78,
   "id": "671b029c-4ca4-4724-8378-1a8832de1e53",
   "metadata": {},
   "outputs": [
    {
     "data": {
      "text/plain": [
       "'Jay rokade BE IT studen'"
      ]
     },
     "execution_count": 78,
     "metadata": {},
     "output_type": "execute_result"
    }
   ],
   "source": [
    "var[-100:-1]"
   ]
  },
  {
   "cell_type": "code",
   "execution_count": 83,
   "id": "871b6040-2f54-4218-aa26-9b100684e858",
   "metadata": {},
   "outputs": [
    {
     "data": {
      "text/plain": [
       "'Jay rokade BE IT student'"
      ]
     },
     "execution_count": 83,
     "metadata": {},
     "output_type": "execute_result"
    }
   ],
   "source": [
    "var[-117:28]"
   ]
  },
  {
   "cell_type": "code",
   "execution_count": 84,
   "id": "f8260476-e156-44f1-9f67-984807c85c52",
   "metadata": {},
   "outputs": [
    {
     "data": {
      "text/plain": [
       "'Jay rokade BE IT studen'"
      ]
     },
     "execution_count": 84,
     "metadata": {},
     "output_type": "execute_result"
    }
   ],
   "source": [
    "var[:-1]"
   ]
  },
  {
   "cell_type": "code",
   "execution_count": 85,
   "id": "bb7aba00-560d-4173-adc0-d89955f2a46e",
   "metadata": {},
   "outputs": [
    {
     "data": {
      "text/plain": [
       "'Jay rokade BE IT student'"
      ]
     },
     "execution_count": 85,
     "metadata": {},
     "output_type": "execute_result"
    }
   ],
   "source": [
    "var[:]"
   ]
  },
  {
   "cell_type": "code",
   "execution_count": 86,
   "id": "dd405dbf-477d-4fd6-bb92-cfa3c570ebc1",
   "metadata": {},
   "outputs": [
    {
     "data": {
      "text/plain": [
       "'tneduts TI EB edakor yaJ'"
      ]
     },
     "execution_count": 86,
     "metadata": {},
     "output_type": "execute_result"
    }
   ],
   "source": [
    "var[::-1]"
   ]
  },
  {
   "cell_type": "code",
   "execution_count": 88,
   "id": "05833b5f-fe3a-48f2-9543-430fb211618d",
   "metadata": {},
   "outputs": [
    {
     "data": {
      "text/plain": [
       "'teusT Beao a'"
      ]
     },
     "execution_count": 88,
     "metadata": {},
     "output_type": "execute_result"
    }
   ],
   "source": [
    "var[::-2]"
   ]
  },
  {
   "cell_type": "code",
   "execution_count": 90,
   "id": "7e882014-7891-442e-96d9-a4882c6e9d16",
   "metadata": {},
   "outputs": [
    {
     "data": {
      "text/plain": [
       "'lawjarP'"
      ]
     },
     "execution_count": 90,
     "metadata": {},
     "output_type": "execute_result"
    }
   ],
   "source": [
    "name=\"Prajwal\"\n",
    "name[::-1]"
   ]
  },
  {
   "cell_type": "code",
   "execution_count": 91,
   "id": "91d93133-3987-4cfc-bda6-753a7c762c8a",
   "metadata": {},
   "outputs": [
    {
     "data": {
      "text/plain": [
       "'ljP'"
      ]
     },
     "execution_count": 91,
     "metadata": {},
     "output_type": "execute_result"
    }
   ],
   "source": [
    "name[::-3]"
   ]
  },
  {
   "cell_type": "code",
   "execution_count": 92,
   "id": "caa3813b-7e2d-491a-9096-ba866479196e",
   "metadata": {},
   "outputs": [
    {
     "data": {
      "text/plain": [
       "'la'"
      ]
     },
     "execution_count": 92,
     "metadata": {},
     "output_type": "execute_result"
    }
   ],
   "source": [
    "name[::-4]"
   ]
  },
  {
   "cell_type": "code",
   "execution_count": 93,
   "id": "e24ea10e-43b6-4169-a522-4dda52f68ad2",
   "metadata": {},
   "outputs": [
    {
     "data": {
      "text/plain": [
       "'lr'"
      ]
     },
     "execution_count": 93,
     "metadata": {},
     "output_type": "execute_result"
    }
   ],
   "source": [
    "name[::-5]"
   ]
  },
  {
   "cell_type": "code",
   "execution_count": null,
   "id": "31ac7e64-c84d-4b38-bcf5-2f09551f9a72",
   "metadata": {},
   "outputs": [],
   "source": []
  },
  {
   "cell_type": "code",
   "execution_count": 94,
   "id": "61133709-b680-4761-95dd-1116145acf27",
   "metadata": {},
   "outputs": [
    {
     "data": {
      "text/plain": [
       "'lwaP'"
      ]
     },
     "execution_count": 94,
     "metadata": {},
     "output_type": "execute_result"
    }
   ],
   "source": [
    "name[::-2]"
   ]
  },
  {
   "cell_type": "code",
   "execution_count": 95,
   "id": "57df8927-2edc-4e11-bb8a-9a2813582ee6",
   "metadata": {},
   "outputs": [
    {
     "data": {
      "text/plain": [
       "'Pjl'"
      ]
     },
     "execution_count": 95,
     "metadata": {},
     "output_type": "execute_result"
    }
   ],
   "source": [
    "name[::3]"
   ]
  },
  {
   "cell_type": "code",
   "execution_count": 96,
   "id": "a9544e27-aaf5-4426-a6cf-73379149d099",
   "metadata": {},
   "outputs": [],
   "source": [
    "course_name=\"Data Science Master\""
   ]
  },
  {
   "cell_type": "code",
   "execution_count": 97,
   "id": "9baf2686-0dca-4b47-bd99-7f9e588053e6",
   "metadata": {},
   "outputs": [
    {
     "data": {
      "text/plain": [
       "'Science'"
      ]
     },
     "execution_count": 97,
     "metadata": {},
     "output_type": "execute_result"
    }
   ],
   "source": [
    "course_name[5:12:1]"
   ]
  },
  {
   "cell_type": "code",
   "execution_count": 103,
   "id": "81281d0a-7ffc-4065-937b-07474387b8f6",
   "metadata": {},
   "outputs": [
    {
     "data": {
      "text/plain": [
       "'ecneicS'"
      ]
     },
     "execution_count": 103,
     "metadata": {},
     "output_type": "execute_result"
    }
   ],
   "source": [
    "course_name[11:-15:-1]"
   ]
  },
  {
   "cell_type": "code",
   "execution_count": null,
   "id": "4caa0aea-36e3-4752-b8fd-cf1efc453ece",
   "metadata": {},
   "outputs": [],
   "source": []
  },
  {
   "cell_type": "code",
   "execution_count": null,
   "id": "e095dcc1-33cc-429e-9362-469e74159ab5",
   "metadata": {},
   "outputs": [],
   "source": []
  }
 ],
 "metadata": {
  "kernelspec": {
   "display_name": "Python 3 (ipykernel)",
   "language": "python",
   "name": "python3"
  },
  "language_info": {
   "codemirror_mode": {
    "name": "ipython",
    "version": 3
   },
   "file_extension": ".py",
   "mimetype": "text/x-python",
   "name": "python",
   "nbconvert_exporter": "python",
   "pygments_lexer": "ipython3",
   "version": "3.10.8"
  }
 },
 "nbformat": 4,
 "nbformat_minor": 5
}
