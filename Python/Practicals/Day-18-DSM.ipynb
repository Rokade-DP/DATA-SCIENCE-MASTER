{
 "cells": [
  {
   "cell_type": "markdown",
   "id": "5a2e06e8",
   "metadata": {},
   "source": [
    "## MultiThreading"
   ]
  },
  {
   "cell_type": "code",
   "execution_count": 1,
   "id": "04b5a789",
   "metadata": {},
   "outputs": [],
   "source": [
    "import threading"
   ]
  },
  {
   "cell_type": "code",
   "execution_count": 2,
   "id": "97f7c366",
   "metadata": {},
   "outputs": [],
   "source": [
    "def test(id):\n",
    "    print(\"This is my test id %d\" % id)"
   ]
  },
  {
   "cell_type": "code",
   "execution_count": 3,
   "id": "945bcf7c",
   "metadata": {},
   "outputs": [
    {
     "name": "stdout",
     "output_type": "stream",
     "text": [
      "This is my test id 10\n"
     ]
    }
   ],
   "source": [
    "test(10)"
   ]
  },
  {
   "cell_type": "code",
   "execution_count": 4,
   "id": "ec426e92",
   "metadata": {},
   "outputs": [
    {
     "name": "stdout",
     "output_type": "stream",
     "text": [
      "This is my test id 3\n"
     ]
    }
   ],
   "source": [
    "test(3)"
   ]
  },
  {
   "cell_type": "code",
   "execution_count": 5,
   "id": "637cc8e0",
   "metadata": {},
   "outputs": [],
   "source": [
    "thred = [threading.Thread(target=test,args=(i,)) for i in [10,1,3]]"
   ]
  },
  {
   "cell_type": "code",
   "execution_count": 6,
   "id": "429b0128",
   "metadata": {},
   "outputs": [
    {
     "data": {
      "text/plain": [
       "[<Thread(Thread-5 (test), initial)>,\n",
       " <Thread(Thread-6 (test), initial)>,\n",
       " <Thread(Thread-7 (test), initial)>]"
      ]
     },
     "execution_count": 6,
     "metadata": {},
     "output_type": "execute_result"
    }
   ],
   "source": [
    "thred"
   ]
  },
  {
   "cell_type": "code",
   "execution_count": 7,
   "id": "e03b22c9",
   "metadata": {},
   "outputs": [
    {
     "name": "stdout",
     "output_type": "stream",
     "text": [
      "This is my test id 10This is my test id 1\n",
      "\n",
      "This is my test id 3\n"
     ]
    }
   ],
   "source": [
    "for t in thred:\n",
    "    t.start()\n",
    "    "
   ]
  },
  {
   "cell_type": "code",
   "execution_count": 8,
   "id": "12305117",
   "metadata": {},
   "outputs": [],
   "source": [
    "import urllib.request\n",
    "\n",
    "def file_download(url, filename):\n",
    "    urllib.request.urlretrieve(url, filename)"
   ]
  },
  {
   "cell_type": "code",
   "execution_count": 9,
   "id": "45351d90",
   "metadata": {},
   "outputs": [],
   "source": [
    "file_download('https://en.wikipedia.org/wiki/HDH','test_1.txt')"
   ]
  },
  {
   "cell_type": "code",
   "execution_count": 10,
   "id": "c147c8ce",
   "metadata": {},
   "outputs": [],
   "source": [
    "url_list = ['https://en.wikipedia.org/wiki/HDH','https://www.thegamer.com/hitman-3-epic-game-store-io-interactive-repurchase-update/','https://soundcloud.com/hjjallday']"
   ]
  },
  {
   "cell_type": "code",
   "execution_count": 11,
   "id": "8d8984c2",
   "metadata": {},
   "outputs": [
    {
     "data": {
      "text/plain": [
       "['https://en.wikipedia.org/wiki/HDH',\n",
       " 'https://www.thegamer.com/hitman-3-epic-game-store-io-interactive-repurchase-update/',\n",
       " 'https://soundcloud.com/hjjallday']"
      ]
     },
     "execution_count": 11,
     "metadata": {},
     "output_type": "execute_result"
    }
   ],
   "source": [
    "url_list"
   ]
  },
  {
   "cell_type": "code",
   "execution_count": 12,
   "id": "b68b7941",
   "metadata": {},
   "outputs": [],
   "source": [
    "data_file_list = ['data1.txt','data2.txt','data3.txt']"
   ]
  },
  {
   "cell_type": "code",
   "execution_count": 13,
   "id": "63aec744",
   "metadata": {},
   "outputs": [
    {
     "data": {
      "text/plain": [
       "['data1.txt', 'data2.txt', 'data3.txt']"
      ]
     },
     "execution_count": 13,
     "metadata": {},
     "output_type": "execute_result"
    }
   ],
   "source": [
    "data_file_list"
   ]
  },
  {
   "cell_type": "code",
   "execution_count": 14,
   "id": "63bf5d9b",
   "metadata": {},
   "outputs": [],
   "source": [
    "thread1 =[threading.Thread(target=file_download,args=(url_list[i],data_file_list[i])) for i in range(len(url_list))]"
   ]
  },
  {
   "cell_type": "code",
   "execution_count": 15,
   "id": "79262665",
   "metadata": {},
   "outputs": [],
   "source": [
    "for t in thread1:\n",
    "    t.start()"
   ]
  },
  {
   "cell_type": "code",
   "execution_count": 16,
   "id": "84010bf5",
   "metadata": {},
   "outputs": [],
   "source": [
    "file_download('https://www.hotstar.com/in/home?ref=%2Fus','Hotstar_Clone.html')"
   ]
  },
  {
   "cell_type": "code",
   "execution_count": 17,
   "id": "11534b6f",
   "metadata": {},
   "outputs": [
    {
     "data": {
      "text/plain": [
       "[<Thread(Thread-8 (file_download), stopped 14132)>,\n",
       " <Thread(Thread-9 (file_download), started 19880)>,\n",
       " <Thread(Thread-10 (file_download), started 13732)>]"
      ]
     },
     "execution_count": 17,
     "metadata": {},
     "output_type": "execute_result"
    }
   ],
   "source": [
    "thread1"
   ]
  },
  {
   "cell_type": "code",
   "execution_count": 18,
   "id": "66c69435",
   "metadata": {},
   "outputs": [],
   "source": [
    "import time"
   ]
  },
  {
   "cell_type": "code",
   "execution_count": 19,
   "id": "f310ffc4",
   "metadata": {},
   "outputs": [],
   "source": [
    "def test2(x):\n",
    "    for i in range(10):\n",
    "        print(\"test1 print the value of x %d and print the value of i %d\"%(x,i))\n",
    "        time.sleep(1)"
   ]
  },
  {
   "cell_type": "code",
   "execution_count": 20,
   "id": "441cfe77",
   "metadata": {},
   "outputs": [
    {
     "name": "stdout",
     "output_type": "stream",
     "text": [
      "test1 print the value of x 10 and print the value of i 0\n",
      "test1 print the value of x 10 and print the value of i 1\n",
      "test1 print the value of x 10 and print the value of i 2\n",
      "test1 print the value of x 10 and print the value of i 3\n",
      "test1 print the value of x 10 and print the value of i 4\n",
      "test1 print the value of x 10 and print the value of i 5\n",
      "test1 print the value of x 10 and print the value of i 6\n",
      "test1 print the value of x 10 and print the value of i 7\n",
      "test1 print the value of x 10 and print the value of i 8\n",
      "test1 print the value of x 10 and print the value of i 9\n"
     ]
    }
   ],
   "source": [
    "test2(10)"
   ]
  },
  {
   "cell_type": "code",
   "execution_count": 21,
   "id": "f3cefa5e",
   "metadata": {},
   "outputs": [
    {
     "name": "stdout",
     "output_type": "stream",
     "text": [
      "test1 print the value of x 2 and print the value of i 0\n",
      "test1 print the value of x 2 and print the value of i 1\n",
      "test1 print the value of x 2 and print the value of i 2\n",
      "test1 print the value of x 2 and print the value of i 3\n",
      "test1 print the value of x 2 and print the value of i 4\n",
      "test1 print the value of x 2 and print the value of i 5\n",
      "test1 print the value of x 2 and print the value of i 6\n",
      "test1 print the value of x 2 and print the value of i 7\n",
      "test1 print the value of x 2 and print the value of i 8\n",
      "test1 print the value of x 2 and print the value of i 9\n"
     ]
    }
   ],
   "source": [
    "test2(2)"
   ]
  },
  {
   "cell_type": "code",
   "execution_count": 22,
   "id": "e55745cd",
   "metadata": {},
   "outputs": [],
   "source": [
    "thread2 = [threading.Thread(target=test2, args=(i,)) for i in [100,10,20,5]]"
   ]
  },
  {
   "cell_type": "code",
   "execution_count": 23,
   "id": "7f6fdef7",
   "metadata": {},
   "outputs": [
    {
     "name": "stdout",
     "output_type": "stream",
     "text": [
      "test1 print the value of x 100 and print the value of i 0\n",
      "test1 print the value of x 10 and print the value of i 0\n",
      "test1 print the value of x 20 and print the value of i 0\n",
      "test1 print the value of x 5 and print the value of i 0\n"
     ]
    }
   ],
   "source": [
    "for t in thread2:\n",
    "    t.start()"
   ]
  },
  {
   "cell_type": "code",
   "execution_count": 24,
   "id": "495d20a8",
   "metadata": {},
   "outputs": [
    {
     "name": "stdout",
     "output_type": "stream",
     "text": [
      "Value of x 1 and value of shared_var 1\n"
     ]
    }
   ],
   "source": [
    "shared_var = 0\n",
    "lock_var = threading.Lock()\n",
    "def test3(x):\n",
    "    global shared_var\n",
    "    with lock_var :\n",
    "        shared_var = shared_var+1\n",
    "        print(\"Value of x %d and value of shared_var %d\" %(x,shared_var))\n",
    "        time.sleep(1)\n",
    "\n",
    "thread4 = [threading.Thread(target=test3,args=(i,)) for i in [1,2,3,4,4,5]]\n",
    "for t in thread4:\n",
    "    t.start()"
   ]
  },
  {
   "cell_type": "code",
   "execution_count": 25,
   "id": "11e70f5c",
   "metadata": {},
   "outputs": [
    {
     "name": "stdout",
     "output_type": "stream",
     "text": [
      "test1 print the value of x 100 and print the value of i 1\n",
      "test1 print the value of x 10 and print the value of i 1\n",
      "test1 print the value of x 20 and print the value of i 1\n",
      "test1 print the value of x 5 and print the value of i 1\n",
      "Value of x 2 and value of shared_var 2\n",
      "test1 print the value of x 100 and print the value of i 2\n",
      "test1 print the value of x 10 and print the value of i 2\n",
      "test1 print the value of x 20 and print the value of i 2\n",
      "test1 print the value of x 5 and print the value of i 2\n",
      "Value of x 3 and value of shared_var 3\n",
      "test1 print the value of x 100 and print the value of i 3\n",
      "test1 print the value of x 10 and print the value of i 3\n",
      "test1 print the value of x 20 and print the value of i 3\n",
      "test1 print the value of x 5 and print the value of i 3\n",
      "Value of x 4 and value of shared_var 4\n",
      "test1 print the value of x 100 and print the value of i 4test1 print the value of x 10 and print the value of i 4\n",
      "\n",
      "test1 print the value of x 20 and print the value of i 4\n",
      "test1 print the value of x 5 and print the value of i 4\n",
      "Value of x 4 and value of shared_var 5\n",
      "test1 print the value of x 100 and print the value of i 5test1 print the value of x 10 and print the value of i 5\n",
      "\n",
      "test1 print the value of x 20 and print the value of i 5\n",
      "test1 print the value of x 5 and print the value of i 5\n",
      "Value of x 5 and value of shared_var 6\n",
      "test1 print the value of x 100 and print the value of i 6test1 print the value of x 10 and print the value of i 6\n",
      "\n",
      "test1 print the value of x 20 and print the value of i 6\n",
      "test1 print the value of x 5 and print the value of i 6\n",
      "Value of x 1 and value of shared_var 7\n",
      "test1 print the value of x 10 and print the value of i 7test1 print the value of x 100 and print the value of i 7\n",
      "test1 print the value of x 5 and print the value of i 7\n",
      "test1 print the value of x 20 and print the value of i 7\n",
      "\n"
     ]
    }
   ],
   "source": [
    "test3(1)"
   ]
  },
  {
   "cell_type": "code",
   "execution_count": 26,
   "id": "a88230e4",
   "metadata": {},
   "outputs": [
    {
     "name": "stdout",
     "output_type": "stream",
     "text": [
      "Value of x 2 and value of shared_var 8\n",
      "test1 print the value of x 20 and print the value of i 8test1 print the value of x 5 and print the value of i 8\n",
      "test1 print the value of x 100 and print the value of i 8\n",
      "test1 print the value of x 10 and print the value of i 8\n",
      "\n"
     ]
    }
   ],
   "source": [
    "test3(2)"
   ]
  },
  {
   "cell_type": "code",
   "execution_count": null,
   "id": "bffffa02",
   "metadata": {},
   "outputs": [],
   "source": []
  },
  {
   "cell_type": "code",
   "execution_count": null,
   "id": "7c3f77e6",
   "metadata": {},
   "outputs": [],
   "source": []
  },
  {
   "cell_type": "code",
   "execution_count": null,
   "id": "8e05a2b0",
   "metadata": {},
   "outputs": [],
   "source": []
  },
  {
   "cell_type": "code",
   "execution_count": null,
   "id": "ea80d550",
   "metadata": {},
   "outputs": [],
   "source": []
  },
  {
   "cell_type": "code",
   "execution_count": null,
   "id": "4c6bd383",
   "metadata": {},
   "outputs": [],
   "source": []
  },
  {
   "cell_type": "code",
   "execution_count": null,
   "id": "a8613380",
   "metadata": {},
   "outputs": [],
   "source": []
  }
 ],
 "metadata": {
  "kernelspec": {
   "display_name": "Python 3 (ipykernel)",
   "language": "python",
   "name": "python3"
  },
  "language_info": {
   "codemirror_mode": {
    "name": "ipython",
    "version": 3
   },
   "file_extension": ".py",
   "mimetype": "text/x-python",
   "name": "python",
   "nbconvert_exporter": "python",
   "pygments_lexer": "ipython3",
   "version": "3.11.5"
  }
 },
 "nbformat": 4,
 "nbformat_minor": 5
}
