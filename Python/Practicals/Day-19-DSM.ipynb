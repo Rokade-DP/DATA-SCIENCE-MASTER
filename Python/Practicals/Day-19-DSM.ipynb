{
 "cells": [
  {
   "cell_type": "markdown",
   "id": "29c89e47-3a3a-4cb9-bf41-2fcef4fb0409",
   "metadata": {},
   "source": [
    "## Multiprocessing"
   ]
  },
  {
   "cell_type": "code",
   "execution_count": 2,
   "id": "874cd820-17cd-4a9a-b109-2d15d443647a",
   "metadata": {},
   "outputs": [
    {
     "name": "stdout",
     "output_type": "stream",
     "text": [
      "This is my main program\n",
      "This is my multiprocessing\n"
     ]
    }
   ],
   "source": [
    "import multiprocessing\n",
    "\n",
    "def test():\n",
    "    print(\"This is my multiprocessing\")\n",
    "    \n",
    "if __name__ == \"__main__\":\n",
    "    m = multiprocessing.Process(target=test)\n",
    "    print(\"This is my main program\")\n",
    "    m.start()\n",
    "    m.join()"
   ]
  },
  {
   "cell_type": "code",
   "execution_count": 3,
   "id": "34eba63f-d649-4506-a2de-da6628e4bc9c",
   "metadata": {},
   "outputs": [
    {
     "name": "stdout",
     "output_type": "stream",
     "text": [
      "[9, 16, 25, 36, 49, 64, 81, 1849, 4]\n"
     ]
    }
   ],
   "source": [
    "def square(n):\n",
    "    return n**2\n",
    "\n",
    "if __name__ == \"__main__\":\n",
    "    with multiprocessing.Pool(processes=5) as pool:\n",
    "        out = pool.map(square,[3,4,5,6,7,8,9,43,2])\n",
    "        print(out)"
   ]
  },
  {
   "cell_type": "code",
   "execution_count": null,
   "id": "e81eab61-3a23-4bf3-b4f6-313298b417c1",
   "metadata": {},
   "outputs": [
    {
     "name": "stdout",
     "output_type": "stream",
     "text": [
      "jay\n",
      "rokade\n",
      "pwskills\n",
      "kunal\n",
      "chaudhari\n",
      "xyz\n"
     ]
    }
   ],
   "source": [
    "import multiprocessing\n",
    "def producer(q):\n",
    "    for i in ['jay','rokade','pwskills','kunal','chaudhari']:\n",
    "        q.put(i)\n",
    "        \n",
    "def consume(q):\n",
    "    while True:\n",
    "        item = q.get()\n",
    "        if item is None:\n",
    "            break\n",
    "        print(item)\n",
    "        \n",
    "if __name__ == '__main__':\n",
    "    queue = multiprocessing.Queue()\n",
    "    m1 = multiprocessing.Process(target = producer,args=(queue,))\n",
    "    m2 = multiprocessing.Process(target = consume , args=(queue,))\n",
    "    m1.start()\n",
    "    m2.start()\n",
    "    queue.put('xyz')\n",
    "    m1.join()\n",
    "    m2.join()"
   ]
  },
  {
   "cell_type": "code",
   "execution_count": null,
   "id": "ca693ae1-60a8-4e5b-b1af-7233e8dcc93c",
   "metadata": {},
   "outputs": [],
   "source": [
    "import multiprocessing\n",
    "\n",
    "def square(index , value):\n",
    "    value[index] = value[index]**2\n",
    "    \n",
    "if __name__ == \"__main__\":\n",
    "    arr = multiprocessing.Array('i',[2,3,4,5,6,7,8,9])\n",
    "    process = []\n",
    "    for i in range(8):\n",
    "        m = multiprocessing.Process(target=square, args=(i,arr))\n",
    "        process.append(m)\n",
    "        m.start()\n",
    "    for m in process:\n",
    "        m.join()\n",
    "    print(list(arr))"
   ]
  },
  {
   "cell_type": "code",
   "execution_count": null,
   "id": "dbc629e6-8f2b-495f-ab3c-b574ff191785",
   "metadata": {},
   "outputs": [],
   "source": [
    "import multiprocessing\n",
    "\n",
    "def sender(conn, msg):\n",
    "    for i in msg:\n",
    "        conn.send(i)\n",
    "    conn.close()\n",
    "    \n",
    "def receive(conn):\n",
    "    while True:\n",
    "        try:\n",
    "            msg = conn.recv()\n",
    "        except Exception as e:\n",
    "            print(e)\n",
    "            break\n",
    "        print(msg)\n",
    "        \n",
    "if __name__ == \"__main__\":\n",
    "    msg = [\"My name is Jay\",\"This is my students\",\"I am taking class for dsm\",\"Try to practice all the code\"]\n",
    "    parent_conn, child_conn = multiprocessing.Pipe()\n",
    "    m1 = multiprocessing.Process(target=sender, args=(child_conn, msg))\n",
    "    m2 = multiprocessing.Process(target=receive, args=(parent_conn,))\n",
    "    \n",
    "    m1.start()\n",
    "    m2.start()\n",
    "    \n",
    "    m1.join()\n",
    "    child_conn.close()\n",
    "    m2.join()\n",
    "    parent_conn.close()"
   ]
  },
  {
   "cell_type": "code",
   "execution_count": null,
   "id": "eac956d9-ac24-49dc-a241-81b3ef986014",
   "metadata": {},
   "outputs": [],
   "source": []
  }
 ],
 "metadata": {
  "kernelspec": {
   "display_name": "Python 3 (ipykernel)",
   "language": "python",
   "name": "python3"
  },
  "language_info": {
   "codemirror_mode": {
    "name": "ipython",
    "version": 3
   },
   "file_extension": ".py",
   "mimetype": "text/x-python",
   "name": "python",
   "nbconvert_exporter": "python",
   "pygments_lexer": "ipython3",
   "version": "3.10.8"
  }
 },
 "nbformat": 4,
 "nbformat_minor": 5
}
