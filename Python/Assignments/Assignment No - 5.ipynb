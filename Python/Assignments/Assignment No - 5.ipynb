{
 "cells": [
  {
   "cell_type": "markdown",
   "id": "25d94fb1",
   "metadata": {},
   "source": [
    "#### Q1 - Who Developed python Programming Language\n",
    "------->>> Python Programming was Developed By __Guido van Rossum__."
   ]
  },
  {
   "cell_type": "markdown",
   "id": "e09cc016",
   "metadata": {},
   "source": [
    "#### Q2 - Which Type of Programming does python support ?\n",
    "------->>> Python Support __OOP(Object Oriented Programming)__"
   ]
  },
  {
   "cell_type": "markdown",
   "id": "68d01e6b",
   "metadata": {},
   "source": [
    "#### Q3 - Is python case sensitive when dealing with identifier ?\n",
    "------>>> Yes, __Python is case sensitive__ when dealing with identifier"
   ]
  },
  {
   "cell_type": "markdown",
   "id": "7eb1e24b",
   "metadata": {},
   "source": [
    "#### Q4 - What is the correct extension of the python file ?\n",
    "----->>> The correct extension of python file is __.py__ "
   ]
  },
  {
   "cell_type": "markdown",
   "id": "292451c3",
   "metadata": {},
   "source": [
    "#### Q5 - is python code compiled or Interpreted ?\n",
    "----->>>  Pythin code is __Interpreted__."
   ]
  },
  {
   "cell_type": "markdown",
   "id": "8c7e1c5c",
   "metadata": {},
   "source": [
    "#### Q6 -  Name a few block of code used to define in python language ?\n",
    "----->>> Module, Function Body , Class, Object."
   ]
  },
  {
   "cell_type": "code",
   "execution_count": 4,
   "id": "d8bcf89e",
   "metadata": {},
   "outputs": [
    {
     "name": "stdout",
     "output_type": "stream",
     "text": [
      "Hello I am Python \n"
     ]
    },
    {
     "data": {
      "text/plain": [
       "9"
      ]
     },
     "execution_count": 4,
     "metadata": {},
     "output_type": "execute_result"
    }
   ],
   "source": [
    "class Test:\n",
    "    def __init__(self,a,b):\n",
    "        self.a = a\n",
    "        self.b = b\n",
    "        print(\"Hello I am Python \")\n",
    "        \n",
    "    def Display(self):\n",
    "        return self.a + self.b\n",
    "    \n",
    "obj = Test(4,5)\n",
    "obj.Display()"
   ]
  },
  {
   "cell_type": "markdown",
   "id": "c95f4cb7",
   "metadata": {},
   "source": [
    "#### Q7 - State a character used to give single-line commnets in python ?\n",
    "------->>> __#__ character is used to give single -line commnet in python"
   ]
  },
  {
   "cell_type": "markdown",
   "id": "f9f4dc73",
   "metadata": {},
   "source": [
    "#### Q8 - Mention Functions which can help us to find the version of python that we are currently working on ?\n",
    "------->>> __sys.version__ function is help to find the version of python"
   ]
  },
  {
   "cell_type": "markdown",
   "id": "45d1fe2b",
   "metadata": {},
   "source": [
    "#### Q9 - Python supports the creation of Anonymous function at runtime, using a construct ?\n",
    "------->>> __lambda__ "
   ]
  },
  {
   "cell_type": "markdown",
   "id": "d3527f79",
   "metadata": {},
   "source": [
    "#### Q10 - What does pip stand for python ?\n",
    "------>>> __Preferred Installer Program__"
   ]
  },
  {
   "cell_type": "markdown",
   "id": "0a209e66",
   "metadata": {},
   "source": [
    "#### Q11 - Mention few build-in function in python ?\n",
    "------->>> 1 - print()\n",
    "           2 - type()\n",
    "           3 - id()\n",
    "           4 - str()\n",
    "           5 - int()"
   ]
  },
  {
   "cell_type": "markdown",
   "id": "11bb7a2f",
   "metadata": {},
   "source": [
    "#### Q12 - What is the maximum possible length of an identifier in Python ?\n",
    "------>>> An identifier can have a maximum length of __79 characters__ in Python."
   ]
  },
  {
   "cell_type": "markdown",
   "id": "20bd17a8",
   "metadata": {},
   "source": [
    "#### Q13 -  what are the benefits of using python ?\n",
    "------>>> - Readable and Maintainable code,\n",
    "          - Extensive library\n",
    "          - High Compatibility\n",
    "          - Easy to Read and Learn\n",
    "          - Multiple Open source Frameworks and Tools"
   ]
  },
  {
   "cell_type": "markdown",
   "id": "ef9af8fe",
   "metadata": {},
   "source": [
    "#### Q14 - How is memory managed in python ?\n",
    "------>>> In python memory management is handle by Heap space."
   ]
  },
  {
   "cell_type": "markdown",
   "id": "75316d08",
   "metadata": {},
   "source": [
    "#### Q15 - How to install Python on windows and set path variable ?\n",
    "------->>> step 1--- Go to Python's website and download the latest version of Python.\n",
    "step 2 --- Select “Windows installer” and click download.\n",
    "step 3 --- Locate Python Installation\n",
    "step 4 --- Verify Python Installation\n",
    "step 5 --- Add Python to Path as an Environmental Variable\n",
    "step 6 --- Add Python Path to User Environmental Variables\n",
    "step 7 --- Check if the Environment variable is set or not"
   ]
  },
  {
   "cell_type": "markdown",
   "id": "b38b3c5d",
   "metadata": {},
   "source": [
    "#### Q16 - Is indentation required in python ?\n",
    "------>>> Yes, __Indentation is mandatory__ in python to define the blocks of statements."
   ]
  },
  {
   "cell_type": "code",
   "execution_count": null,
   "id": "8f0cfd6e",
   "metadata": {},
   "outputs": [],
   "source": []
  }
 ],
 "metadata": {
  "kernelspec": {
   "display_name": "Python 3 (ipykernel)",
   "language": "python",
   "name": "python3"
  },
  "language_info": {
   "codemirror_mode": {
    "name": "ipython",
    "version": 3
   },
   "file_extension": ".py",
   "mimetype": "text/x-python",
   "name": "python",
   "nbconvert_exporter": "python",
   "pygments_lexer": "ipython3",
   "version": "3.11.5"
  }
 },
 "nbformat": 4,
 "nbformat_minor": 5
}
