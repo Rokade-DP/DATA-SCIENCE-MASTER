{
 "cells": [
  {
   "cell_type": "markdown",
   "id": "f99b9dae-0a11-4b85-9a14-5e4f1fd88aaa",
   "metadata": {},
   "source": [
    "#### Q1. What is multiprocessing in python? Why is it useful?\n",
    "----->>>\n",
    "- Multiprocessing in python provide extra capability to python to execute multiple processes simultaneously, taking advantage of multiple CPU cores.\n",
    "- It improve performance, Enhanced Resource Utilization, Scalability"
   ]
  },
  {
   "cell_type": "markdown",
   "id": "c3269194-f890-45bc-b8a2-36a92bbe21cf",
   "metadata": {},
   "source": [
    "#### Q2. What are the differences between multiprocessing and multithreading?\n",
    "---->>>\n",
    "- __Multiprocessing__ :\n",
    "    -  In multiprocessing, multiple processes run independently of each other. Each process has its own memory space and resources, and communication between processes typically involves inter-process communication (IPC) mechanisms such as pipes, queues, or shared memory.\n",
    "    \n",
    "- __Multithreading__ :\n",
    "    - In multithreading, multiple threads exist within the same process and share the same memory space. Threads are lighter-weight than processes and are managed by the operating system's thread scheduler. "
   ]
  },
  {
   "cell_type": "markdown",
   "id": "0bbee4d9-8284-4fef-bd7b-f50d024b0501",
   "metadata": {},
   "source": [
    "#### Q3. Write a python code to create a process using the multiprocessing module.\n",
    "----->>>"
   ]
  },
  {
   "cell_type": "code",
   "execution_count": 10,
   "id": "ec2ef17f-e37c-4883-9780-f5acacae3222",
   "metadata": {},
   "outputs": [
    {
     "name": "stdout",
     "output_type": "stream",
     "text": [
      "[9, 16, 25, 36, 49, 64, 81, 1849, 4]\n"
     ]
    }
   ],
   "source": [
    "import multiprocessing\n",
    "def square(n):\n",
    "    return n**2\n",
    "\n",
    "if __name__ == \"__main__\":\n",
    "    with multiprocessing.Pool(processes=5) as pool:\n",
    "        out = pool.map(square,[3,4,5,6,7,8,9,43,2])\n",
    "        print(out)"
   ]
  },
  {
   "cell_type": "markdown",
   "id": "f1c90453-4251-4174-80b5-dcfc00aedf20",
   "metadata": {},
   "source": [
    "#### Q4. What is a multiprocessing pool in python? Why is it used?\n",
    "---->>>\n",
    "- A multiprocessing pool in Python is a component provided by the multiprocessing module.\n",
    "- In multiprocessing Pool is used to manages a pool of worker processes to execute tasks concurrently.\n",
    "- It provides a convenient way to distribute work across multiple processes, allowing for parallel execution of tasks."
   ]
  },
  {
   "cell_type": "markdown",
   "id": "dfad0eed-75f2-4990-8b51-c061fa355d78",
   "metadata": {},
   "source": [
    "#### Q5. How can we create a pool of worker processes in python using the multiprocessing module?\n",
    "---->>>"
   ]
  },
  {
   "cell_type": "code",
   "execution_count": 6,
   "id": "97c62ffa-80e9-4c46-b2e6-66adadd299a9",
   "metadata": {},
   "outputs": [
    {
     "name": "stdout",
     "output_type": "stream",
     "text": [
      "[81, 256, 625, 1296, 2401, 4096, 6561, 3418801, 16]\n"
     ]
    }
   ],
   "source": [
    "import multiprocessing\n",
    "def square(n):\n",
    "    return n**4\n",
    "\n",
    "if __name__ == \"__main__\":\n",
    "    with multiprocessing.Pool(processes=5) as pool:\n",
    "        out = pool.map(square,[3,4,5,6,7,8,9,43,2])\n",
    "        print(out)"
   ]
  },
  {
   "cell_type": "markdown",
   "id": "d88834c8-1688-4f6b-9212-a74e0b0920e0",
   "metadata": {},
   "source": [
    "#### Q6. Write a python program to create 4 processes, each process should print a different number using the multiprocessing module in python.\n",
    "---->>>"
   ]
  },
  {
   "cell_type": "code",
   "execution_count": 18,
   "id": "a59de05a-1aab-4746-8a4e-72312e3413ae",
   "metadata": {},
   "outputs": [
    {
     "name": "stdout",
     "output_type": "stream",
     "text": [
      "[1, 4, 9, 16, 25, 36, 49, 64, 81]\n",
      "[1, 8, 27, 64, 125, 216, 343, 512, 729]\n",
      "[1, 16, 81, 256, 625, 1296, 2401, 4096, 6561]\n",
      "[1, 32, 243, 1024, 3125, 7776, 16807, 32768, 59049]\n"
     ]
    }
   ],
   "source": [
    "import multiprocessing\n",
    "\n",
    "def power_2(n):\n",
    "    return n**2\n",
    "\n",
    "def power_3(n):\n",
    "    return n**3\n",
    "\n",
    "def power_4(n):\n",
    "    return n**4\n",
    "\n",
    "def power_5(n):\n",
    "    return n**5\n",
    "\n",
    "if __name__ == \"__main__\":\n",
    "    with multiprocessing.Pool(processes=5) as pool:\n",
    "        lst = [1,2,3,4,5,6,7,8,9]\n",
    "        out1 = pool.map(power_2,lst)\n",
    "        out2 = pool.map(power_3,lst)\n",
    "        out3 = pool.map(power_4,lst)\n",
    "        out4 = pool.map(power_5,lst)\n",
    "        print(out1)\n",
    "        print(out2)\n",
    "        print(out3)\n",
    "        print(out4)\n"
   ]
  },
  {
   "cell_type": "code",
   "execution_count": null,
   "id": "1de8b616-ef7f-478a-855d-c45f5529c6b8",
   "metadata": {},
   "outputs": [],
   "source": []
  },
  {
   "cell_type": "code",
   "execution_count": null,
   "id": "baab9308-4e5b-48f4-b905-a7d686e795ba",
   "metadata": {},
   "outputs": [],
   "source": []
  },
  {
   "cell_type": "code",
   "execution_count": null,
   "id": "93c915cb-68e7-4839-b747-905207f814d9",
   "metadata": {},
   "outputs": [],
   "source": []
  }
 ],
 "metadata": {
  "kernelspec": {
   "display_name": "Python 3 (ipykernel)",
   "language": "python",
   "name": "python3"
  },
  "language_info": {
   "codemirror_mode": {
    "name": "ipython",
    "version": 3
   },
   "file_extension": ".py",
   "mimetype": "text/x-python",
   "name": "python",
   "nbconvert_exporter": "python",
   "pygments_lexer": "ipython3",
   "version": "3.10.8"
  }
 },
 "nbformat": 4,
 "nbformat_minor": 5
}
