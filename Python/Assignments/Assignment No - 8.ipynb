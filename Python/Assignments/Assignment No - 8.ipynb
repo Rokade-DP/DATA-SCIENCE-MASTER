{
 "cells": [
  {
   "cell_type": "markdown",
   "id": "d167261f",
   "metadata": {},
   "source": [
    "#### Q1 - .You are writing code for a company. The requirement of the company is that you create a python function that will check whether the password entered by the user is correct or not. The function should take the password as input and return the string “Valid Password” if the entered password follows the below-given password guidelines else it should return “Invalid Password”.\n",
    "__Note__: \n",
    "1. The Password should contain at least two uppercase letters and at least two lowercase letters.\n",
    "2. The Password should contain at least a number and three special characters.\n",
    "3. The length of the password should be 10 characters long."
   ]
  },
  {
   "cell_type": "code",
   "execution_count": 1,
   "id": "242d30a0",
   "metadata": {
    "scrolled": true
   },
   "outputs": [
    {
     "name": "stdout",
     "output_type": "stream",
     "text": [
      "Enter Password :- uhugjhbjvh\n",
      "Invalid Password\n"
     ]
    }
   ],
   "source": [
    "def password(string):\n",
    "    length = len(string)\n",
    "    flag=False\n",
    "    Cap_count = 0\n",
    "    small_count = 0\n",
    "    special_count = 0 \n",
    "    for i in string:\n",
    "        char=ord(i)\n",
    "        \n",
    "        if char in range(65,91):\n",
    "            Cap_count+=1\n",
    "            \n",
    "        if char in range(97,123):\n",
    "            small_count+=1 \n",
    "            \n",
    "        if char in [35,36,37,38,64]:\n",
    "            special_count +=1\n",
    "        \n",
    "        if char in range(48,58):\n",
    "            flag = True\n",
    "            \n",
    "    if Cap_count>=2 and small_count>=2 and special_count==3 and flag==True and length>=10:\n",
    "        print(\"Valid Password\")\n",
    "    else:\n",
    "        print(\"Invalid Password\")\n",
    "\n",
    "#drive code\n",
    "string=input(\"Enter Password :- \")\n",
    "password(string)"
   ]
  },
  {
   "cell_type": "markdown",
   "id": "b45428db",
   "metadata": {},
   "source": [
    "#### Q2. Solve the below-given questions using at least one of the following:\n",
    "__1. Lambda function__\n",
    "__2. Filter function__\n",
    "__3. Map function__\n",
    "__4. List Comprehension__"
   ]
  },
  {
   "cell_type": "markdown",
   "id": "ea0aa52d",
   "metadata": {},
   "source": [
    "#### 1- Check if the string starts with a particular letter.\n",
    "------>>>"
   ]
  },
  {
   "cell_type": "code",
   "execution_count": 8,
   "id": "ad769d51",
   "metadata": {
    "scrolled": true
   },
   "outputs": [
    {
     "name": "stdout",
     "output_type": "stream",
     "text": [
      "Enter a string : - Hello\n",
      "[False]\n"
     ]
    }
   ],
   "source": [
    "string = input('Enter a string : - ')\n",
    "ans = [True if string.startswith(\"A\") else False]\n",
    "print(ans)"
   ]
  },
  {
   "cell_type": "markdown",
   "id": "33fdd215",
   "metadata": {},
   "source": [
    "#### 2- Check if the string is numeric\n",
    "----->>>"
   ]
  },
  {
   "cell_type": "code",
   "execution_count": 6,
   "id": "6b79fd12",
   "metadata": {},
   "outputs": [
    {
     "name": "stdout",
     "output_type": "stream",
     "text": [
      "Enter a string : - 7665\n",
      "[True]\n"
     ]
    }
   ],
   "source": [
    "string = input('Enter a string : - ')\n",
    "ans = [True if string.isnumeric() else False]\n",
    "print(ans)"
   ]
  },
  {
   "cell_type": "markdown",
   "id": "d1dda38d",
   "metadata": {},
   "source": [
    "#### 3- Sort a list of tuples having fruit names and their quantity. [(\"mango\",99),(\"orange\",80), (\"grapes\", 1000)]\n",
    "----->>>"
   ]
  },
  {
   "cell_type": "code",
   "execution_count": 30,
   "id": "81aabcba",
   "metadata": {},
   "outputs": [
    {
     "name": "stdout",
     "output_type": "stream",
     "text": [
      "[('orange', 80), ('mango', 99), ('grapes', 1000)]\n"
     ]
    }
   ],
   "source": [
    "lst =  [(\"mango\",99),(\"orange\",80), (\"grapes\", 1000)]\n",
    "ans = sorted(lst,reverse=True)\n",
    "print(ans)"
   ]
  },
  {
   "cell_type": "markdown",
   "id": "7f1a7dba",
   "metadata": {},
   "source": [
    "#### 4- Find the squares of numbers from 1 to 10\n",
    "----->>>"
   ]
  },
  {
   "cell_type": "code",
   "execution_count": 39,
   "id": "faf67ca5",
   "metadata": {},
   "outputs": [
    {
     "data": {
      "text/plain": [
       "[1, 4, 9, 16, 25, 36, 49, 64, 81, 100]"
      ]
     },
     "execution_count": 39,
     "metadata": {},
     "output_type": "execute_result"
    }
   ],
   "source": [
    "lst = [i for i in range(1,11)]\n",
    "list(map(lambda x : x**2,lst))"
   ]
  },
  {
   "cell_type": "markdown",
   "id": "fd048f76",
   "metadata": {},
   "source": [
    "#### 5- Find the cube root of numbers from 1 to 10.\n",
    "----->>>"
   ]
  },
  {
   "cell_type": "code",
   "execution_count": 41,
   "id": "4dcf16eb",
   "metadata": {},
   "outputs": [
    {
     "data": {
      "text/plain": [
       "[1, 1, 1, 8, 8, 8, 8, 8, 8, 8]"
      ]
     },
     "execution_count": 41,
     "metadata": {},
     "output_type": "execute_result"
    }
   ],
   "source": [
    "lst = [i for i in range(1,11)]\n",
    "list(map(lambda x : int(round(x ** (1. / 3))) ** 3,lst))"
   ]
  },
  {
   "cell_type": "markdown",
   "id": "82ccc484",
   "metadata": {},
   "source": [
    "#### 6- Check if a given number is even,\n",
    "----->>>"
   ]
  },
  {
   "cell_type": "code",
   "execution_count": 1,
   "id": "e692c986",
   "metadata": {},
   "outputs": [
    {
     "name": "stdout",
     "output_type": "stream",
     "text": [
      "5\n",
      "['odd']\n"
     ]
    }
   ],
   "source": [
    "num = int(input())\n",
    "ans = ['even' if num%2==0 else 'odd']\n",
    "print(ans)"
   ]
  },
  {
   "cell_type": "markdown",
   "id": "e0d4d22d",
   "metadata": {},
   "source": [
    "#### 7- Filter odd numbers from the given list.\n",
    "----->>>"
   ]
  },
  {
   "cell_type": "code",
   "execution_count": 55,
   "id": "4dd35ee6",
   "metadata": {},
   "outputs": [
    {
     "data": {
      "text/plain": [
       "[1, 3, 5, 7, 9]"
      ]
     },
     "execution_count": 55,
     "metadata": {},
     "output_type": "execute_result"
    }
   ],
   "source": [
    "lst = [1,2,3,4,5,6,7,8,9,10]\n",
    "list(filter(lambda x : x%2!=0,lst))"
   ]
  },
  {
   "cell_type": "markdown",
   "id": "aea83baf",
   "metadata": {},
   "source": [
    "#### 8- Sort a list of integers into positive and negative integers lists.\n",
    "----->>>"
   ]
  },
  {
   "cell_type": "code",
   "execution_count": 57,
   "id": "7e3cb0ed",
   "metadata": {},
   "outputs": [
    {
     "name": "stdout",
     "output_type": "stream",
     "text": [
      "Positive integers: [5, 2, 9, 0, 4]\n",
      "Negative integers: [-3, -8, -1]\n"
     ]
    }
   ],
   "source": [
    "positive_filter = lambda x: x >= 0\n",
    "negative_filter = lambda x: x < 0\n",
    "nums = [5, -3, 2, -8, 9, -1, 0, 4]\n",
    "positive_nums = list(filter(positive_filter, nums))\n",
    "negative_nums = list(filter(negative_filter, nums))\n",
    "print(\"Positive integers:\", positive_nums)\n",
    "print(\"Negative integers:\", negative_nums)\n"
   ]
  },
  {
   "cell_type": "code",
   "execution_count": null,
   "id": "fc205ed9",
   "metadata": {},
   "outputs": [],
   "source": []
  },
  {
   "cell_type": "code",
   "execution_count": null,
   "id": "3a5de9be",
   "metadata": {},
   "outputs": [],
   "source": []
  }
 ],
 "metadata": {
  "kernelspec": {
   "display_name": "Python 3 (ipykernel)",
   "language": "python",
   "name": "python3"
  },
  "language_info": {
   "codemirror_mode": {
    "name": "ipython",
    "version": 3
   },
   "file_extension": ".py",
   "mimetype": "text/x-python",
   "name": "python",
   "nbconvert_exporter": "python",
   "pygments_lexer": "ipython3",
   "version": "3.11.5"
  }
 },
 "nbformat": 4,
 "nbformat_minor": 5
}
