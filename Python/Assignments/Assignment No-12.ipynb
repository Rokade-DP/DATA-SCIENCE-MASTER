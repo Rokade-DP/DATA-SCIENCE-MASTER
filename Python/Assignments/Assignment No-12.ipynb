{
 "cells": [
  {
   "cell_type": "markdown",
   "id": "6692055a-7181-410e-8c68-7b25f89dd39c",
   "metadata": {},
   "source": [
    "#### Q1. Explain why we have to use exception class whlile creating a custom exception ?\n",
    "---->>> \n",
    "- It is essential to use Exception class while creating custom Exception bcoz Exception class ensure you that the your created custom Exception works well and coreectly."
   ]
  },
  {
   "cell_type": "markdown",
   "id": "86ef102c-882b-44f5-b06b-2363524bc7a5",
   "metadata": {},
   "source": [
    "#### Q2. Write a python program to print Python Exception Hierarchy.\n",
    "---->>>"
   ]
  },
  {
   "cell_type": "code",
   "execution_count": 4,
   "id": "7f66573b-d997-4477-9c65-e8b3881762ba",
   "metadata": {},
   "outputs": [
    {
     "name": "stdout",
     "output_type": "stream",
     "text": [
      "Zero Division Error Occured division by zero\n"
     ]
    }
   ],
   "source": [
    "try:\n",
    "    a=10\n",
    "    b=0\n",
    "    print(a/b)\n",
    "except FileNotFoundError as e:\n",
    "    print(e)\n",
    "except AttributeError as e:\n",
    "    print(e)\n",
    "except ImportError as e:\n",
    "    print(e)\n",
    "except ZeroDivisionError as e:\n",
    "    print(\"Zero Division Error Occured\",e)\n",
    "except Exception as e:\n",
    "    print(\"Parent Exception\",e)\n"
   ]
  },
  {
   "cell_type": "code",
   "execution_count": 5,
   "id": "75a933b7-7793-4215-84e6-3cd9f2abb398",
   "metadata": {},
   "outputs": [
    {
     "name": "stdout",
     "output_type": "stream",
     "text": [
      "Parent Exception division by zero\n"
     ]
    }
   ],
   "source": [
    "try:\n",
    "    a=10\n",
    "    b=0\n",
    "    print(a/b)\n",
    "except FileNotFoundError as e:\n",
    "    print(e)\n",
    "except AttributeError as e:\n",
    "    print(e)\n",
    "except ImportError as e:\n",
    "    print(e)\n",
    "#except ZeroDivisionError as e:\n",
    " #   print(\"Zero Division Error Occured\",e)\n",
    "except Exception as e:\n",
    "    print(\"Parent Exception\",e)\n"
   ]
  },
  {
   "cell_type": "markdown",
   "id": "a0a95d37-df76-4dd3-abfc-5f08b6b6ae4e",
   "metadata": {},
   "source": [
    "#### Q3. What errors are defined in the ArithmeticError class? Explain any two with an example.\n",
    "---->>>\n",
    "- It is a subclass of the built-in Exception class. Several specific errors are defined under the ArithmeticError hierarchy.\n",
    "- Under Arithamatic class there are __ZeroDivisionError__ , __OverfloeError__ , __UnderflowError__ , __ValueError__ , __FloatingPointError__ are several error is included."
   ]
  },
  {
   "cell_type": "code",
   "execution_count": 9,
   "id": "7edf4b3d-187f-4ae9-a3a6-4920112eadd4",
   "metadata": {},
   "outputs": [
    {
     "name": "stdout",
     "output_type": "stream",
     "text": [
      "division by zero\n"
     ]
    }
   ],
   "source": [
    "## Example-1\n",
    "try:\n",
    "    a=10\n",
    "    b=0\n",
    "    print(a/b)\n",
    "except ArithmeticError as e:\n",
    "    print(e)"
   ]
  },
  {
   "cell_type": "code",
   "execution_count": 8,
   "id": "f14cf54d-c2c8-4080-b93f-60ba052542ca",
   "metadata": {},
   "outputs": [
    {
     "name": "stdout",
     "output_type": "stream",
     "text": [
      "invalid literal for int() with base 10: 'abc'\n"
     ]
    }
   ],
   "source": [
    "## Example-2\n",
    "try:\n",
    "    result = int(\"abc\")\n",
    "    print(result)\n",
    "except ValueError as e:\n",
    "    print(e)"
   ]
  },
  {
   "cell_type": "markdown",
   "id": "29bc1d19-486c-4c9e-804d-6c5887d35120",
   "metadata": {},
   "source": [
    "#### Q4. Why LookupError class is used? Explain with an example KeyError and IndexError.\n",
    "---->>>\n",
    "- __LookupError__ class in Python is used as a base class for exceptions that occur when a key or index is not found during a operation."
   ]
  },
  {
   "cell_type": "code",
   "execution_count": 11,
   "id": "236e5f4a-be1d-47ed-a2e2-ec3753a4ee43",
   "metadata": {},
   "outputs": [
    {
     "name": "stdout",
     "output_type": "stream",
     "text": [
      "list index out of range\n"
     ]
    }
   ],
   "source": [
    "# Example :- 1\n",
    "lst = [1,2,3,4,5,6]\n",
    "try:\n",
    "    print(lst[10])\n",
    "except LookupError as e:\n",
    "    print(e)"
   ]
  },
  {
   "cell_type": "code",
   "execution_count": 33,
   "id": "a83faab0-c36e-48b5-94de-79b30636f79b",
   "metadata": {},
   "outputs": [
    {
     "name": "stdout",
     "output_type": "stream",
     "text": [
      "Error Occured:  'u'\n"
     ]
    }
   ],
   "source": [
    "# Example :- 2\n",
    "my_dict = {'a' : 10, 'b':20, 'c':30}\n",
    "try:\n",
    "    result = my_dict['u']\n",
    "    print(\"result : - \",result)\n",
    "except KeyError as e:\n",
    "    print(\"Error Occured: \",e)"
   ]
  },
  {
   "cell_type": "markdown",
   "id": "2c6b1ea7-2c9a-47bf-a707-8cf89c14e6aa",
   "metadata": {},
   "source": [
    "#### Q5. Explain ImportError. What is ModuleNotFoundError?\n",
    "---->>>\n",
    "- __ImportError__ can occur due to various reasons such as the module or name being imported not found, issues with the module's code execution, or any other problems related to importing.\n",
    "- __ModuleNotFoundError__ is a subclass of __ImportError__ that specifically indicates that a module could not be found during import."
   ]
  },
  {
   "cell_type": "markdown",
   "id": "cf54f2b6-616e-49bd-88ef-52db826de105",
   "metadata": {},
   "source": [
    "#### Q6. List down some best practices for exception handling in python.\n",
    "---->>>"
   ]
  },
  {
   "cell_type": "code",
   "execution_count": 1,
   "id": "44a5e6f9-1c11-4030-bb99-d02ca2ca4649",
   "metadata": {},
   "outputs": [
    {
     "name": "stdout",
     "output_type": "stream",
     "text": [
      "Zero Division Error Occored :  division by zero\n"
     ]
    }
   ],
   "source": [
    "## Print always a valid message\n",
    "try:\n",
    "    a=10\n",
    "    b=0\n",
    "    print(a/b)\n",
    "except ZeroDivisionError as e:\n",
    "    print(\"Zero Division Error Occored : \",e)"
   ]
  },
  {
   "cell_type": "code",
   "execution_count": 3,
   "id": "992d052f-bd73-4559-87a6-8a01132de555",
   "metadata": {},
   "outputs": [],
   "source": [
    "## Always try to log\n",
    "import logging\n",
    "logging.basicConfig(filename=\"error.log\",level=logging.ERROR)\n",
    "try:\n",
    "    10/0\n",
    "except ZeroDivisionError as e:\n",
    "    logging.error(\"Zero Division Error Occured \")"
   ]
  },
  {
   "cell_type": "code",
   "execution_count": null,
   "id": "ff5212af-5aea-4d4b-a180-e0b425e681ff",
   "metadata": {},
   "outputs": [],
   "source": [
    "### Always avoid to write a multiple exception handling\n",
    "try:\n",
    "    a=10\n",
    "    b=0\n",
    "    print(a/b)\n",
    "    \n",
    "except FileExistsError as e:\n",
    "    logging.err\n",
    "except AttributeError as e:\n",
    "    logging.error(\"Attribute Error\")\n",
    "except ZeroDivisionError as e:\n",
    "    logging.error(\"Dvision error\")"
   ]
  }
 ],
 "metadata": {
  "kernelspec": {
   "display_name": "Python 3 (ipykernel)",
   "language": "python",
   "name": "python3"
  },
  "language_info": {
   "codemirror_mode": {
    "name": "ipython",
    "version": 3
   },
   "file_extension": ".py",
   "mimetype": "text/x-python",
   "name": "python",
   "nbconvert_exporter": "python",
   "pygments_lexer": "ipython3",
   "version": "3.10.8"
  }
 },
 "nbformat": 4,
 "nbformat_minor": 5
}
