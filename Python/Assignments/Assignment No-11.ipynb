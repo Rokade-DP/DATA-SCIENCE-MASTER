{
 "cells": [
  {
   "cell_type": "markdown",
   "id": "3e2adcb6-b986-443d-a531-3a1081567b74",
   "metadata": {},
   "source": [
    "#### Q1. What is Exeption in python? Write the differen beetween Exeptions and Syntax errors?\n",
    "---->>>\n",
    "- When Any unwanted unexpected event stop your normal flow of program it is known as exception\n",
    "- Exception is handle but syntax error are human error basically typing mistake or any syntax mistake but exception is not a error."
   ]
  },
  {
   "cell_type": "markdown",
   "id": "c7d2888e-8138-4174-8bfa-ab93419e62d2",
   "metadata": {},
   "source": [
    "#### Q2. What hppens when exeption is not handled? Explain with an example?\n",
    "----->>>\n",
    "- Exception is occure in your program and if the exception is not handle then the program flow stop and they never execute next statement."
   ]
  },
  {
   "cell_type": "code",
   "execution_count": 2,
   "id": "9bb67923-3f9b-4f48-8f20-061146a3a04b",
   "metadata": {},
   "outputs": [
    {
     "name": "stdout",
     "output_type": "stream",
     "text": [
      "Starting of the program\n"
     ]
    },
    {
     "ename": "ZeroDivisionError",
     "evalue": "division by zero",
     "output_type": "error",
     "traceback": [
      "\u001b[0;31m---------------------------------------------------------------------------\u001b[0m",
      "\u001b[0;31mZeroDivisionError\u001b[0m                         Traceback (most recent call last)",
      "Cell \u001b[0;32mIn[2], line 4\u001b[0m\n\u001b[1;32m      2\u001b[0m a\u001b[38;5;241m=\u001b[39m\u001b[38;5;241m10\u001b[39m\n\u001b[1;32m      3\u001b[0m b\u001b[38;5;241m=\u001b[39m\u001b[38;5;241m0\u001b[39m\n\u001b[0;32m----> 4\u001b[0m \u001b[38;5;28mprint\u001b[39m(\u001b[43ma\u001b[49m\u001b[38;5;241;43m/\u001b[39;49m\u001b[43mb\u001b[49m)\n\u001b[1;32m      5\u001b[0m \u001b[38;5;28mprint\u001b[39m(\u001b[38;5;124m\"\u001b[39m\u001b[38;5;124mOperation is perform\u001b[39m\u001b[38;5;124m\"\u001b[39m)\n\u001b[1;32m      6\u001b[0m \u001b[38;5;28mprint\u001b[39m(\u001b[38;5;124m\"\u001b[39m\u001b[38;5;124mEnd of the program\u001b[39m\u001b[38;5;124m\"\u001b[39m)\n",
      "\u001b[0;31mZeroDivisionError\u001b[0m: division by zero"
     ]
    }
   ],
   "source": [
    "print(\"Starting of the program\")\n",
    "a=10\n",
    "b=0\n",
    "print(a/b) ### Exception occured here\n",
    "print(\"Operation is perform\")   \n",
    "print(\"End of the program\")"
   ]
  },
  {
   "cell_type": "markdown",
   "id": "ac7ea981-ca31-493f-80c6-1938995b66df",
   "metadata": {},
   "source": [
    "#### Q3. Which python Statement are used to catch and handle exceptions? Explain with example?\n",
    "------>>>\n",
    "- In __try__ block we write suspecious code that may give exception or we can say doubtfull code write in try block \n",
    "- When in __try__ block the code throw exception that time in __except__ block exception handling code is write and it handle the exception and continoue the normal flow of program"
   ]
  },
  {
   "cell_type": "code",
   "execution_count": 3,
   "id": "e58c4aeb-1434-4afe-83f8-e345d9092ff8",
   "metadata": {},
   "outputs": [
    {
     "name": "stdout",
     "output_type": "stream",
     "text": [
      "Starting of the program\n",
      "Division by zero Exception.. division by zero\n",
      "End of the program\n"
     ]
    }
   ],
   "source": [
    "print(\"Starting of the program\")\n",
    "a=10\n",
    "b=0\n",
    "try:\n",
    "    print(a/b)\n",
    "except Exception as e:\n",
    "    print(\"Division by zero Exception..\",e)\n",
    "print(\"End of the program\")"
   ]
  },
  {
   "cell_type": "markdown",
   "id": "b31970ed-352b-465e-a577-002373fb7724",
   "metadata": {},
   "source": [
    "#### Q4. Explain with an Example\n",
    "----->>>"
   ]
  },
  {
   "cell_type": "markdown",
   "id": "4080b81a-6087-42c0-b2fe-08bd869569a6",
   "metadata": {},
   "source": [
    "- __try and else__ :\n",
    "- Basically In try block we can erite suspecious code that might throw exception\n",
    "- When try block code not throw any exceptio or not contain any exception then and then else block will execute."
   ]
  },
  {
   "cell_type": "code",
   "execution_count": 7,
   "id": "a0b4a02b-adad-4da4-871d-f7f9e66d4951",
   "metadata": {},
   "outputs": [
    {
     "name": "stdout",
     "output_type": "stream",
     "text": [
      "5.0\n",
      "Succesfully operation is perform\n"
     ]
    }
   ],
   "source": [
    "## try and else example:\n",
    "try:\n",
    "    a = 10\n",
    "    b = 2\n",
    "    print(a/b)\n",
    "except Exception as e:\n",
    "    print(\"Exception is occured \",e)\n",
    "else:\n",
    "    print(\"Succesfully operation is perform\")"
   ]
  },
  {
   "cell_type": "code",
   "execution_count": 8,
   "id": "445e9ee2-01a6-4560-a3f3-b5bfcf23ebb4",
   "metadata": {},
   "outputs": [
    {
     "name": "stdout",
     "output_type": "stream",
     "text": [
      "Exception is occured  division by zero\n"
     ]
    }
   ],
   "source": [
    "## try and else example:\n",
    "try:\n",
    "    a = 10\n",
    "    b = 0\n",
    "    print(a/b)\n",
    "except Exception as e:\n",
    "    print(\"Exception is occured \",e)\n",
    "else:\n",
    "    print(\"Succesfully operation is perform\")"
   ]
  },
  {
   "cell_type": "markdown",
   "id": "090e902a-fddb-4a5f-bbb9-70f0b5bb5672",
   "metadata": {},
   "source": [
    "- __finally__ :\n",
    "- Exception is occured or not occured Finally block always executed"
   ]
  },
  {
   "cell_type": "code",
   "execution_count": 9,
   "id": "4cb0768d-733b-4a63-8df8-5c0288cccd02",
   "metadata": {},
   "outputs": [
    {
     "name": "stdout",
     "output_type": "stream",
     "text": [
      "Exception is occured  division by zero\n",
      "I am always executed\n"
     ]
    }
   ],
   "source": [
    "## try and else example:\n",
    "try:\n",
    "    a = 10\n",
    "    b = 0\n",
    "    print(a/b)\n",
    "except Exception as e:\n",
    "    print(\"Exception is occured \",e)\n",
    "else:\n",
    "    print(\"Succesfully operation is perform\")\n",
    "finally:\n",
    "    print(\"I am always executed\")"
   ]
  },
  {
   "cell_type": "markdown",
   "id": "8c4c855e-4eb1-4fb0-8e10-44f5d5662fba",
   "metadata": {},
   "source": [
    "#### __raise__ :-\n",
    "- The raise keyword is used to raise an exception.\n",
    "- You can define what kind of error to raise, and the text to print to the user."
   ]
  },
  {
   "cell_type": "code",
   "execution_count": 2,
   "id": "bf7d829e-9db7-44a2-b644-e8688753c2be",
   "metadata": {},
   "outputs": [
    {
     "name": "stdin",
     "output_type": "stream",
     "text": [
      " 12\n",
      " 0\n"
     ]
    },
    {
     "name": "stdout",
     "output_type": "stream",
     "text": [
      "Error Occured :  Cannot Divide By Zero\n"
     ]
    }
   ],
   "source": [
    "def divide(a,b):\n",
    "    if b == 0 :\n",
    "        raise Exception(\"Cannot Divide By Zero\")\n",
    "    \n",
    "    return a/b\n",
    "a = int(input())\n",
    "b = int(input())\n",
    "try:\n",
    "    result = divide(a,b)\n",
    "except Exception as e:\n",
    "    print(\"Error Occured : \",e)"
   ]
  },
  {
   "cell_type": "markdown",
   "id": "31ad1434-7a7a-4cff-aa09-19f3026004eb",
   "metadata": {},
   "source": [
    "#### Q5. What are custom exception in python ? Why do we need Custom Exception ? Explain with an example.\n",
    "---->>>\n",
    "- we can define custom exceptions by creating a new class that is derived from the built-in Exception class.\n",
    "- Custom exception is required bcoz we can have our own Exception and a meaningful message explaining the cause of the exception."
   ]
  },
  {
   "cell_type": "code",
   "execution_count": 7,
   "id": "9c012594-2131-4765-9511-e02afd2d72be",
   "metadata": {},
   "outputs": [
    {
     "name": "stdin",
     "output_type": "stream",
     "text": [
      " 12\n"
     ]
    },
    {
     "name": "stdout",
     "output_type": "stream",
     "text": [
      "Exception is occured : Invalid Age not eligible for vote\n"
     ]
    }
   ],
   "source": [
    "# Custom Exception example:-\n",
    "class InvalidAgeException(Exception):\n",
    "    pass\n",
    "Valid_Age = 18\n",
    "try:\n",
    "    inpur_age = int(input())\n",
    "    if inpur_age<Valid_Age:\n",
    "        raise InvalidAgeException\n",
    "    else:\n",
    "        print(\"Eligible for vote\")\n",
    "except InvalidAgeException:\n",
    "    print(\"Exception is occured : Invalid Age not eligible for vote\")\n",
    "    "
   ]
  },
  {
   "cell_type": "code",
   "execution_count": 8,
   "id": "947d699d-53e1-4410-9505-7918363f1f08",
   "metadata": {},
   "outputs": [
    {
     "name": "stdin",
     "output_type": "stream",
     "text": [
      " 34\n"
     ]
    },
    {
     "name": "stdout",
     "output_type": "stream",
     "text": [
      "Eligible for vote\n"
     ]
    }
   ],
   "source": [
    "# Custom Exception example:-\n",
    "class InvalidAgeException(Exception):\n",
    "    pass\n",
    "Valid_Age = 18\n",
    "try:\n",
    "    inpur_age = int(input())\n",
    "    if inpur_age<Valid_Age:\n",
    "        raise InvalidAgeException\n",
    "    else:\n",
    "        print(\"Eligible for vote\")\n",
    "except InvalidAgeException:\n",
    "    print(\"Exception is occured : Invalid Age not eligible for vote\")\n",
    "    "
   ]
  },
  {
   "cell_type": "markdown",
   "id": "29c27dfa-8db0-421e-83df-c56ce7f9061e",
   "metadata": {},
   "source": [
    "#### Q6. Create a Custom Exception class. Use this class to handle exception.\n",
    "---->>>"
   ]
  },
  {
   "cell_type": "code",
   "execution_count": 5,
   "id": "687e74a2-3001-4b22-9bbb-20b156e51f8e",
   "metadata": {},
   "outputs": [
    {
     "name": "stdin",
     "output_type": "stream",
     "text": [
      " 12\n",
      " 0\n"
     ]
    },
    {
     "name": "stdout",
     "output_type": "stream",
     "text": [
      "Exception Occured : Sorry Zero se Divide nahi kr sakte\n"
     ]
    }
   ],
   "source": [
    "class ZeroSeDivide(Exception):\n",
    "    pass\n",
    "a = int(input())\n",
    "b = int(input())\n",
    "try:\n",
    "    if b == 0:\n",
    "        raise ZeroSeDivide\n",
    "    else:\n",
    "        print(\"Division is :- \",a/b)\n",
    "except ZeroSeDivide:\n",
    "    print(\"Exception Occured : Sorry Zero se Divide nahi kr sakte\" )\n",
    "        "
   ]
  },
  {
   "cell_type": "code",
   "execution_count": null,
   "id": "058f6e24-5ec1-4c29-b119-0853931cd1dd",
   "metadata": {},
   "outputs": [
    {
     "name": "stdin",
     "output_type": "stream",
     "text": [
      " 5\n"
     ]
    }
   ],
   "source": [
    "class ZeroSeDivide(Exception):\n",
    "    pass\n",
    "a = int(input())\n",
    "b = int(input())\n",
    "try:\n",
    "    if b == 0:\n",
    "        raise ZeroSeDivide\n",
    "    else:\n",
    "        print(\"Division is :- \",a/b)\n",
    "except ZeroSeDivide:\n",
    "    print(\"Exception Occured : Sorry Zero se Divide nahi kr sakte\" )\n",
    "        "
   ]
  },
  {
   "cell_type": "code",
   "execution_count": null,
   "id": "83ef5f56-4b6a-42a0-a0f7-fdec53d70d23",
   "metadata": {},
   "outputs": [],
   "source": []
  }
 ],
 "metadata": {
  "kernelspec": {
   "display_name": "Python 3 (ipykernel)",
   "language": "python",
   "name": "python3"
  },
  "language_info": {
   "codemirror_mode": {
    "name": "ipython",
    "version": 3
   },
   "file_extension": ".py",
   "mimetype": "text/x-python",
   "name": "python",
   "nbconvert_exporter": "python",
   "pygments_lexer": "ipython3",
   "version": "3.10.8"
  }
 },
 "nbformat": 4,
 "nbformat_minor": 5
}
