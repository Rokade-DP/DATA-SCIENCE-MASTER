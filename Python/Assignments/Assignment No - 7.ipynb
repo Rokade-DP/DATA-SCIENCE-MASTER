{
 "cells": [
  {
   "cell_type": "markdown",
   "id": "3a5534cf",
   "metadata": {},
   "source": [
    "#### Q1 - Create a function which will take a list as an argument and return the product of all the numbers after creating a flat list. Use the below-given list as an argument for your function.\n",
    "--------->>>>"
   ]
  },
  {
   "cell_type": "code",
   "execution_count": 1,
   "id": "8dff4da6",
   "metadata": {},
   "outputs": [
    {
     "name": "stdout",
     "output_type": "stream",
     "text": [
      "Product of all numbers in the flattened list: 0\n"
     ]
    }
   ],
   "source": [
    "def flatten_and_multiply(lst):\n",
    "    def flatten(lst):\n",
    "        flat_list = []\n",
    "        for item in lst:\n",
    "            if isinstance(item, (list, tuple)):\n",
    "                flat_list.extend(flatten(item))\n",
    "            elif isinstance(item, dict):\n",
    "                flat_list.extend(flatten(item.values()))\n",
    "                flat_list.extend(flatten(item.keys()))\n",
    "            elif isinstance(item, (int, float)):\n",
    "                flat_list.append(item)\n",
    "        return flat_list\n",
    "    \n",
    "    flat_nums = flatten(lst)\n",
    "    product = 1\n",
    "    for num in flat_nums:\n",
    "        product *= num\n",
    "    return product\n",
    "\n",
    "list1 = [1, 2, 3, 4, [44, 55, 66, True], False, (34, 56, 78, 89, 34), {1, 2, 3, 3, 2, 1}, {1: 34, \"key2\": [55, 67, 78, 89], 4: (45, 22, 61, 34)}, [56, 'data science'], 'Machine Learning']\n",
    "\n",
    "result = flatten_and_multiply(list1)\n",
    "print(\"Product of all numbers in the flattened list:\", result)\n"
   ]
  },
  {
   "cell_type": "markdown",
   "id": "4719e984",
   "metadata": {},
   "source": [
    "#### Q2. Write a python program for encrypting a message sent to you by your friend. The logic of encryption should be such that, for a the output should be z. For b, the output should be y. For c, the output should be x respectively. Also, the whitespace should be replaced with a dollar sign. Keep the punctuation marks unchanged.\n",
    "-------->>>"
   ]
  },
  {
   "cell_type": "code",
   "execution_count": 12,
   "id": "e2891d73",
   "metadata": {},
   "outputs": [
    {
     "name": "stdout",
     "output_type": "stream",
     "text": [
      "Encrypted message is here :-  R dzmg gl yvxlmv z Wzgz Hxrvmgrhg.\n"
     ]
    }
   ],
   "source": [
    "def encryption(string):\n",
    "    for i in string:\n",
    "        if ord(i) in range(65,91):\n",
    "            num = ord(i)-65\n",
    "            new_i = 90 - num\n",
    "            string = string.replace(i,chr(new_i))\n",
    "        elif ord(i) in range(97,123):\n",
    "            num = ord(i)-97\n",
    "            new_i = 122-num\n",
    "            string = string.replace(i,chr(new_i))\n",
    "        else:\n",
    "            string = string.replace(i,i)\n",
    "\n",
    "    return string\n",
    "\n",
    "string = \"I want to becone a Data Scientist.\"\n",
    "result = encryption(string)\n",
    "print(\"Encrypted message is here :- \", result)\n",
    "        \n"
   ]
  },
  {
   "cell_type": "code",
   "execution_count": null,
   "id": "f9b3e647",
   "metadata": {},
   "outputs": [],
   "source": [
    "\n"
   ]
  },
  {
   "cell_type": "code",
   "execution_count": null,
   "id": "6dbc2132",
   "metadata": {},
   "outputs": [],
   "source": []
  },
  {
   "cell_type": "code",
   "execution_count": null,
   "id": "d9eb86f3",
   "metadata": {},
   "outputs": [],
   "source": []
  },
  {
   "cell_type": "code",
   "execution_count": null,
   "id": "eae25357",
   "metadata": {},
   "outputs": [],
   "source": []
  },
  {
   "cell_type": "code",
   "execution_count": null,
   "id": "fb1ee706",
   "metadata": {},
   "outputs": [],
   "source": []
  },
  {
   "cell_type": "code",
   "execution_count": null,
   "id": "4b5f5fc3",
   "metadata": {},
   "outputs": [],
   "source": [
    "\n"
   ]
  },
  {
   "cell_type": "code",
   "execution_count": null,
   "id": "1786de4f",
   "metadata": {},
   "outputs": [],
   "source": [
    "\n"
   ]
  },
  {
   "cell_type": "code",
   "execution_count": null,
   "id": "edca1d7d",
   "metadata": {},
   "outputs": [],
   "source": [
    "\n"
   ]
  },
  {
   "cell_type": "code",
   "execution_count": null,
   "id": "890ab690",
   "metadata": {},
   "outputs": [],
   "source": []
  },
  {
   "cell_type": "code",
   "execution_count": 8,
   "id": "135ac84b",
   "metadata": {},
   "outputs": [],
   "source": []
  },
  {
   "cell_type": "code",
   "execution_count": null,
   "id": "9b20d310",
   "metadata": {},
   "outputs": [],
   "source": []
  },
  {
   "cell_type": "code",
   "execution_count": null,
   "id": "7446d4c8",
   "metadata": {},
   "outputs": [],
   "source": []
  },
  {
   "cell_type": "code",
   "execution_count": null,
   "id": "09691dfe",
   "metadata": {},
   "outputs": [],
   "source": []
  },
  {
   "cell_type": "code",
   "execution_count": null,
   "id": "0e344fc2",
   "metadata": {},
   "outputs": [],
   "source": []
  },
  {
   "cell_type": "code",
   "execution_count": null,
   "id": "a1e6354b",
   "metadata": {},
   "outputs": [],
   "source": []
  },
  {
   "cell_type": "code",
   "execution_count": null,
   "id": "ae7fefd7",
   "metadata": {},
   "outputs": [],
   "source": []
  },
  {
   "cell_type": "code",
   "execution_count": null,
   "id": "e4aea22b",
   "metadata": {},
   "outputs": [],
   "source": []
  },
  {
   "cell_type": "code",
   "execution_count": null,
   "id": "220392a8",
   "metadata": {},
   "outputs": [],
   "source": []
  }
 ],
 "metadata": {
  "kernelspec": {
   "display_name": "Python 3 (ipykernel)",
   "language": "python",
   "name": "python3"
  },
  "language_info": {
   "codemirror_mode": {
    "name": "ipython",
    "version": 3
   },
   "file_extension": ".py",
   "mimetype": "text/x-python",
   "name": "python",
   "nbconvert_exporter": "python",
   "pygments_lexer": "ipython3",
   "version": "3.11.5"
  }
 },
 "nbformat": 4,
 "nbformat_minor": 5
}
