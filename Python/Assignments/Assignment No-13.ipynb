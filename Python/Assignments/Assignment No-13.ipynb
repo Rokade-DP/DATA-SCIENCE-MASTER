{
 "cells": [
  {
   "cell_type": "markdown",
   "id": "f5825f07-caa8-48ec-82c3-33a9326a1658",
   "metadata": {},
   "source": [
    "#### Q1. What is multithreading in python? Why is it used? Name the module used to handle threads in python\n",
    "---->>>\n",
    "- __Multithreading__ is a program to execute multiple threads concurrently within a single process\n",
    "-  Multithreading allows different parts of a program to execute concurrently, which can improve overall performance and responsiveness.\n",
    "-  __threading__ module is used to handle threads in python"
   ]
  },
  {
   "cell_type": "markdown",
   "id": "d54e90f8-1fa9-42fc-a65d-c5e44578bf3d",
   "metadata": {},
   "source": [
    "#### Q2. Why threading module used? Write the use of the following functions.\n",
    "---->>> \n",
    "- The threading module in Python is used to create and manage threads, which are small units of execution that run concurrently within a single process.\n",
    "- __activeCount()__ :-\n",
    "- activeCount() is used to determine the current number of active Thread objects in the current Python interprete\n",
    "- __currentThread()__ :-\n",
    "- currentThread() returns the current Thread object corresponding to the calling thread.\n",
    "- __enumerate()__ :-\n",
    "- enumerate is iterate over sequences or collections while obtaining both the index and the item."
   ]
  },
  {
   "cell_type": "markdown",
   "id": "7802766d-af52-432a-b5f7-f0aa464dc45b",
   "metadata": {},
   "source": [
    "#### Q3. Explain the following functions.\n",
    "- 1) - __run()__ :\n",
    "    - The run() method represents the entry point of the thread's activity.\n",
    "- 2) - __start()__ :\n",
    "    - The start() method is used to begin the execution of a thread. It is a method provided by the Thread class in Python's threading module.\n",
    "- 3) - __join()__ :\n",
    "    - The join() method is used to wait for a thread to complete its execution. It's a method provided by the Thread class in Python's threading module.\n",
    "- 4) - __isAlive()__ :\n",
    "    - The isAlive() method is used to check whether a thread is currently executing or not. It's a method provided by the Thread class in Python's threading module. "
   ]
  },
  {
   "cell_type": "markdown",
   "id": "a9b019f7-8ea7-40aa-8970-7a832652ca36",
   "metadata": {},
   "source": [
    "#### Q4. Write a python program to create two threads. Thread one must print the list of squares and thread two must print the list of cubes\n",
    "----->>>"
   ]
  },
  {
   "cell_type": "code",
   "execution_count": 6,
   "id": "073ba482-2fe8-4021-8578-249c9c18afd6",
   "metadata": {},
   "outputs": [
    {
     "name": "stdout",
     "output_type": "stream",
     "text": [
      "1\n",
      "1\n",
      "4\n",
      "8\n",
      "9\n",
      "27\n",
      "16\n",
      "64\n",
      "25\n",
      "125\n",
      "36\n",
      "216\n",
      "49\n",
      "343\n",
      "64\n",
      "512\n",
      "81\n",
      "729\n",
      "100\n",
      "1000\n"
     ]
    }
   ],
   "source": [
    "import threading\n",
    "import time\n",
    "def square_fun(x):\n",
    "    print(x**2)\n",
    "    \n",
    "def cube_fun(x):\n",
    "    print(x**3)\n",
    "thred1 = [threading.Thread(target=square_fun,args=(i,)) for i in [1,2,3,4,5,6,7,8,9,10]]\n",
    "thred2 = [threading.Thread(target=cube_fun,args=(i,)) for i in [1,2,3,4,5,6,7,8,9,10]]\n",
    "\n",
    "for t1,t2 in zip(thred1,thred2):\n",
    "    t1.start()\n",
    "    time.sleep(1)\n",
    "    t2.start()\n",
    "    time.sleep(1)"
   ]
  },
  {
   "cell_type": "code",
   "execution_count": 9,
   "id": "981dc35c-ad90-4e60-b86c-20865ac6aeb9",
   "metadata": {},
   "outputs": [
    {
     "name": "stdout",
     "output_type": "stream",
     "text": [
      "Square of Number : \n",
      "1\n",
      "4\n",
      "9\n",
      "16\n",
      "25\n",
      "36\n",
      "49\n",
      "64\n",
      "81\n",
      "100\n",
      "\n",
      "\n",
      "Cube of Number : \n",
      "1\n",
      "8\n",
      "27\n",
      "64\n",
      "125\n",
      "216\n",
      "343\n",
      "512\n",
      "729\n",
      "1000\n"
     ]
    }
   ],
   "source": [
    "import threading\n",
    "import time\n",
    "\n",
    "def square_fun(x):\n",
    "    print(x**2)\n",
    "    \n",
    "def cube_fun(x):\n",
    "    print(x**3)\n",
    "    \n",
    "thred1 = [threading.Thread(target=square_fun,args=(i,)) for i in [1,2,3,4,5,6,7,8,9,10]]\n",
    "thred2 = [threading.Thread(target=cube_fun,args=(i,)) for i in [1,2,3,4,5,6,7,8,9,10]]\n",
    "\n",
    "print(\"Square of Number : \")\n",
    "for t1 in thred1:\n",
    "    t1.start()\n",
    "    time.sleep(1)\n",
    "    \n",
    "print(\"\\n\")\n",
    "print(\"Cube of Number : \")\n",
    "for t2 in thred2:\n",
    "    t2.start()\n",
    "    time.sleep(1)"
   ]
  },
  {
   "cell_type": "markdown",
   "id": "56dd5817-f451-43b6-92bb-74ec7066ec08",
   "metadata": {},
   "source": [
    "#### Q5. State advantages and disadvantages of multithreading\n",
    "---->>>\n",
    "- __ Advantages__ : --->>>>>>\n",
    "- Multithreading allows multiple tasks to run concurrently within a single process, improving overall program efficiency and responsiveness.\n",
    "- Threads within the same process can easily share resources such as memory space, file handles, and network connections, reducing overhead compared to separate processes.\n",
    "\n",
    "- __Disadvantages__ : --->>>>>>\n",
    "- Multithreaded programs can be more complex and difficult to reason about compared to single-threaded programs. \n",
    "- Multithreading introduces overhead in terms of memory and CPU usage. "
   ]
  },
  {
   "cell_type": "code",
   "execution_count": null,
   "id": "5732790f-9fd7-4135-a21e-c6ee44a87e5a",
   "metadata": {},
   "outputs": [],
   "source": [
    "#### Q6. Explain deadlocks and race conditions.\n",
    "----->>>>\n",
    "- __deadlock__ :\n",
    "- Deadlock occurs when two or more threads are blocked because each thread is holding a resource and waiting for another resource held by another thread, resulting in a cyclic dependency.\n",
    "- __race condition__ :\n",
    "- "
   ]
  }
 ],
 "metadata": {
  "kernelspec": {
   "display_name": "Python 3 (ipykernel)",
   "language": "python",
   "name": "python3"
  },
  "language_info": {
   "codemirror_mode": {
    "name": "ipython",
    "version": 3
   },
   "file_extension": ".py",
   "mimetype": "text/x-python",
   "name": "python",
   "nbconvert_exporter": "python",
   "pygments_lexer": "ipython3",
   "version": "3.10.8"
  }
 },
 "nbformat": 4,
 "nbformat_minor": 5
}
