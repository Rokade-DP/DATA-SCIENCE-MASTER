{
 "cells": [
  {
   "cell_type": "markdown",
   "id": "dbdaee76-783d-40a6-a764-b868c8f124b5",
   "metadata": {},
   "source": [
    "#### Q1. What is an API? Give an example, where an API is used in real life.\n",
    "--->>>\n",
    "-  API (Application Programming Interface) is a set of rules, protocols, and tools that allows different software applications to communicate and interact with each other.\n",
    "- One real-life example of API usage is in social media platforms like Facebook or Twitter. \n"
   ]
  },
  {
   "cell_type": "markdown",
   "id": "49c0e7d3-6483-49a0-8b1d-63d9c9794bf7",
   "metadata": {},
   "source": [
    "#### Q2. Give advantages and disadvantages of using API.\n",
    "--->>>\n",
    "- __Advantage of API :__ \n",
    "- Interoperability\n",
    "- Efficiency\n",
    "- Scalability\n",
    "- Innovation\n",
    "- Ecosystem Expansion\n",
    "- __Disadvantage of API :__\n",
    "- Dependency\n",
    "- Security Risks\n",
    "- Versioning Challenges\n",
    "- Limited Control\n",
    "- Potential Performance Issues"
   ]
  },
  {
   "cell_type": "markdown",
   "id": "79ced1dc-dc3b-4cb8-b088-b224fec5aaef",
   "metadata": {},
   "source": [
    "#### Q3. What is a Web API? Differentiate between API and Web API.\n",
    "---->>>\n",
    "- __Web API__ is an API designed to be accessed over the web using HTTP. It facilitates communication between client-side and server-side applications.\n",
    "- __API__ is a broader term referring to any set of rules, protocols, and tools that enable different software applications to communicate and interact with each other, regardless of the communication method used.  \n"
   ]
  },
  {
   "cell_type": "markdown",
   "id": "1ed128cc-5e25-4f65-9bbd-c0172ccd7bfc",
   "metadata": {},
   "source": [
    "#### Q4. Explain REST and SOAP Architecture. Mention shortcomings of SOAP.\n",
    "--->>>\n",
    "- __SOAP (Simple Object Access Protocol)__ is a protocol for exchanging structured information in web services. It uses XML for message format and can operate over various transport protocols like HTTP or SMTP.\n",
    "- __REST (Representational State Transfer)__ is an architectural style for designing networked applications. It relies on stateless, client-server communication via standard HTTP methods like GET, POST, PUT, and DELETE."
   ]
  },
  {
   "cell_type": "markdown",
   "id": "60d1abdd-b2cc-4ff9-949b-f82a4897ec3d",
   "metadata": {},
   "source": [
    "#### Q5. Differentiate between REST and SOAP.\n",
    "--->>>\n",
    "- __REST:__\n",
    "\n",
    "- Architecture style\n",
    "- Uses standard HTTP methods\n",
    "- Lightweight message formats like JSON\n",
    "- Stateless\n",
    "- Flexible and simple\n",
    "\n",
    "- __SOAP:__\n",
    "- Protocol\n",
    "- Can use various transport protocols\n",
    "- Uses XML exclusively\n",
    "- Maintains stateful communication\n",
    "- More complex and rigid"
   ]
  },
  {
   "cell_type": "code",
   "execution_count": null,
   "id": "adf29150-ed81-4c9a-ab72-b99014270d34",
   "metadata": {},
   "outputs": [],
   "source": []
  }
 ],
 "metadata": {
  "kernelspec": {
   "display_name": "Python 3 (ipykernel)",
   "language": "python",
   "name": "python3"
  },
  "language_info": {
   "codemirror_mode": {
    "name": "ipython",
    "version": 3
   },
   "file_extension": ".py",
   "mimetype": "text/x-python",
   "name": "python",
   "nbconvert_exporter": "python",
   "pygments_lexer": "ipython3",
   "version": "3.10.8"
  }
 },
 "nbformat": 4,
 "nbformat_minor": 5
}
