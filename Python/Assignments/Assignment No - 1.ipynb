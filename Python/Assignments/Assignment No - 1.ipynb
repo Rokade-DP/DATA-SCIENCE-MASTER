{
 "cells": [
  {
   "cell_type": "markdown",
   "id": "5ea6005d",
   "metadata": {},
   "source": [
    "#### Q1 -> What are the characteristics of the tuples? Is tuple immutable?\n",
    "---> Python tuple is a collection of object separated by commas.\n",
    "     Tuple is similar to python list\n",
    "     The difference Between Python List and Python tuple is that the , \n",
    "     \"Python list is Mutable\" means we can perform changes in the python list\n",
    "     but \"Python Tuple is immutable\" means we cannot perform changes in the python list\n",
    "     Python Tuple has some method:-\n",
    "                                 1) count()\n",
    "                                 2) index()"
   ]
  },
  {
   "cell_type": "markdown",
   "id": "543f53d0",
   "metadata": {},
   "source": [
    "#### Q2 -> What are the two tuple methods in python? Give an example of each method. Give a reason why tuples have only two in-built methods as compared to Lists.\n",
    "      ----> Tuple has two method -- 1) count()\n",
    "                                    2) index\n",
    "            "
   ]
  },
  {
   "cell_type": "code",
   "execution_count": 4,
   "id": "6b920e55",
   "metadata": {},
   "outputs": [
    {
     "name": "stdout",
     "output_type": "stream",
     "text": [
      "3\n",
      "4\n"
     ]
    }
   ],
   "source": [
    "t1 = (1,2,3,4,\"Ram\",\"Sham\",\"Dhananjay\",5,6,7,8,9,2,2,3,4,)\n",
    "print(t1.count(2))\n",
    "print(t1.index(\"Ram\"))\n",
    "\n",
    "### Basically Tuple is immutable so we cannot perform changes in tuple so we cannot do list operation like append and other operation so \n",
    "### Tuple has only Two method count() and index() "
   ]
  },
  {
   "cell_type": "markdown",
   "id": "a40f3a26",
   "metadata": {},
   "source": [
    "#### Q3 -> Which collection datatypes in python do not allow duplicate items? Write a code using a set to remove duplicates from the given list.\n",
    "   ---->\"Set()\" dataype in python not allow duplicate items"
   ]
  },
  {
   "cell_type": "code",
   "execution_count": 5,
   "id": "a13716bd",
   "metadata": {},
   "outputs": [
    {
     "name": "stdout",
     "output_type": "stream",
     "text": [
      "{1, 2, 3, 4, 5, 6, 7, 8, 9, 76, 54, 89}\n"
     ]
    }
   ],
   "source": [
    "l = [1,1,2,3,4,5,4,3,2,3,4,5,6,7,7,8,9,76,89,6,54,3,2]\n",
    "print(set(l))"
   ]
  },
  {
   "cell_type": "markdown",
   "id": "136dbfa1",
   "metadata": {},
   "source": [
    "#### Q4 -> Explain the difference between the union() and update() methods for a set. Give an example of each method.\n",
    "      ----> union() method create new set that contain both set element in it and it can't change or modify the existing set\n",
    "      update() method update the set and modify the existing set and gives the comabination of set"
   ]
  },
  {
   "cell_type": "code",
   "execution_count": 14,
   "id": "69412587",
   "metadata": {},
   "outputs": [
    {
     "name": "stdout",
     "output_type": "stream",
     "text": [
      "union method output :- {1, 2, 3, 4, 5, 6, 7}\n"
     ]
    }
   ],
   "source": [
    "s1 = {1,2,3}\n",
    "s2 = {2,3,4,5,6,7}\n",
    "s3 = s1.union(s2)\n",
    "print(\"union method output :-\",s3)"
   ]
  },
  {
   "cell_type": "code",
   "execution_count": 19,
   "id": "d21c53d1",
   "metadata": {
    "scrolled": true
   },
   "outputs": [
    {
     "name": "stdout",
     "output_type": "stream",
     "text": [
      "update method output :-\n",
      "{1, 2, 3, 4, 5, 6, 7}\n",
      "{2, 3, 4, 5, 6, 7}\n"
     ]
    }
   ],
   "source": [
    "s1 = {1,2,3}\n",
    "s2 = {2,3,4,5,6,7}\n",
    "s1.update(s2)\n",
    "print(\"update method output :-\")\n",
    "print(s1)\n",
    "print(s2)"
   ]
  },
  {
   "cell_type": "markdown",
   "id": "cf5bf810",
   "metadata": {},
   "source": [
    "#### Q5 -> What is a dictionary? Give an example. Also, state whether a dictionary is ordered or unordered.\n",
    "      ----> Dictionary is nothing but a key value pair combination means in dictionary data type we can store the data in a key value manner.\n",
    "      key is unique and value may or may not be unique\n",
    "      Dictionary is unordered data type in python"
   ]
  },
  {
   "cell_type": "code",
   "execution_count": 20,
   "id": "ffb875c2",
   "metadata": {},
   "outputs": [],
   "source": [
    "d1 = {1:\"ram\",4:\"sam\",10:\"pwskills\",2:\"arun\",56:\"shiv\",23:65}"
   ]
  },
  {
   "cell_type": "code",
   "execution_count": 21,
   "id": "dfdcc31c",
   "metadata": {},
   "outputs": [
    {
     "data": {
      "text/plain": [
       "'arun'"
      ]
     },
     "execution_count": 21,
     "metadata": {},
     "output_type": "execute_result"
    }
   ],
   "source": [
    "d1[2]"
   ]
  },
  {
   "cell_type": "code",
   "execution_count": 22,
   "id": "32f49c68",
   "metadata": {},
   "outputs": [
    {
     "data": {
      "text/plain": [
       "{1: 'ram', 4: 'sam', 10: 'pwskills', 2: 'arun', 56: 'shiv', 23: 65}"
      ]
     },
     "execution_count": 22,
     "metadata": {},
     "output_type": "execute_result"
    }
   ],
   "source": [
    "d1"
   ]
  },
  {
   "cell_type": "code",
   "execution_count": 23,
   "id": "600e7df2",
   "metadata": {},
   "outputs": [
    {
     "data": {
      "text/plain": [
       "dict_keys([1, 4, 10, 2, 56, 23])"
      ]
     },
     "execution_count": 23,
     "metadata": {},
     "output_type": "execute_result"
    }
   ],
   "source": [
    "d1.keys()"
   ]
  },
  {
   "cell_type": "code",
   "execution_count": 24,
   "id": "ef0b589b",
   "metadata": {},
   "outputs": [
    {
     "data": {
      "text/plain": [
       "dict_values(['ram', 'sam', 'pwskills', 'arun', 'shiv', 65])"
      ]
     },
     "execution_count": 24,
     "metadata": {},
     "output_type": "execute_result"
    }
   ],
   "source": [
    "d1.values()"
   ]
  },
  {
   "cell_type": "markdown",
   "id": "9e9edd47",
   "metadata": {},
   "source": [
    "#### Q6 -> Can we create a nested dictionary? If so, please give an example by creating a simple one-level nested dictionary.\n",
    "     ----> Yes we can create nested dictionary in python"
   ]
  },
  {
   "cell_type": "code",
   "execution_count": 26,
   "id": "fb9ac6b7",
   "metadata": {},
   "outputs": [],
   "source": [
    "d2 = {1:\"Hari\",2:\"Sham\",3:{4:\"Raj\",5:'Rani'}}"
   ]
  },
  {
   "cell_type": "code",
   "execution_count": 27,
   "id": "61ddb767",
   "metadata": {},
   "outputs": [
    {
     "data": {
      "text/plain": [
       "{1: 'Hari', 2: 'Sham', 3: {4: 'Raj', 5: 'Rani'}}"
      ]
     },
     "execution_count": 27,
     "metadata": {},
     "output_type": "execute_result"
    }
   ],
   "source": [
    "d2"
   ]
  },
  {
   "cell_type": "code",
   "execution_count": 32,
   "id": "f46f220a",
   "metadata": {},
   "outputs": [
    {
     "data": {
      "text/plain": [
       "{4: 'Raj', 5: 'Rani'}"
      ]
     },
     "execution_count": 32,
     "metadata": {},
     "output_type": "execute_result"
    }
   ],
   "source": [
    "d2.get(3)"
   ]
  },
  {
   "cell_type": "markdown",
   "id": "a93cd477",
   "metadata": {},
   "source": [
    "#### Q7 -> Using setdefault() method, create key named topics in the given dictionary and also add the value of the key as this list ['Python', 'Machine Learning’, 'Deep Learning'] dict1 = {'language' : 'Python', 'course': 'Data Science Masters'}"
   ]
  },
  {
   "cell_type": "code",
   "execution_count": 34,
   "id": "66b1ad8f",
   "metadata": {},
   "outputs": [],
   "source": [
    "dict1 = {'language' : 'Python', 'course': 'Data Science Masters'}"
   ]
  },
  {
   "cell_type": "code",
   "execution_count": 35,
   "id": "ac3cbf7c",
   "metadata": {},
   "outputs": [
    {
     "data": {
      "text/plain": [
       "['Python', 'Machine Learning', 'Deep Learning']"
      ]
     },
     "execution_count": 35,
     "metadata": {},
     "output_type": "execute_result"
    }
   ],
   "source": [
    "dict1.setdefault(\"topics\", ['Python','Machine Learning','Deep Learning'])"
   ]
  },
  {
   "cell_type": "code",
   "execution_count": 36,
   "id": "fba6c969",
   "metadata": {},
   "outputs": [
    {
     "data": {
      "text/plain": [
       "{'language': 'Python',\n",
       " 'course': 'Data Science Masters',\n",
       " 'topics': ['Python', 'Machine Learning', 'Deep Learning']}"
      ]
     },
     "execution_count": 36,
     "metadata": {},
     "output_type": "execute_result"
    }
   ],
   "source": [
    "dict1"
   ]
  },
  {
   "cell_type": "markdown",
   "id": "ead131f3",
   "metadata": {},
   "source": [
    "#### Q8 -> What are the three view objects in dictionaries? Use the three in-built methods in python to display these three view objects for the given dictionary. dict1 = {'Sport': 'Cricket' , 'Teams': ['India', 'Australia', 'England', 'South Africa', 'Sri Lanka', 'New Zealand']}\n",
    " ------>  -items()\n",
    "          - keys()\n",
    "          -values()\n",
    "          -get()"
   ]
  },
  {
   "cell_type": "code",
   "execution_count": 52,
   "id": "ce30d2ad",
   "metadata": {},
   "outputs": [],
   "source": [
    "dict1 = {'Sport': 'Cricket' , 'Teams': ['India', 'Australia', 'England', 'South Africa', 'Sri Lanka', 'New Zealand']}"
   ]
  },
  {
   "cell_type": "code",
   "execution_count": 53,
   "id": "a7c6a61f",
   "metadata": {},
   "outputs": [
    {
     "data": {
      "text/plain": [
       "dict_items([('Sport', 'Cricket'), ('Teams', ['India', 'Australia', 'England', 'South Africa', 'Sri Lanka', 'New Zealand'])])"
      ]
     },
     "execution_count": 53,
     "metadata": {},
     "output_type": "execute_result"
    }
   ],
   "source": [
    "dict1.items()"
   ]
  },
  {
   "cell_type": "code",
   "execution_count": 54,
   "id": "56fb4e6a",
   "metadata": {},
   "outputs": [
    {
     "data": {
      "text/plain": [
       "dict_keys(['Sport', 'Teams'])"
      ]
     },
     "execution_count": 54,
     "metadata": {},
     "output_type": "execute_result"
    }
   ],
   "source": [
    "dict1.keys()"
   ]
  },
  {
   "cell_type": "code",
   "execution_count": 55,
   "id": "6449590d",
   "metadata": {},
   "outputs": [
    {
     "data": {
      "text/plain": [
       "dict_values(['Cricket', ['India', 'Australia', 'England', 'South Africa', 'Sri Lanka', 'New Zealand']])"
      ]
     },
     "execution_count": 55,
     "metadata": {},
     "output_type": "execute_result"
    }
   ],
   "source": [
    "dict1.values()"
   ]
  },
  {
   "cell_type": "code",
   "execution_count": null,
   "id": "f86912a8",
   "metadata": {},
   "outputs": [],
   "source": []
  },
  {
   "cell_type": "code",
   "execution_count": 45,
   "id": "dd00d252",
   "metadata": {},
   "outputs": [],
   "source": []
  },
  {
   "cell_type": "code",
   "execution_count": null,
   "id": "a3e66d94",
   "metadata": {},
   "outputs": [],
   "source": []
  }
 ],
 "metadata": {
  "kernelspec": {
   "display_name": "Python 3 (ipykernel)",
   "language": "python",
   "name": "python3"
  },
  "language_info": {
   "codemirror_mode": {
    "name": "ipython",
    "version": 3
   },
   "file_extension": ".py",
   "mimetype": "text/x-python",
   "name": "python",
   "nbconvert_exporter": "python",
   "pygments_lexer": "ipython3",
   "version": "3.11.5"
  }
 },
 "nbformat": 4,
 "nbformat_minor": 5
}
