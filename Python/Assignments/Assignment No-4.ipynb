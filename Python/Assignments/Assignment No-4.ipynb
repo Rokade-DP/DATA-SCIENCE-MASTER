{
 "cells": [
  {
   "cell_type": "markdown",
   "id": "7aa45ef1",
   "metadata": {},
   "source": [
    "#### Q1. Explain Class and Object with respect to Object-Oriented Programming. Give a suitable example."
   ]
  },
  {
   "cell_type": "markdown",
   "id": "98aa3aaa",
   "metadata": {},
   "source": [
    "---> Class is nothing but just a blueprint or template \n",
    "     Object is a real world entity \n",
    "             for example if you want to build the house that time you go to civil engineer and civil engineer give the template of your house that means its a class type\n",
    "             Object means whenever the real house contruction is done means real house is build then it means Object."
   ]
  },
  {
   "cell_type": "code",
   "execution_count": 3,
   "id": "6336c80f",
   "metadata": {},
   "outputs": [
    {
     "name": "stdout",
     "output_type": "stream",
     "text": [
      "Hello Everyone\n"
     ]
    }
   ],
   "source": [
    "# Test is a class\n",
    "# rohan is object\n",
    "\n",
    "class Test:\n",
    "    def greeting(self):\n",
    "        print(\"Hello Everyone\")\n",
    "rohan = Test()\n",
    "rohan.greeting()"
   ]
  },
  {
   "cell_type": "markdown",
   "id": "64f61fd2",
   "metadata": {},
   "source": [
    "#### Q2. Name the four pillars of OOPs."
   ]
  },
  {
   "cell_type": "markdown",
   "id": "85d6eee3",
   "metadata": {},
   "source": [
    "--------------->>>\n",
    "##### 1) Inheritance\n",
    "##### 2) Encapsulation\n",
    "##### 3) Abstraction\n",
    "##### 4) Polymorphisoms"
   ]
  },
  {
   "cell_type": "markdown",
   "id": "f722d72f",
   "metadata": {},
   "source": [
    "#### Q3. Explain why the __init__() function is used. Give a suitable example."
   ]
  },
  {
   "cell_type": "markdown",
   "id": "15b069a6",
   "metadata": {},
   "source": [
    "------------------>>>\n",
    "__init__() is a construction in python\n",
    "basically init() method is user when used want to pass some data to the fuction or inside the class that time we used the construction and the best part of the construction is the \n",
    "-constructor is used to initilize the object "
   ]
  },
  {
   "cell_type": "code",
   "execution_count": 5,
   "id": "b72f365e",
   "metadata": {},
   "outputs": [
    {
     "data": {
      "text/plain": [
       "8"
      ]
     },
     "execution_count": 5,
     "metadata": {},
     "output_type": "execute_result"
    }
   ],
   "source": [
    "class Test1:\n",
    "    def __init__(self,a,b):\n",
    "        self.a=a\n",
    "        self.b=b\n",
    "    \n",
    "    def display(self):\n",
    "        return self.a + self.b\n",
    "add = Test1(3,5)\n",
    "add.display()\n",
    "        "
   ]
  },
  {
   "cell_type": "markdown",
   "id": "597c4feb",
   "metadata": {},
   "source": [
    "#### Q4. Why self is used in OOPs?"
   ]
  },
  {
   "cell_type": "markdown",
   "id": "b6c2e0d1",
   "metadata": {},
   "source": [
    "--------------->>\n",
    "__self__ is used to understand the class that the function that define is present in class and also it help to refer the class attribute or user pass attribute\n",
    "__Self represents the instance of the class__"
   ]
  },
  {
   "cell_type": "markdown",
   "id": "1251ab51",
   "metadata": {},
   "source": [
    "#### Q5. What is inheritance? Give an example for each type of inheritance."
   ]
  },
  {
   "cell_type": "markdown",
   "id": "628cd856",
   "metadata": {},
   "source": [
    "------------>>\n",
    "__inheritance__ means when any child class or sub class aquired the all properties of  his parent class or super class  \n",
    "__single level inheritance__ --->> when the child class or sub class aquire the property of his parent class or only one class is known as single level inheritance\n",
    "\n",
    "__multilevel level inheritance__ --->> when class(B) inherite class(A) and class(C) inheriate class(B) level wise inheritance is happen and class(C) aquired all property of class(B) and indirectly it aquired all properties of class(A)\n",
    "\n",
    "__Hybrid inheritance__ --->> when class(B) inheriate the properties of class(A) and class(c) inheriate class(B) is known as Hybrid Inheritance\n",
    "\n",
    "__multiple inheritance__ ---->> when class(B) inheriate the properties of class(A) and class(c)is known as multiple Inheritance"
   ]
  },
  {
   "cell_type": "code",
   "execution_count": null,
   "id": "4ab0ac61",
   "metadata": {},
   "outputs": [],
   "source": []
  }
 ],
 "metadata": {
  "kernelspec": {
   "display_name": "Python 3 (ipykernel)",
   "language": "python",
   "name": "python3"
  },
  "language_info": {
   "codemirror_mode": {
    "name": "ipython",
    "version": 3
   },
   "file_extension": ".py",
   "mimetype": "text/x-python",
   "name": "python",
   "nbconvert_exporter": "python",
   "pygments_lexer": "ipython3",
   "version": "3.11.5"
  }
 },
 "nbformat": 4,
 "nbformat_minor": 5
}
