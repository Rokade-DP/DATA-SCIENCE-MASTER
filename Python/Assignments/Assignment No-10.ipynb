{
 "cells": [
  {
   "cell_type": "markdown",
   "id": "6257e4b6",
   "metadata": {},
   "source": [
    "#### Q1. Which function is used to open a file? What are the different modes of opening a file? Explain each mode of file opening.\n",
    "\n",
    "----->>> __open(file_name,mode)__ function are used to open a file.\n",
    "There are different modes are available in python \n",
    "- read mode 'r' --> read word by word\n",
    "- write mode 'w' --> write mode use to write in file but it override the existing file\n",
    "- append mode 'a'--> append mode is also used to write but maintain previous data and then write\n",
    "- read binary mode 'rb' read the binary file\n",
    "- write binary mode 'wb' write into binary format"
   ]
  },
  {
   "cell_type": "markdown",
   "id": "b0fd31c7",
   "metadata": {},
   "source": [
    "#### Q2. Why close() function is used? Why is it important to close a file?\n",
    "------>>>\n",
    "- __Objectmethod.close()__ closes the opened file.\n",
    "- Bcoz without closing the file you cannot view your output so it required to close the file\n"
   ]
  },
  {
   "cell_type": "markdown",
   "id": "f0ce2258",
   "metadata": {},
   "source": [
    "#### Q3. Write a python program to create a text file. Write ‘I want to become a Data Scientist’ in that file. Then close the file. Open this file and read the content of the file.\n",
    "------->>>"
   ]
  },
  {
   "cell_type": "code",
   "execution_count": 1,
   "id": "09effd4e",
   "metadata": {},
   "outputs": [],
   "source": [
    "f = open(\"data.txt\",'w')"
   ]
  },
  {
   "cell_type": "code",
   "execution_count": 2,
   "id": "33a4523f",
   "metadata": {},
   "outputs": [
    {
     "data": {
      "text/plain": [
       "33"
      ]
     },
     "execution_count": 2,
     "metadata": {},
     "output_type": "execute_result"
    }
   ],
   "source": [
    "f.write(\"I want to become a Data Scientist\")"
   ]
  },
  {
   "cell_type": "code",
   "execution_count": 3,
   "id": "fa35c1a0",
   "metadata": {},
   "outputs": [],
   "source": [
    "f.close()"
   ]
  },
  {
   "cell_type": "code",
   "execution_count": 7,
   "id": "b6808719",
   "metadata": {},
   "outputs": [],
   "source": [
    "f=open(\"data.txt\",'r')"
   ]
  },
  {
   "cell_type": "code",
   "execution_count": 9,
   "id": "68779443",
   "metadata": {},
   "outputs": [
    {
     "data": {
      "text/plain": [
       "'I want to become a Data Scientist'"
      ]
     },
     "execution_count": 9,
     "metadata": {},
     "output_type": "execute_result"
    }
   ],
   "source": [
    "f.read()"
   ]
  },
  {
   "cell_type": "markdown",
   "id": "7cda3209",
   "metadata": {},
   "source": [
    "#### Q4. Explain the following with python code: read(), readline() and readlines()."
   ]
  },
  {
   "cell_type": "code",
   "execution_count": 10,
   "id": "8b9e1907",
   "metadata": {},
   "outputs": [],
   "source": [
    "f= open(\"data1.txt\",'w')"
   ]
  },
  {
   "cell_type": "code",
   "execution_count": 12,
   "id": "36392d89",
   "metadata": {},
   "outputs": [
    {
     "data": {
      "text/plain": [
       "574"
      ]
     },
     "execution_count": 12,
     "metadata": {},
     "output_type": "execute_result"
    }
   ],
   "source": [
    "f.write(\"Lorem Ipsum is simply dummy text of the printing and typesetting industry. Lorem Ipsum has been the industry's standard dummy text ever since the 1500s, when an unknown printer took a galley of type and scrambled it to make a type specimen book. It has survived not only five centuries, but also the leap into electronic typesetting, remaining essentially unchanged. It was popularised in the 1960s with the release of Letraset sheets containing Lorem Ipsum passages, and more recently with desktop publishing software like Aldus PageMaker including versions of Lorem Ipsum.\")"
   ]
  },
  {
   "cell_type": "code",
   "execution_count": 13,
   "id": "5c5fe2ba",
   "metadata": {},
   "outputs": [],
   "source": [
    "f.close()"
   ]
  },
  {
   "cell_type": "code",
   "execution_count": 14,
   "id": "cee7baa7",
   "metadata": {},
   "outputs": [],
   "source": [
    "f= open(\"data1.txt\",'r')"
   ]
  },
  {
   "cell_type": "code",
   "execution_count": 15,
   "id": "5aae6664",
   "metadata": {},
   "outputs": [
    {
     "data": {
      "text/plain": [
       "\"Lorem Ipsum is simply dummy text of the printing and typesetting industry. Lorem Ipsum has been the industry's standard dummy text ever since the 1500s, when an unknown printer took a galley of type and scrambled it to make a type specimen book. It has survived not only five centuries, but also the leap into electronic typesetting, remaining essentially unchanged. It was popularised in the 1960s with the release of Letraset sheets containing Lorem Ipsum passages, and more recently with desktop publishing software like Aldus PageMaker including versions of Lorem Ipsum.\""
      ]
     },
     "execution_count": 15,
     "metadata": {},
     "output_type": "execute_result"
    }
   ],
   "source": [
    "f.read()"
   ]
  },
  {
   "cell_type": "code",
   "execution_count": 20,
   "id": "8860640b",
   "metadata": {},
   "outputs": [
    {
     "data": {
      "text/plain": [
       "0"
      ]
     },
     "execution_count": 20,
     "metadata": {},
     "output_type": "execute_result"
    }
   ],
   "source": [
    "f.seek(0)"
   ]
  },
  {
   "cell_type": "code",
   "execution_count": 22,
   "id": "29409ead",
   "metadata": {},
   "outputs": [
    {
     "data": {
      "text/plain": [
       "\"Lorem Ipsum is simply dummy text of the printing and typesetting industry. Lorem Ipsum has been the industry's standard dummy text ever since the 1500s, when an unknown printer took a galley of type and scrambled it to make a type specimen book. It has survived not only five centuries, but also the leap into electronic typesetting, remaining essentially unchanged. It was popularised in the 1960s with the release of Letraset sheets containing Lorem Ipsum passages, and more recently with desktop publishing software like Aldus PageMaker including versions of Lorem Ipsum.\""
      ]
     },
     "execution_count": 22,
     "metadata": {},
     "output_type": "execute_result"
    }
   ],
   "source": [
    "f.read()"
   ]
  },
  {
   "cell_type": "code",
   "execution_count": 24,
   "id": "c1399ea7",
   "metadata": {},
   "outputs": [
    {
     "data": {
      "text/plain": [
       "0"
      ]
     },
     "execution_count": 24,
     "metadata": {},
     "output_type": "execute_result"
    }
   ],
   "source": [
    "f.seek(0)"
   ]
  },
  {
   "cell_type": "code",
   "execution_count": 25,
   "id": "b430996f",
   "metadata": {},
   "outputs": [
    {
     "data": {
      "text/plain": [
       "[\"Lorem Ipsum is simply dummy text of the printing and typesetting industry. Lorem Ipsum has been the industry's standard dummy text ever since the 1500s, when an unknown printer took a galley of type and scrambled it to make a type specimen book. It has survived not only five centuries, but also the leap into electronic typesetting, remaining essentially unchanged. It was popularised in the 1960s with the release of Letraset sheets containing Lorem Ipsum passages, and more recently with desktop publishing software like Aldus PageMaker including versions of Lorem Ipsum.\"]"
      ]
     },
     "execution_count": 25,
     "metadata": {},
     "output_type": "execute_result"
    }
   ],
   "source": [
    "f.readlines()"
   ]
  },
  {
   "cell_type": "code",
   "execution_count": 28,
   "id": "f50440b6",
   "metadata": {},
   "outputs": [
    {
     "data": {
      "text/plain": [
       "0"
      ]
     },
     "execution_count": 28,
     "metadata": {},
     "output_type": "execute_result"
    }
   ],
   "source": [
    "f.seek(0)"
   ]
  },
  {
   "cell_type": "code",
   "execution_count": 29,
   "id": "8ed2f32a",
   "metadata": {},
   "outputs": [
    {
     "data": {
      "text/plain": [
       "[\"Lorem Ipsum is simply dummy text of the printing and typesetting industry. Lorem Ipsum has been the industry's standard dummy text ever since the 1500s, when an unknown printer took a galley of type and scrambled it to make a type specimen book. It has survived not only five centuries, but also the leap into electronic typesetting, remaining essentially unchanged. It was popularised in the 1960s with the release of Letraset sheets containing Lorem Ipsum passages, and more recently with desktop publishing software like Aldus PageMaker including versions of Lorem Ipsum.\"]"
      ]
     },
     "execution_count": 29,
     "metadata": {},
     "output_type": "execute_result"
    }
   ],
   "source": [
    "f.readlines(3)"
   ]
  },
  {
   "cell_type": "code",
   "execution_count": 31,
   "id": "944b7750",
   "metadata": {},
   "outputs": [
    {
     "data": {
      "text/plain": [
       "0"
      ]
     },
     "execution_count": 31,
     "metadata": {},
     "output_type": "execute_result"
    }
   ],
   "source": [
    "f.seek(0)"
   ]
  },
  {
   "cell_type": "code",
   "execution_count": 32,
   "id": "d518e064",
   "metadata": {},
   "outputs": [
    {
     "data": {
      "text/plain": [
       "\"Lorem Ipsum is simply dummy text of the printing and typesetting industry. Lorem Ipsum has been the industry's standard dummy text ever since the 1500s, when an unknown printer took a galley of type and scrambled it to make a type specimen book. It has survived not only five centuries, but also the leap into electronic typesetting, remaining essentially unchanged. It was popularised in the 1960s with the release of Letraset sheets containing Lorem Ipsum passages, and more recently with desktop publishing software like Aldus PageMaker including versions of Lorem Ipsum.\""
      ]
     },
     "execution_count": 32,
     "metadata": {},
     "output_type": "execute_result"
    }
   ],
   "source": [
    "f.readline()"
   ]
  },
  {
   "cell_type": "markdown",
   "id": "2810499a",
   "metadata": {},
   "source": [
    "- __read()__ ---> In this method read file in character by character.\n",
    "- __readline()__ --> Python readline() is a file method that helps to read one complete line from the given file. It has a trailing newline (“\\n”) at the end of the string returned.\n",
    "- __readlines()__ --> readlines() is used to read all the lines at a single go and then return them as each line a string element in a list."
   ]
  },
  {
   "cell_type": "markdown",
   "id": "51f04d34",
   "metadata": {},
   "source": [
    "#### Q5 . Explain why with statement is used with open(). What is the advantage of using with statement and open() together?\n",
    "----->>>\n",
    "- When you call the open() function using the with statement, the file closes automatically after you've processed the file. \n",
    "- with statement is used in exception handling to make the code cleaner and much more readable.\n"
   ]
  },
  {
   "cell_type": "markdown",
   "id": "b685d500",
   "metadata": {},
   "source": [
    "#### Q6 . Explain the write() and writelines() functions. Give a suitable example.\n",
    "----->>>\n",
    "- The __write()__ function will write the content in the file without adding any extra characters.\n",
    "- __writelines()__ method writes a sequence of the string or the text to the specified file."
   ]
  },
  {
   "cell_type": "code",
   "execution_count": 34,
   "id": "4368836f",
   "metadata": {},
   "outputs": [],
   "source": [
    "new_file = open(\"data2.txt\", 'w')"
   ]
  },
  {
   "cell_type": "code",
   "execution_count": 35,
   "id": "0dacad5d",
   "metadata": {},
   "outputs": [
    {
     "data": {
      "text/plain": [
       "20"
      ]
     },
     "execution_count": 35,
     "metadata": {},
     "output_type": "execute_result"
    }
   ],
   "source": [
    "new_file.write(\"This is write method\")"
   ]
  },
  {
   "cell_type": "code",
   "execution_count": 36,
   "id": "60350a67",
   "metadata": {},
   "outputs": [],
   "source": [
    "new_file.close()"
   ]
  },
  {
   "cell_type": "code",
   "execution_count": 38,
   "id": "3eba40d4",
   "metadata": {},
   "outputs": [],
   "source": [
    "new_file = open(\"data2.txt\",'r')"
   ]
  },
  {
   "cell_type": "code",
   "execution_count": 39,
   "id": "bd2e2ae7",
   "metadata": {},
   "outputs": [
    {
     "data": {
      "text/plain": [
       "'This is write method'"
      ]
     },
     "execution_count": 39,
     "metadata": {},
     "output_type": "execute_result"
    }
   ],
   "source": [
    "new_file.read()"
   ]
  },
  {
   "cell_type": "code",
   "execution_count": 40,
   "id": "2d592c58",
   "metadata": {},
   "outputs": [],
   "source": [
    "new_data = open(\"data3.txt\",'w')"
   ]
  },
  {
   "cell_type": "code",
   "execution_count": 41,
   "id": "0ec60c59",
   "metadata": {},
   "outputs": [],
   "source": [
    "new_data.writelines(\"This is my writelines\")"
   ]
  },
  {
   "cell_type": "code",
   "execution_count": 43,
   "id": "f9ac17f3",
   "metadata": {},
   "outputs": [],
   "source": [
    "new_data.close()"
   ]
  },
  {
   "cell_type": "code",
   "execution_count": 44,
   "id": "2ad188cc",
   "metadata": {},
   "outputs": [],
   "source": [
    "new_data = open(\"data3.txt\",'r')"
   ]
  },
  {
   "cell_type": "code",
   "execution_count": 45,
   "id": "fe79fd5c",
   "metadata": {},
   "outputs": [
    {
     "data": {
      "text/plain": [
       "'This is my writelines'"
      ]
     },
     "execution_count": 45,
     "metadata": {},
     "output_type": "execute_result"
    }
   ],
   "source": [
    "new_data.read()"
   ]
  },
  {
   "cell_type": "code",
   "execution_count": null,
   "id": "33f97534",
   "metadata": {},
   "outputs": [],
   "source": []
  }
 ],
 "metadata": {
  "kernelspec": {
   "display_name": "Python 3 (ipykernel)",
   "language": "python",
   "name": "python3"
  },
  "language_info": {
   "codemirror_mode": {
    "name": "ipython",
    "version": 3
   },
   "file_extension": ".py",
   "mimetype": "text/x-python",
   "name": "python",
   "nbconvert_exporter": "python",
   "pygments_lexer": "ipython3",
   "version": "3.11.5"
  }
 },
 "nbformat": 4,
 "nbformat_minor": 5
}
