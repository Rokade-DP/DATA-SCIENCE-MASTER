{
 "cells": [
  {
   "cell_type": "markdown",
   "id": "eb2f9052",
   "metadata": {},
   "source": [
    "#### Q1. Create a vehicle class with an init method having instance variables as name_of_vehicle, max_speed and average_of_vehicle.\n",
    "------>>>"
   ]
  },
  {
   "cell_type": "code",
   "execution_count": 27,
   "id": "5cb7e192",
   "metadata": {},
   "outputs": [],
   "source": [
    "class Vehicle:\n",
    "    def __init__(self,name_of_vehicle,max_speed,average_of_vehicle):\n",
    "        self.name_of_vehicle = name_of_vehicle\n",
    "        self.max_speed = max_speed\n",
    "        self.average_of_vehicle = average_of_vehicle\n",
    "        \n",
    "    def Display_info(self):\n",
    "        return self.name_of_vehicle, self.max_speed,self.average_of_vehicle\n"
   ]
  },
  {
   "cell_type": "code",
   "execution_count": 28,
   "id": "84040c0d",
   "metadata": {},
   "outputs": [],
   "source": [
    "obj_vehicle = Vehicle(\"land rover\",250,120)"
   ]
  },
  {
   "cell_type": "code",
   "execution_count": 29,
   "id": "7c8ac12e",
   "metadata": {},
   "outputs": [
    {
     "data": {
      "text/plain": [
       "('land rover', 250, 120)"
      ]
     },
     "execution_count": 29,
     "metadata": {},
     "output_type": "execute_result"
    }
   ],
   "source": [
    "obj_vehicle.Display_info()"
   ]
  },
  {
   "cell_type": "markdown",
   "id": "9d3b8af7",
   "metadata": {},
   "source": [
    "#### Q2. Create a child class car from the vehicle class created in Que 1, which will inherit the vehicle class. Create a method named seating_capacity which takes capacity as an argument and returns the name of the vehicle and its seating capacity."
   ]
  },
  {
   "cell_type": "code",
   "execution_count": 59,
   "id": "78f0dd6c",
   "metadata": {},
   "outputs": [],
   "source": [
    "class Vehicle:\n",
    "    def __init__(self, name_of_vehicle, max_speed, average_speed):\n",
    "        self.name_of_vehicle = name_of_vehicle\n",
    "        self.max_speed = max_speed\n",
    "        self.average_speed = average_speed\n",
    "\n",
    "class Car(Vehicle):\n",
    "    def __init__(self, name_of_vehicle, max_speed,average_speed):\n",
    "        super().__init__(name_of_vehicle, max_speed,average_speed)\n",
    "\n",
    "    def seating_capacity(self, capacity):\n",
    "        return f\"The {self.name_of_vehicle} has a seating capacity of {capacity}.\"\n",
    "\n",
    "\n"
   ]
  },
  {
   "cell_type": "code",
   "execution_count": 60,
   "id": "1ed329c2",
   "metadata": {},
   "outputs": [],
   "source": [
    "my_car = Car(\"Toyota Camry\", 180, 100)"
   ]
  },
  {
   "cell_type": "code",
   "execution_count": 61,
   "id": "3580078d",
   "metadata": {},
   "outputs": [
    {
     "data": {
      "text/plain": [
       "'The Toyota Camry has a seating capacity of 5.'"
      ]
     },
     "execution_count": 61,
     "metadata": {},
     "output_type": "execute_result"
    }
   ],
   "source": [
    "my_car.seating_capacity(5)"
   ]
  },
  {
   "cell_type": "markdown",
   "id": "0cb24446",
   "metadata": {},
   "source": [
    "#### Q.3 What is multiple inheritance? Write a python code to demonstrate multiple inheritance.\n",
    "------->>> when we inherited more than one class properties that time it know as multiple inheritance.\n",
    "for ex :- class-A inherited class-C and class-B both the classs and aquired both the properties of this classes."
   ]
  },
  {
   "cell_type": "code",
   "execution_count": 63,
   "id": "610edcd9",
   "metadata": {},
   "outputs": [],
   "source": [
    "class one:\n",
    "    def one_fun(self):\n",
    "        print(\"I am class one\")"
   ]
  },
  {
   "cell_type": "code",
   "execution_count": 64,
   "id": "28b33e8e",
   "metadata": {},
   "outputs": [],
   "source": [
    "class two:\n",
    "    def two_fun(self):\n",
    "        print(\"I am class two\")"
   ]
  },
  {
   "cell_type": "code",
   "execution_count": 65,
   "id": "6b288299",
   "metadata": {},
   "outputs": [],
   "source": [
    "class three(one,two):\n",
    "    def three_fun(self):\n",
    "        print(\"I am class three\")"
   ]
  },
  {
   "cell_type": "code",
   "execution_count": 66,
   "id": "7d925a7f",
   "metadata": {},
   "outputs": [],
   "source": [
    "obj_three = three()"
   ]
  },
  {
   "cell_type": "code",
   "execution_count": 67,
   "id": "f9e31161",
   "metadata": {},
   "outputs": [
    {
     "name": "stdout",
     "output_type": "stream",
     "text": [
      "I am class one\n"
     ]
    }
   ],
   "source": [
    "obj_three.one_fun()"
   ]
  },
  {
   "cell_type": "code",
   "execution_count": 68,
   "id": "9f2a43b2",
   "metadata": {},
   "outputs": [
    {
     "name": "stdout",
     "output_type": "stream",
     "text": [
      "I am class two\n"
     ]
    }
   ],
   "source": [
    "obj_three.two_fun()"
   ]
  },
  {
   "cell_type": "code",
   "execution_count": 69,
   "id": "42872976",
   "metadata": {},
   "outputs": [
    {
     "name": "stdout",
     "output_type": "stream",
     "text": [
      "I am class three\n"
     ]
    }
   ],
   "source": [
    "obj_three.three_fun()"
   ]
  },
  {
   "cell_type": "markdown",
   "id": "cf9a22b8",
   "metadata": {},
   "source": [
    "#### Q 4. What are getter and setter in python? Create a class and create a getter and a setter method in this class.\n",
    "------>>>\n",
    "- getter and setter method we can achive encapsulation\n",
    "- Basically in encapsulation we declared attribute is private so no any other outside class element access it so just change the values or set the value we can be used __setter__ function and achived the value that time we used the __getter__ function"
   ]
  },
  {
   "cell_type": "code",
   "execution_count": 81,
   "id": "2ec8aabb",
   "metadata": {},
   "outputs": [],
   "source": [
    "class test:\n",
    "    def __init__(self,name, Id ,salary):\n",
    "        self.__name = name\n",
    "        self.__Id = Id\n",
    "        self.__salary = salary\n",
    "        \n",
    "    def set_Id(self,Id):\n",
    "        self.__Id = Id\n",
    "        \n",
    "    def get_Id(self):\n",
    "        return self.__Id\n",
    "    "
   ]
  },
  {
   "cell_type": "code",
   "execution_count": 82,
   "id": "6c98e16f",
   "metadata": {},
   "outputs": [],
   "source": [
    "obj = test(\"Jay\",111,50000)"
   ]
  },
  {
   "cell_type": "code",
   "execution_count": 83,
   "id": "4a342ddc",
   "metadata": {},
   "outputs": [],
   "source": [
    "obj.set_Id(113)"
   ]
  },
  {
   "cell_type": "code",
   "execution_count": 84,
   "id": "04c986c1",
   "metadata": {},
   "outputs": [
    {
     "data": {
      "text/plain": [
       "113"
      ]
     },
     "execution_count": 84,
     "metadata": {},
     "output_type": "execute_result"
    }
   ],
   "source": [
    "obj.get_Id()"
   ]
  },
  {
   "cell_type": "markdown",
   "id": "6eb83c64",
   "metadata": {},
   "source": [
    "#### Q5.What is method overriding in python? Write a python code to demonstrate method overriding.\n",
    "----->>> When same method name and parameter is also same are declare in parent and child class but the behaviour is different is known as __method overriding__."
   ]
  },
  {
   "cell_type": "code",
   "execution_count": 89,
   "id": "f5c3988c",
   "metadata": {},
   "outputs": [],
   "source": [
    "class method_overriding_parent:\n",
    "    def calculation(self,a,b):\n",
    "        return a+b"
   ]
  },
  {
   "cell_type": "code",
   "execution_count": 90,
   "id": "4a5a65cc",
   "metadata": {},
   "outputs": [],
   "source": [
    "class method_overriding_child(method_overriding_parent):\n",
    "    def calculation(self,a,b):\n",
    "        return a*b"
   ]
  },
  {
   "cell_type": "code",
   "execution_count": 91,
   "id": "b2b52557",
   "metadata": {},
   "outputs": [],
   "source": [
    "obj_child = method_overriding_child()"
   ]
  },
  {
   "cell_type": "code",
   "execution_count": 93,
   "id": "2d0237c2",
   "metadata": {},
   "outputs": [
    {
     "data": {
      "text/plain": [
       "20"
      ]
     },
     "execution_count": 93,
     "metadata": {},
     "output_type": "execute_result"
    }
   ],
   "source": [
    "obj_child.calculation(4,5)"
   ]
  },
  {
   "cell_type": "code",
   "execution_count": 94,
   "id": "e5e384cb",
   "metadata": {},
   "outputs": [],
   "source": [
    "obj_parent = method_overriding_parent()"
   ]
  },
  {
   "cell_type": "code",
   "execution_count": 95,
   "id": "2939c0c9",
   "metadata": {},
   "outputs": [
    {
     "data": {
      "text/plain": [
       "9"
      ]
     },
     "execution_count": 95,
     "metadata": {},
     "output_type": "execute_result"
    }
   ],
   "source": [
    "obj_parent.calculation(4,5)"
   ]
  },
  {
   "cell_type": "code",
   "execution_count": null,
   "id": "74945161",
   "metadata": {},
   "outputs": [],
   "source": []
  }
 ],
 "metadata": {
  "kernelspec": {
   "display_name": "Python 3 (ipykernel)",
   "language": "python",
   "name": "python3"
  },
  "language_info": {
   "codemirror_mode": {
    "name": "ipython",
    "version": 3
   },
   "file_extension": ".py",
   "mimetype": "text/x-python",
   "name": "python",
   "nbconvert_exporter": "python",
   "pygments_lexer": "ipython3",
   "version": "3.11.5"
  }
 },
 "nbformat": 4,
 "nbformat_minor": 5
}
